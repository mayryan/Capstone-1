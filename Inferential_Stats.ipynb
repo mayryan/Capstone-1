{
 "cells": [
  {
   "cell_type": "code",
   "execution_count": 1,
   "metadata": {
    "collapsed": false
   },
   "outputs": [],
   "source": [
    "import pandas as pd\n",
    "import numpy as np\n",
    "import seaborn as sns\n",
    "import matplotlib.pyplot as plt\n",
    "from scipy.stats import norm\n",
    "import scipy.stats as stats\n",
    "import math\n",
    "pd.set_option('float_format', '{:f}'.format)\n",
    "%matplotlib inline"
   ]
  },
  {
   "cell_type": "code",
   "execution_count": 2,
   "metadata": {
    "collapsed": true
   },
   "outputs": [],
   "source": [
    "queens=pd.read_csv('queens_clean.csv', low_memory=False)\n",
    "brooklyn=pd.read_csv('brooklyn_clean.csv', low_memory=False)"
   ]
  },
  {
   "cell_type": "code",
   "execution_count": 3,
   "metadata": {
    "collapsed": false
   },
   "outputs": [],
   "source": [
    "queens['building_class_category']=queens['building_class_category'].str.replace('                        ','')\n",
    "brooklyn['building_class_category']=brooklyn['building_class_category'].str.replace('                    ','')\n",
    "brooklyn['building_class_category']=brooklyn['building_class_category'].str.replace('\\d+','')\n",
    "queens['building_class_category']=queens['building_class_category'].str.replace('\\d+','')\n",
    "queens['building_class_category']=queens['building_class_category'].str.replace('  ','')\n",
    "queens['building_class_category']=queens['building_class_category'].str.replace('  ','')\n",
    "brooklyn['building_class_category']=brooklyn['building_class_category'].str.replace('DWELLINGS','HOMES')\n",
    "brooklyn['building_class_category']=brooklyn['building_class_category'].str.replace('  ','')\n",
    "queens['building_class_category']=queens['building_class_category'].str.replace('DWELLINGS','HOMES')\n",
    "brooklyn['neighborhood']=brooklyn['neighborhood'].str.replace(' ', '_')\n",
    "brooklyn['neighborhood']=brooklyn['neighborhood'].str.replace('____','')\n",
    "brooklyn['neighborhood']=brooklyn['neighborhood'].str.replace('__','')\n",
    "queens['neighborhood']=queens['neighborhood'].str.replace(' ', '_')"
   ]
  },
  {
   "cell_type": "code",
   "execution_count": 4,
   "metadata": {
    "collapsed": false
   },
   "outputs": [
    {
     "data": {
      "text/plain": [
       "ONE_FAMILY_HOMES                          23703\n",
       "TWO_FAMILY_HOMES                          15925\n",
       "COOPS_-_ELEVATOR_APARTMENTS_               8463\n",
       "THREE_FAMILY_HOMES                         3490\n",
       "CONDOS_-_ELEVATOR_APARTMENTS               2862\n",
       "COOPS_-_WALKUP_APARTMENTS_                 2604\n",
       "RENTALS_-_WALKUP_APARTMENTS_               1580\n",
       "TAX_CLASSVACANT_LAND_                      1238\n",
       "TAX_CLASSCONDOS                             924\n",
       "STORE_BUILDINGS_                            787\n",
       "CONDOS_-_WALKUP_APARTMENTS                  747\n",
       "CONDO_PARKING_                              646\n",
       "COMMERCIAL_GARAGES                          501\n",
       "RENTALS_-_-_UNIT_                           382\n",
       "COMMERCIAL_CONDOS_                          299\n",
       "TAX_CLASS-_OTHER_                           280\n",
       "WAREHOUSES                                  250\n",
       "FACTORIES_                                  249\n",
       "CONDO_COOPS_                                230\n",
       "COMMERCIAL_VACANT_LAND                      223\n",
       "OFFICE_BUILDINGS                            194\n",
       "CONDOPS_                                    158\n",
       "CONDO_OFFICE_BUILDINGS                      134\n",
       "RENTALS_-_ELEVATOR_APARTMENTS_              131\n",
       "CONDOS_-_-_UNIT_RESIDENTIAL                 126\n",
       "RELIGIOUS_FACILITIES                         56\n",
       "CONDO_NON-BUSINESS_STORAGE                   35\n",
       "CONDO_STORE_BUILDINGS_                       29\n",
       "HOSPITAL_AND_HEALTH_FACILITIES               19\n",
       "INDOOR_PUBLIC_AND_CULTURAL_FACILITIES_       19\n",
       "CONDO_CULTURAL/MEDICAL/EDUCATIONAL/ETC       16\n",
       "CONDO_TERRACES/GARDENS/CABANAS               13\n",
       "LOFT_BUILDINGS                               12\n",
       "CONDOS_-_-_UNIT_WITH_COMMERCIAL_UNIT_        12\n",
       "EDUCATIONAL_FACILITIES                       12\n",
       "THEATRES                                     10\n",
       "OTHER_HOTELS                                  7\n",
       "ASYLUMS_AND_HOMES_                            6\n",
       "OUTDOOR_RECREATIONAL_FACILITIES_              6\n",
       "TAX_CLASS-_UTILITY_PROPERTIES                 4\n",
       "A_CONDO-RENTALS_                              3\n",
       "LUXURY_HOTELS_                                2\n",
       "TRANSPORTATION_FACILITIES_                    2\n",
       "CONDO_WAREHOUSES/FACTORY/INDUS                1\n",
       "TAX_CLASS-_UNTILITY_PROPERTIES_               1\n",
       "Name: building_class_category, dtype: int64"
      ]
     },
     "execution_count": 4,
     "metadata": {},
     "output_type": "execute_result"
    }
   ],
   "source": [
    "queens['building_class_category']=queens['building_class_category'].str.replace(' ','_')\n",
    "brooklyn['building_class_category']=brooklyn['building_class_category'].str.replace(' ','_')\n",
    "queens.building_class_category.value_counts()"
   ]
  },
  {
   "cell_type": "code",
   "execution_count": 5,
   "metadata": {
    "collapsed": false
   },
   "outputs": [
    {
     "data": {
      "text/html": [
       "<div>\n",
       "<table border=\"1\" class=\"dataframe\">\n",
       "  <thead>\n",
       "    <tr style=\"text-align: right;\">\n",
       "      <th></th>\n",
       "      <th>neighborhood</th>\n",
       "      <th>building_class_category</th>\n",
       "    </tr>\n",
       "  </thead>\n",
       "  <tbody>\n",
       "    <tr>\n",
       "      <th>0</th>\n",
       "      <td>AIRPORT_LA_GUARDIA</td>\n",
       "      <td>ONE_FAMILY_HOMES</td>\n",
       "    </tr>\n",
       "    <tr>\n",
       "      <th>1</th>\n",
       "      <td>AIRPORT_LA_GUARDIA</td>\n",
       "      <td>ONE_FAMILY_HOMES</td>\n",
       "    </tr>\n",
       "    <tr>\n",
       "      <th>2</th>\n",
       "      <td>AIRPORT_LA_GUARDIA</td>\n",
       "      <td>ONE_FAMILY_HOMES</td>\n",
       "    </tr>\n",
       "    <tr>\n",
       "      <th>3</th>\n",
       "      <td>AIRPORT_LA_GUARDIA</td>\n",
       "      <td>ONE_FAMILY_HOMES</td>\n",
       "    </tr>\n",
       "    <tr>\n",
       "      <th>4</th>\n",
       "      <td>AIRPORT_LA_GUARDIA</td>\n",
       "      <td>ONE_FAMILY_HOMES</td>\n",
       "    </tr>\n",
       "    <tr>\n",
       "      <th>5</th>\n",
       "      <td>AIRPORT_LA_GUARDIA</td>\n",
       "      <td>ONE_FAMILY_HOMES</td>\n",
       "    </tr>\n",
       "    <tr>\n",
       "      <th>6</th>\n",
       "      <td>AIRPORT_LA_GUARDIA</td>\n",
       "      <td>ONE_FAMILY_HOMES</td>\n",
       "    </tr>\n",
       "    <tr>\n",
       "      <th>7</th>\n",
       "      <td>AIRPORT_LA_GUARDIA</td>\n",
       "      <td>TWO_FAMILY_HOMES</td>\n",
       "    </tr>\n",
       "    <tr>\n",
       "      <th>8</th>\n",
       "      <td>AIRPORT_LA_GUARDIA</td>\n",
       "      <td>THREE_FAMILY_HOMES</td>\n",
       "    </tr>\n",
       "    <tr>\n",
       "      <th>9</th>\n",
       "      <td>AIRPORT_LA_GUARDIA</td>\n",
       "      <td>THREE_FAMILY_HOMES</td>\n",
       "    </tr>\n",
       "    <tr>\n",
       "      <th>10</th>\n",
       "      <td>AIRPORT_LA_GUARDIA</td>\n",
       "      <td>CONDOS_-_WALKUP_APARTMENTS</td>\n",
       "    </tr>\n",
       "    <tr>\n",
       "      <th>11</th>\n",
       "      <td>AIRPORT_LA_GUARDIA</td>\n",
       "      <td>CONDOS_-_WALKUP_APARTMENTS</td>\n",
       "    </tr>\n",
       "    <tr>\n",
       "      <th>12</th>\n",
       "      <td>AIRPORT_LA_GUARDIA</td>\n",
       "      <td>CONDOS_-_WALKUP_APARTMENTS</td>\n",
       "    </tr>\n",
       "    <tr>\n",
       "      <th>13</th>\n",
       "      <td>AIRPORT_LA_GUARDIA</td>\n",
       "      <td>CONDOS_-_WALKUP_APARTMENTS</td>\n",
       "    </tr>\n",
       "    <tr>\n",
       "      <th>14</th>\n",
       "      <td>AIRPORT_LA_GUARDIA</td>\n",
       "      <td>CONDOS_-_WALKUP_APARTMENTS</td>\n",
       "    </tr>\n",
       "    <tr>\n",
       "      <th>15</th>\n",
       "      <td>AIRPORT_LA_GUARDIA</td>\n",
       "      <td>CONDOS_-_WALKUP_APARTMENTS</td>\n",
       "    </tr>\n",
       "    <tr>\n",
       "      <th>16</th>\n",
       "      <td>AIRPORT_LA_GUARDIA</td>\n",
       "      <td>CONDOS_-_WALKUP_APARTMENTS</td>\n",
       "    </tr>\n",
       "    <tr>\n",
       "      <th>17</th>\n",
       "      <td>AIRPORT_LA_GUARDIA</td>\n",
       "      <td>CONDOS_-_WALKUP_APARTMENTS</td>\n",
       "    </tr>\n",
       "    <tr>\n",
       "      <th>18</th>\n",
       "      <td>AIRPORT_LA_GUARDIA</td>\n",
       "      <td>CONDOS_-_WALKUP_APARTMENTS</td>\n",
       "    </tr>\n",
       "    <tr>\n",
       "      <th>19</th>\n",
       "      <td>AIRPORT_LA_GUARDIA</td>\n",
       "      <td>CONDOS_-_WALKUP_APARTMENTS</td>\n",
       "    </tr>\n",
       "    <tr>\n",
       "      <th>20</th>\n",
       "      <td>ARVERNE_</td>\n",
       "      <td>ONE_FAMILY_HOMES</td>\n",
       "    </tr>\n",
       "    <tr>\n",
       "      <th>21</th>\n",
       "      <td>ARVERNE_</td>\n",
       "      <td>ONE_FAMILY_HOMES</td>\n",
       "    </tr>\n",
       "    <tr>\n",
       "      <th>22</th>\n",
       "      <td>ARVERNE_</td>\n",
       "      <td>ONE_FAMILY_HOMES</td>\n",
       "    </tr>\n",
       "    <tr>\n",
       "      <th>23</th>\n",
       "      <td>ARVERNE_</td>\n",
       "      <td>ONE_FAMILY_HOMES</td>\n",
       "    </tr>\n",
       "    <tr>\n",
       "      <th>24</th>\n",
       "      <td>ARVERNE_</td>\n",
       "      <td>ONE_FAMILY_HOMES</td>\n",
       "    </tr>\n",
       "    <tr>\n",
       "      <th>25</th>\n",
       "      <td>ARVERNE_</td>\n",
       "      <td>ONE_FAMILY_HOMES</td>\n",
       "    </tr>\n",
       "    <tr>\n",
       "      <th>26</th>\n",
       "      <td>ARVERNE_</td>\n",
       "      <td>ONE_FAMILY_HOMES</td>\n",
       "    </tr>\n",
       "    <tr>\n",
       "      <th>27</th>\n",
       "      <td>ARVERNE_</td>\n",
       "      <td>ONE_FAMILY_HOMES</td>\n",
       "    </tr>\n",
       "    <tr>\n",
       "      <th>28</th>\n",
       "      <td>ARVERNE_</td>\n",
       "      <td>ONE_FAMILY_HOMES</td>\n",
       "    </tr>\n",
       "    <tr>\n",
       "      <th>29</th>\n",
       "      <td>ARVERNE_</td>\n",
       "      <td>ONE_FAMILY_HOMES</td>\n",
       "    </tr>\n",
       "    <tr>\n",
       "      <th>...</th>\n",
       "      <td>...</td>\n",
       "      <td>...</td>\n",
       "    </tr>\n",
       "    <tr>\n",
       "      <th>66361</th>\n",
       "      <td>WOODSIDE</td>\n",
       "      <td>CONDO_PARKING_</td>\n",
       "    </tr>\n",
       "    <tr>\n",
       "      <th>66362</th>\n",
       "      <td>WOODSIDE</td>\n",
       "      <td>CONDO_PARKING_</td>\n",
       "    </tr>\n",
       "    <tr>\n",
       "      <th>66363</th>\n",
       "      <td>WOODSIDE</td>\n",
       "      <td>CONDO_PARKING_</td>\n",
       "    </tr>\n",
       "    <tr>\n",
       "      <th>66364</th>\n",
       "      <td>WOODSIDE</td>\n",
       "      <td>CONDO_PARKING_</td>\n",
       "    </tr>\n",
       "    <tr>\n",
       "      <th>66365</th>\n",
       "      <td>WOODSIDE</td>\n",
       "      <td>CONDO_PARKING_</td>\n",
       "    </tr>\n",
       "    <tr>\n",
       "      <th>66366</th>\n",
       "      <td>WOODSIDE</td>\n",
       "      <td>CONDO_PARKING_</td>\n",
       "    </tr>\n",
       "    <tr>\n",
       "      <th>66367</th>\n",
       "      <td>WOODSIDE</td>\n",
       "      <td>CONDO_PARKING_</td>\n",
       "    </tr>\n",
       "    <tr>\n",
       "      <th>66368</th>\n",
       "      <td>WOODSIDE</td>\n",
       "      <td>CONDO_PARKING_</td>\n",
       "    </tr>\n",
       "    <tr>\n",
       "      <th>66369</th>\n",
       "      <td>WOODSIDE</td>\n",
       "      <td>CONDO_PARKING_</td>\n",
       "    </tr>\n",
       "    <tr>\n",
       "      <th>66370</th>\n",
       "      <td>WOODSIDE</td>\n",
       "      <td>CONDO_PARKING_</td>\n",
       "    </tr>\n",
       "    <tr>\n",
       "      <th>66371</th>\n",
       "      <td>WOODSIDE</td>\n",
       "      <td>CONDO_PARKING_</td>\n",
       "    </tr>\n",
       "    <tr>\n",
       "      <th>66372</th>\n",
       "      <td>WOODSIDE</td>\n",
       "      <td>CONDO_PARKING_</td>\n",
       "    </tr>\n",
       "    <tr>\n",
       "      <th>66373</th>\n",
       "      <td>WOODSIDE</td>\n",
       "      <td>CONDO_PARKING_</td>\n",
       "    </tr>\n",
       "    <tr>\n",
       "      <th>66374</th>\n",
       "      <td>WOODSIDE</td>\n",
       "      <td>CONDO_PARKING_</td>\n",
       "    </tr>\n",
       "    <tr>\n",
       "      <th>66375</th>\n",
       "      <td>WOODSIDE</td>\n",
       "      <td>CONDO_PARKING_</td>\n",
       "    </tr>\n",
       "    <tr>\n",
       "      <th>66376</th>\n",
       "      <td>WOODSIDE</td>\n",
       "      <td>CONDO_PARKING_</td>\n",
       "    </tr>\n",
       "    <tr>\n",
       "      <th>66377</th>\n",
       "      <td>WOODSIDE</td>\n",
       "      <td>CONDO_PARKING_</td>\n",
       "    </tr>\n",
       "    <tr>\n",
       "      <th>66378</th>\n",
       "      <td>WOODSIDE</td>\n",
       "      <td>CONDO_PARKING_</td>\n",
       "    </tr>\n",
       "    <tr>\n",
       "      <th>66379</th>\n",
       "      <td>WOODSIDE</td>\n",
       "      <td>CONDO_PARKING_</td>\n",
       "    </tr>\n",
       "    <tr>\n",
       "      <th>66380</th>\n",
       "      <td>WOODSIDE</td>\n",
       "      <td>CONDO_PARKING_</td>\n",
       "    </tr>\n",
       "    <tr>\n",
       "      <th>66381</th>\n",
       "      <td>WOODSIDE</td>\n",
       "      <td>CONDO_PARKING_</td>\n",
       "    </tr>\n",
       "    <tr>\n",
       "      <th>66382</th>\n",
       "      <td>WOODSIDE</td>\n",
       "      <td>CONDO_PARKING_</td>\n",
       "    </tr>\n",
       "    <tr>\n",
       "      <th>66383</th>\n",
       "      <td>WOODSIDE</td>\n",
       "      <td>CONDO_PARKING_</td>\n",
       "    </tr>\n",
       "    <tr>\n",
       "      <th>66384</th>\n",
       "      <td>WOODSIDE</td>\n",
       "      <td>CONDO_PARKING_</td>\n",
       "    </tr>\n",
       "    <tr>\n",
       "      <th>66385</th>\n",
       "      <td>WOODSIDE</td>\n",
       "      <td>CONDO_STORE_BUILDINGS_</td>\n",
       "    </tr>\n",
       "    <tr>\n",
       "      <th>66386</th>\n",
       "      <td>WOODSIDE</td>\n",
       "      <td>CONDO_STORE_BUILDINGS_</td>\n",
       "    </tr>\n",
       "    <tr>\n",
       "      <th>66387</th>\n",
       "      <td>WOODSIDE</td>\n",
       "      <td>CONDO_STORE_BUILDINGS_</td>\n",
       "    </tr>\n",
       "    <tr>\n",
       "      <th>66388</th>\n",
       "      <td>WOODSIDE</td>\n",
       "      <td>CONDO_STORE_BUILDINGS_</td>\n",
       "    </tr>\n",
       "    <tr>\n",
       "      <th>66389</th>\n",
       "      <td>WOODSIDE</td>\n",
       "      <td>CONDO_STORE_BUILDINGS_</td>\n",
       "    </tr>\n",
       "    <tr>\n",
       "      <th>66390</th>\n",
       "      <td>WOODSIDE</td>\n",
       "      <td>CONDO_STORE_BUILDINGS_</td>\n",
       "    </tr>\n",
       "  </tbody>\n",
       "</table>\n",
       "<p>66391 rows × 2 columns</p>\n",
       "</div>"
      ],
      "text/plain": [
       "             neighborhood     building_class_category\n",
       "0      AIRPORT_LA_GUARDIA            ONE_FAMILY_HOMES\n",
       "1      AIRPORT_LA_GUARDIA            ONE_FAMILY_HOMES\n",
       "2      AIRPORT_LA_GUARDIA            ONE_FAMILY_HOMES\n",
       "3      AIRPORT_LA_GUARDIA            ONE_FAMILY_HOMES\n",
       "4      AIRPORT_LA_GUARDIA            ONE_FAMILY_HOMES\n",
       "5      AIRPORT_LA_GUARDIA            ONE_FAMILY_HOMES\n",
       "6      AIRPORT_LA_GUARDIA            ONE_FAMILY_HOMES\n",
       "7      AIRPORT_LA_GUARDIA            TWO_FAMILY_HOMES\n",
       "8      AIRPORT_LA_GUARDIA          THREE_FAMILY_HOMES\n",
       "9      AIRPORT_LA_GUARDIA          THREE_FAMILY_HOMES\n",
       "10     AIRPORT_LA_GUARDIA  CONDOS_-_WALKUP_APARTMENTS\n",
       "11     AIRPORT_LA_GUARDIA  CONDOS_-_WALKUP_APARTMENTS\n",
       "12     AIRPORT_LA_GUARDIA  CONDOS_-_WALKUP_APARTMENTS\n",
       "13     AIRPORT_LA_GUARDIA  CONDOS_-_WALKUP_APARTMENTS\n",
       "14     AIRPORT_LA_GUARDIA  CONDOS_-_WALKUP_APARTMENTS\n",
       "15     AIRPORT_LA_GUARDIA  CONDOS_-_WALKUP_APARTMENTS\n",
       "16     AIRPORT_LA_GUARDIA  CONDOS_-_WALKUP_APARTMENTS\n",
       "17     AIRPORT_LA_GUARDIA  CONDOS_-_WALKUP_APARTMENTS\n",
       "18     AIRPORT_LA_GUARDIA  CONDOS_-_WALKUP_APARTMENTS\n",
       "19     AIRPORT_LA_GUARDIA  CONDOS_-_WALKUP_APARTMENTS\n",
       "20               ARVERNE_            ONE_FAMILY_HOMES\n",
       "21               ARVERNE_            ONE_FAMILY_HOMES\n",
       "22               ARVERNE_            ONE_FAMILY_HOMES\n",
       "23               ARVERNE_            ONE_FAMILY_HOMES\n",
       "24               ARVERNE_            ONE_FAMILY_HOMES\n",
       "25               ARVERNE_            ONE_FAMILY_HOMES\n",
       "26               ARVERNE_            ONE_FAMILY_HOMES\n",
       "27               ARVERNE_            ONE_FAMILY_HOMES\n",
       "28               ARVERNE_            ONE_FAMILY_HOMES\n",
       "29               ARVERNE_            ONE_FAMILY_HOMES\n",
       "...                   ...                         ...\n",
       "66361            WOODSIDE              CONDO_PARKING_\n",
       "66362            WOODSIDE              CONDO_PARKING_\n",
       "66363            WOODSIDE              CONDO_PARKING_\n",
       "66364            WOODSIDE              CONDO_PARKING_\n",
       "66365            WOODSIDE              CONDO_PARKING_\n",
       "66366            WOODSIDE              CONDO_PARKING_\n",
       "66367            WOODSIDE              CONDO_PARKING_\n",
       "66368            WOODSIDE              CONDO_PARKING_\n",
       "66369            WOODSIDE              CONDO_PARKING_\n",
       "66370            WOODSIDE              CONDO_PARKING_\n",
       "66371            WOODSIDE              CONDO_PARKING_\n",
       "66372            WOODSIDE              CONDO_PARKING_\n",
       "66373            WOODSIDE              CONDO_PARKING_\n",
       "66374            WOODSIDE              CONDO_PARKING_\n",
       "66375            WOODSIDE              CONDO_PARKING_\n",
       "66376            WOODSIDE              CONDO_PARKING_\n",
       "66377            WOODSIDE              CONDO_PARKING_\n",
       "66378            WOODSIDE              CONDO_PARKING_\n",
       "66379            WOODSIDE              CONDO_PARKING_\n",
       "66380            WOODSIDE              CONDO_PARKING_\n",
       "66381            WOODSIDE              CONDO_PARKING_\n",
       "66382            WOODSIDE              CONDO_PARKING_\n",
       "66383            WOODSIDE              CONDO_PARKING_\n",
       "66384            WOODSIDE              CONDO_PARKING_\n",
       "66385            WOODSIDE      CONDO_STORE_BUILDINGS_\n",
       "66386            WOODSIDE      CONDO_STORE_BUILDINGS_\n",
       "66387            WOODSIDE      CONDO_STORE_BUILDINGS_\n",
       "66388            WOODSIDE      CONDO_STORE_BUILDINGS_\n",
       "66389            WOODSIDE      CONDO_STORE_BUILDINGS_\n",
       "66390            WOODSIDE      CONDO_STORE_BUILDINGS_\n",
       "\n",
       "[66391 rows x 2 columns]"
      ]
     },
     "execution_count": 5,
     "metadata": {},
     "output_type": "execute_result"
    }
   ],
   "source": [
    "queens[['neighborhood', 'building_class_category']].apply(lambda x: x.astype('category'))"
   ]
  },
  {
   "cell_type": "code",
   "execution_count": 6,
   "metadata": {
    "collapsed": false
   },
   "outputs": [
    {
     "data": {
      "text/html": [
       "<div>\n",
       "<table border=\"1\" class=\"dataframe\">\n",
       "  <thead>\n",
       "    <tr style=\"text-align: right;\">\n",
       "      <th></th>\n",
       "      <th>neighborhood</th>\n",
       "      <th>building_class_category</th>\n",
       "    </tr>\n",
       "  </thead>\n",
       "  <tbody>\n",
       "    <tr>\n",
       "      <th>0</th>\n",
       "      <td>BATH_BEACH</td>\n",
       "      <td>ONE_FAMILY_HOMES</td>\n",
       "    </tr>\n",
       "    <tr>\n",
       "      <th>1</th>\n",
       "      <td>BATH_BEACH</td>\n",
       "      <td>ONE_FAMILY_HOMES</td>\n",
       "    </tr>\n",
       "    <tr>\n",
       "      <th>2</th>\n",
       "      <td>BATH_BEACH</td>\n",
       "      <td>ONE_FAMILY_HOMES</td>\n",
       "    </tr>\n",
       "    <tr>\n",
       "      <th>3</th>\n",
       "      <td>BATH_BEACH</td>\n",
       "      <td>ONE_FAMILY_HOMES</td>\n",
       "    </tr>\n",
       "    <tr>\n",
       "      <th>4</th>\n",
       "      <td>BATH_BEACH</td>\n",
       "      <td>ONE_FAMILY_HOMES</td>\n",
       "    </tr>\n",
       "    <tr>\n",
       "      <th>5</th>\n",
       "      <td>BATH_BEACH</td>\n",
       "      <td>ONE_FAMILY_HOMES</td>\n",
       "    </tr>\n",
       "    <tr>\n",
       "      <th>6</th>\n",
       "      <td>BATH_BEACH</td>\n",
       "      <td>ONE_FAMILY_HOMES</td>\n",
       "    </tr>\n",
       "    <tr>\n",
       "      <th>7</th>\n",
       "      <td>BATH_BEACH</td>\n",
       "      <td>ONE_FAMILY_HOMES</td>\n",
       "    </tr>\n",
       "    <tr>\n",
       "      <th>8</th>\n",
       "      <td>BATH_BEACH</td>\n",
       "      <td>ONE_FAMILY_HOMES</td>\n",
       "    </tr>\n",
       "    <tr>\n",
       "      <th>9</th>\n",
       "      <td>BATH_BEACH</td>\n",
       "      <td>ONE_FAMILY_HOMES</td>\n",
       "    </tr>\n",
       "    <tr>\n",
       "      <th>10</th>\n",
       "      <td>BATH_BEACH</td>\n",
       "      <td>ONE_FAMILY_HOMES</td>\n",
       "    </tr>\n",
       "    <tr>\n",
       "      <th>11</th>\n",
       "      <td>BATH_BEACH</td>\n",
       "      <td>ONE_FAMILY_HOMES</td>\n",
       "    </tr>\n",
       "    <tr>\n",
       "      <th>12</th>\n",
       "      <td>BATH_BEACH</td>\n",
       "      <td>ONE_FAMILY_HOMES</td>\n",
       "    </tr>\n",
       "    <tr>\n",
       "      <th>13</th>\n",
       "      <td>BATH_BEACH</td>\n",
       "      <td>ONE_FAMILY_HOMES</td>\n",
       "    </tr>\n",
       "    <tr>\n",
       "      <th>14</th>\n",
       "      <td>BATH_BEACH</td>\n",
       "      <td>ONE_FAMILY_HOMES</td>\n",
       "    </tr>\n",
       "    <tr>\n",
       "      <th>15</th>\n",
       "      <td>BATH_BEACH</td>\n",
       "      <td>ONE_FAMILY_HOMES</td>\n",
       "    </tr>\n",
       "    <tr>\n",
       "      <th>16</th>\n",
       "      <td>BATH_BEACH</td>\n",
       "      <td>ONE_FAMILY_HOMES</td>\n",
       "    </tr>\n",
       "    <tr>\n",
       "      <th>17</th>\n",
       "      <td>BATH_BEACH</td>\n",
       "      <td>ONE_FAMILY_HOMES</td>\n",
       "    </tr>\n",
       "    <tr>\n",
       "      <th>18</th>\n",
       "      <td>BATH_BEACH</td>\n",
       "      <td>ONE_FAMILY_HOMES</td>\n",
       "    </tr>\n",
       "    <tr>\n",
       "      <th>19</th>\n",
       "      <td>BATH_BEACH</td>\n",
       "      <td>ONE_FAMILY_HOMES</td>\n",
       "    </tr>\n",
       "    <tr>\n",
       "      <th>20</th>\n",
       "      <td>BATH_BEACH</td>\n",
       "      <td>ONE_FAMILY_HOMES</td>\n",
       "    </tr>\n",
       "    <tr>\n",
       "      <th>21</th>\n",
       "      <td>BATH_BEACH</td>\n",
       "      <td>ONE_FAMILY_HOMES</td>\n",
       "    </tr>\n",
       "    <tr>\n",
       "      <th>22</th>\n",
       "      <td>BATH_BEACH</td>\n",
       "      <td>ONE_FAMILY_HOMES</td>\n",
       "    </tr>\n",
       "    <tr>\n",
       "      <th>23</th>\n",
       "      <td>BATH_BEACH</td>\n",
       "      <td>ONE_FAMILY_HOMES</td>\n",
       "    </tr>\n",
       "    <tr>\n",
       "      <th>24</th>\n",
       "      <td>BATH_BEACH</td>\n",
       "      <td>ONE_FAMILY_HOMES</td>\n",
       "    </tr>\n",
       "    <tr>\n",
       "      <th>25</th>\n",
       "      <td>BATH_BEACH</td>\n",
       "      <td>ONE_FAMILY_HOMES</td>\n",
       "    </tr>\n",
       "    <tr>\n",
       "      <th>26</th>\n",
       "      <td>BATH_BEACH</td>\n",
       "      <td>ONE_FAMILY_HOMES</td>\n",
       "    </tr>\n",
       "    <tr>\n",
       "      <th>27</th>\n",
       "      <td>BATH_BEACH</td>\n",
       "      <td>ONE_FAMILY_HOMES</td>\n",
       "    </tr>\n",
       "    <tr>\n",
       "      <th>28</th>\n",
       "      <td>BATH_BEACH</td>\n",
       "      <td>ONE_FAMILY_HOMES</td>\n",
       "    </tr>\n",
       "    <tr>\n",
       "      <th>29</th>\n",
       "      <td>BATH_BEACH</td>\n",
       "      <td>ONE_FAMILY_HOMES</td>\n",
       "    </tr>\n",
       "    <tr>\n",
       "      <th>...</th>\n",
       "      <td>...</td>\n",
       "      <td>...</td>\n",
       "    </tr>\n",
       "    <tr>\n",
       "      <th>59195</th>\n",
       "      <td>WYCKOFF_HEIGHTS</td>\n",
       "      <td>RENTALS_-_WALKUP_APARTMENTS_</td>\n",
       "    </tr>\n",
       "    <tr>\n",
       "      <th>59196</th>\n",
       "      <td>WYCKOFF_HEIGHTS</td>\n",
       "      <td>RENTALS_-_WALKUP_APARTMENTS_</td>\n",
       "    </tr>\n",
       "    <tr>\n",
       "      <th>59197</th>\n",
       "      <td>WYCKOFF_HEIGHTS</td>\n",
       "      <td>RENTALS_-_WALKUP_APARTMENTS_</td>\n",
       "    </tr>\n",
       "    <tr>\n",
       "      <th>59198</th>\n",
       "      <td>WYCKOFF_HEIGHTS</td>\n",
       "      <td>RENTALS_-_WALKUP_APARTMENTS_</td>\n",
       "    </tr>\n",
       "    <tr>\n",
       "      <th>59199</th>\n",
       "      <td>WYCKOFF_HEIGHTS</td>\n",
       "      <td>RENTALS_-_WALKUP_APARTMENTS_</td>\n",
       "    </tr>\n",
       "    <tr>\n",
       "      <th>59200</th>\n",
       "      <td>WYCKOFF_HEIGHTS</td>\n",
       "      <td>RENTALS_-_WALKUP_APARTMENTS_</td>\n",
       "    </tr>\n",
       "    <tr>\n",
       "      <th>59201</th>\n",
       "      <td>WYCKOFF_HEIGHTS</td>\n",
       "      <td>RENTALS_-_WALKUP_APARTMENTS_</td>\n",
       "    </tr>\n",
       "    <tr>\n",
       "      <th>59202</th>\n",
       "      <td>WYCKOFF_HEIGHTS</td>\n",
       "      <td>CONDOS_-_ELEVATOR_APARTMENTS</td>\n",
       "    </tr>\n",
       "    <tr>\n",
       "      <th>59203</th>\n",
       "      <td>WYCKOFF_HEIGHTS</td>\n",
       "      <td>CONDOS_-_ELEVATOR_APARTMENTS</td>\n",
       "    </tr>\n",
       "    <tr>\n",
       "      <th>59204</th>\n",
       "      <td>WYCKOFF_HEIGHTS</td>\n",
       "      <td>CONDOS_-_ELEVATOR_APARTMENTS</td>\n",
       "    </tr>\n",
       "    <tr>\n",
       "      <th>59205</th>\n",
       "      <td>WYCKOFF_HEIGHTS</td>\n",
       "      <td>CONDOS_-_ELEVATOR_APARTMENTS</td>\n",
       "    </tr>\n",
       "    <tr>\n",
       "      <th>59206</th>\n",
       "      <td>WYCKOFF_HEIGHTS</td>\n",
       "      <td>RENTALS_-_-_UNIT_</td>\n",
       "    </tr>\n",
       "    <tr>\n",
       "      <th>59207</th>\n",
       "      <td>WYCKOFF_HEIGHTS</td>\n",
       "      <td>RENTALS_-_-_UNIT_</td>\n",
       "    </tr>\n",
       "    <tr>\n",
       "      <th>59208</th>\n",
       "      <td>WYCKOFF_HEIGHTS</td>\n",
       "      <td>RENTALS_-_-_UNIT_</td>\n",
       "    </tr>\n",
       "    <tr>\n",
       "      <th>59209</th>\n",
       "      <td>WYCKOFF_HEIGHTS</td>\n",
       "      <td>RENTALS_-_-_UNIT_</td>\n",
       "    </tr>\n",
       "    <tr>\n",
       "      <th>59210</th>\n",
       "      <td>WYCKOFF_HEIGHTS</td>\n",
       "      <td>RENTALS_-_-_UNIT_</td>\n",
       "    </tr>\n",
       "    <tr>\n",
       "      <th>59211</th>\n",
       "      <td>WYCKOFF_HEIGHTS</td>\n",
       "      <td>RENTALS_-_-_UNIT_</td>\n",
       "    </tr>\n",
       "    <tr>\n",
       "      <th>59212</th>\n",
       "      <td>WYCKOFF_HEIGHTS</td>\n",
       "      <td>RENTALS_-_-_UNIT_</td>\n",
       "    </tr>\n",
       "    <tr>\n",
       "      <th>59213</th>\n",
       "      <td>WYCKOFF_HEIGHTS</td>\n",
       "      <td>RENTALS_-_-_UNIT_</td>\n",
       "    </tr>\n",
       "    <tr>\n",
       "      <th>59214</th>\n",
       "      <td>WYCKOFF_HEIGHTS</td>\n",
       "      <td>RENTALS_-_-_UNIT_</td>\n",
       "    </tr>\n",
       "    <tr>\n",
       "      <th>59215</th>\n",
       "      <td>WYCKOFF_HEIGHTS</td>\n",
       "      <td>RENTALS_-_-_UNIT_</td>\n",
       "    </tr>\n",
       "    <tr>\n",
       "      <th>59216</th>\n",
       "      <td>WYCKOFF_HEIGHTS</td>\n",
       "      <td>RENTALS_-_-_UNIT_</td>\n",
       "    </tr>\n",
       "    <tr>\n",
       "      <th>59217</th>\n",
       "      <td>WYCKOFF_HEIGHTS</td>\n",
       "      <td>RENTALS_-_-_UNIT_</td>\n",
       "    </tr>\n",
       "    <tr>\n",
       "      <th>59218</th>\n",
       "      <td>WYCKOFF_HEIGHTS</td>\n",
       "      <td>CONDOS_-_-_UNIT_RESIDENTIAL</td>\n",
       "    </tr>\n",
       "    <tr>\n",
       "      <th>59219</th>\n",
       "      <td>WYCKOFF_HEIGHTS</td>\n",
       "      <td>CONDOS_-_-_UNIT_RESIDENTIAL</td>\n",
       "    </tr>\n",
       "    <tr>\n",
       "      <th>59220</th>\n",
       "      <td>WYCKOFF_HEIGHTS</td>\n",
       "      <td>STORE_BUILDINGS_</td>\n",
       "    </tr>\n",
       "    <tr>\n",
       "      <th>59221</th>\n",
       "      <td>WYCKOFF_HEIGHTS</td>\n",
       "      <td>STORE_BUILDINGS_</td>\n",
       "    </tr>\n",
       "    <tr>\n",
       "      <th>59222</th>\n",
       "      <td>WYCKOFF_HEIGHTS</td>\n",
       "      <td>FACTORIES_</td>\n",
       "    </tr>\n",
       "    <tr>\n",
       "      <th>59223</th>\n",
       "      <td>WYCKOFF_HEIGHTS</td>\n",
       "      <td>FACTORIES_</td>\n",
       "    </tr>\n",
       "    <tr>\n",
       "      <th>59224</th>\n",
       "      <td>WYCKOFF_HEIGHTS</td>\n",
       "      <td>CONDO_PARKING_</td>\n",
       "    </tr>\n",
       "  </tbody>\n",
       "</table>\n",
       "<p>59225 rows × 2 columns</p>\n",
       "</div>"
      ],
      "text/plain": [
       "          neighborhood       building_class_category\n",
       "0           BATH_BEACH              ONE_FAMILY_HOMES\n",
       "1           BATH_BEACH              ONE_FAMILY_HOMES\n",
       "2           BATH_BEACH              ONE_FAMILY_HOMES\n",
       "3           BATH_BEACH              ONE_FAMILY_HOMES\n",
       "4           BATH_BEACH              ONE_FAMILY_HOMES\n",
       "5           BATH_BEACH              ONE_FAMILY_HOMES\n",
       "6           BATH_BEACH              ONE_FAMILY_HOMES\n",
       "7           BATH_BEACH              ONE_FAMILY_HOMES\n",
       "8           BATH_BEACH              ONE_FAMILY_HOMES\n",
       "9           BATH_BEACH              ONE_FAMILY_HOMES\n",
       "10          BATH_BEACH              ONE_FAMILY_HOMES\n",
       "11          BATH_BEACH              ONE_FAMILY_HOMES\n",
       "12          BATH_BEACH              ONE_FAMILY_HOMES\n",
       "13          BATH_BEACH              ONE_FAMILY_HOMES\n",
       "14          BATH_BEACH              ONE_FAMILY_HOMES\n",
       "15          BATH_BEACH              ONE_FAMILY_HOMES\n",
       "16          BATH_BEACH              ONE_FAMILY_HOMES\n",
       "17          BATH_BEACH              ONE_FAMILY_HOMES\n",
       "18          BATH_BEACH              ONE_FAMILY_HOMES\n",
       "19          BATH_BEACH              ONE_FAMILY_HOMES\n",
       "20          BATH_BEACH              ONE_FAMILY_HOMES\n",
       "21          BATH_BEACH              ONE_FAMILY_HOMES\n",
       "22          BATH_BEACH              ONE_FAMILY_HOMES\n",
       "23          BATH_BEACH              ONE_FAMILY_HOMES\n",
       "24          BATH_BEACH              ONE_FAMILY_HOMES\n",
       "25          BATH_BEACH              ONE_FAMILY_HOMES\n",
       "26          BATH_BEACH              ONE_FAMILY_HOMES\n",
       "27          BATH_BEACH              ONE_FAMILY_HOMES\n",
       "28          BATH_BEACH              ONE_FAMILY_HOMES\n",
       "29          BATH_BEACH              ONE_FAMILY_HOMES\n",
       "...                ...                           ...\n",
       "59195  WYCKOFF_HEIGHTS  RENTALS_-_WALKUP_APARTMENTS_\n",
       "59196  WYCKOFF_HEIGHTS  RENTALS_-_WALKUP_APARTMENTS_\n",
       "59197  WYCKOFF_HEIGHTS  RENTALS_-_WALKUP_APARTMENTS_\n",
       "59198  WYCKOFF_HEIGHTS  RENTALS_-_WALKUP_APARTMENTS_\n",
       "59199  WYCKOFF_HEIGHTS  RENTALS_-_WALKUP_APARTMENTS_\n",
       "59200  WYCKOFF_HEIGHTS  RENTALS_-_WALKUP_APARTMENTS_\n",
       "59201  WYCKOFF_HEIGHTS  RENTALS_-_WALKUP_APARTMENTS_\n",
       "59202  WYCKOFF_HEIGHTS  CONDOS_-_ELEVATOR_APARTMENTS\n",
       "59203  WYCKOFF_HEIGHTS  CONDOS_-_ELEVATOR_APARTMENTS\n",
       "59204  WYCKOFF_HEIGHTS  CONDOS_-_ELEVATOR_APARTMENTS\n",
       "59205  WYCKOFF_HEIGHTS  CONDOS_-_ELEVATOR_APARTMENTS\n",
       "59206  WYCKOFF_HEIGHTS             RENTALS_-_-_UNIT_\n",
       "59207  WYCKOFF_HEIGHTS             RENTALS_-_-_UNIT_\n",
       "59208  WYCKOFF_HEIGHTS             RENTALS_-_-_UNIT_\n",
       "59209  WYCKOFF_HEIGHTS             RENTALS_-_-_UNIT_\n",
       "59210  WYCKOFF_HEIGHTS             RENTALS_-_-_UNIT_\n",
       "59211  WYCKOFF_HEIGHTS             RENTALS_-_-_UNIT_\n",
       "59212  WYCKOFF_HEIGHTS             RENTALS_-_-_UNIT_\n",
       "59213  WYCKOFF_HEIGHTS             RENTALS_-_-_UNIT_\n",
       "59214  WYCKOFF_HEIGHTS             RENTALS_-_-_UNIT_\n",
       "59215  WYCKOFF_HEIGHTS             RENTALS_-_-_UNIT_\n",
       "59216  WYCKOFF_HEIGHTS             RENTALS_-_-_UNIT_\n",
       "59217  WYCKOFF_HEIGHTS             RENTALS_-_-_UNIT_\n",
       "59218  WYCKOFF_HEIGHTS   CONDOS_-_-_UNIT_RESIDENTIAL\n",
       "59219  WYCKOFF_HEIGHTS   CONDOS_-_-_UNIT_RESIDENTIAL\n",
       "59220  WYCKOFF_HEIGHTS              STORE_BUILDINGS_\n",
       "59221  WYCKOFF_HEIGHTS              STORE_BUILDINGS_\n",
       "59222  WYCKOFF_HEIGHTS                    FACTORIES_\n",
       "59223  WYCKOFF_HEIGHTS                    FACTORIES_\n",
       "59224  WYCKOFF_HEIGHTS                CONDO_PARKING_\n",
       "\n",
       "[59225 rows x 2 columns]"
      ]
     },
     "execution_count": 6,
     "metadata": {},
     "output_type": "execute_result"
    }
   ],
   "source": [
    "brooklyn[['neighborhood', 'building_class_category']].apply(lambda x: x.astype('category'))"
   ]
  },
  {
   "cell_type": "code",
   "execution_count": 7,
   "metadata": {
    "collapsed": false
   },
   "outputs": [
    {
     "name": "stdout",
     "output_type": "stream",
     "text": [
      "<class 'pandas.core.frame.DataFrame'>\n",
      "RangeIndex: 66391 entries, 0 to 66390\n",
      "Data columns (total 27 columns):\n",
      "Unnamed: 0                        66391 non-null int64\n",
      "address                           66391 non-null object\n",
      "apartment_number                  66391 non-null object\n",
      "block                             66391 non-null int64\n",
      "borough                           66391 non-null int64\n",
      "building_class_at_present         66391 non-null object\n",
      "building_class_at_time_of_sale    66391 non-null object\n",
      "building_class_category           66391 non-null object\n",
      "commercial_units                  66391 non-null object\n",
      "commerical_units                  66391 non-null object\n",
      "ease-ment                         66391 non-null object\n",
      "gross_square_feet                 66391 non-null int64\n",
      "gross_square_feet_c               47262 non-null float64\n",
      "land_square_feet                  66391 non-null object\n",
      "lot                               66391 non-null int64\n",
      "month                             66391 non-null int64\n",
      "neighborhood                      66391 non-null object\n",
      "residential_units                 66391 non-null object\n",
      "sale_date                         66391 non-null object\n",
      "sale_price                        66391 non-null int64\n",
      "sale_price_clean                  44384 non-null float64\n",
      "tax_class_at_present              66391 non-null object\n",
      "tax_class_at_time_of_sale         66391 non-null int64\n",
      "total_units                       66391 non-null object\n",
      "year                              66391 non-null int64\n",
      "year_built                        66391 non-null int64\n",
      "zip_code                          66391 non-null int64\n",
      "dtypes: float64(2), int64(11), object(14)\n",
      "memory usage: 13.7+ MB\n"
     ]
    }
   ],
   "source": [
    "queens.info()"
   ]
  },
  {
   "cell_type": "code",
   "execution_count": 8,
   "metadata": {
    "collapsed": false
   },
   "outputs": [
    {
     "data": {
      "image/png": "[encoded data removed]",
      "text/plain": [
       "<matplotlib.figure.Figure at 0x1b102823748>"
      ]
     },
     "metadata": {},
     "output_type": "display_data"
    }
   ],
   "source": [
    "sns.jointplot('gross_square_feet_c', 'sale_price_clean', kind='scatter', data=queens)\n",
    "plt.xlabel('Gross Square Footage')\n",
    "plt.ylabel('Sale Price ($)')\n",
    "plt.show()"
   ]
  },
  {
   "cell_type": "code",
   "execution_count": 9,
   "metadata": {
    "collapsed": false,
    "scrolled": true
   },
   "outputs": [
    {
     "data": {
      "image/png": "[encoded data removed]",
      "text/plain": [
       "<matplotlib.figure.Figure at 0x1b100fe4668>"
      ]
     },
     "metadata": {},
     "output_type": "display_data"
    }
   ],
   "source": [
    "sns.jointplot('gross_square_feet_c', 'sale_price_clean', kind='scatter', data=brooklyn)\n",
    "plt.xlabel('Gross Square Footage')\n",
    "plt.ylabel('Sale Price ($)')\n",
    "plt.show()"
   ]
  },
  {
   "cell_type": "markdown",
   "metadata": {},
   "source": [
    "The relationship between square feet and price in Queens is very loose (Pearson Correlation Coefficient=0.21) but it is statisically significant with extremely small p value.\n"
   ]
  },
  {
   "cell_type": "code",
   "execution_count": 10,
   "metadata": {
    "collapsed": true
   },
   "outputs": [],
   "source": [
    "queens_sales=queens['sale_price_clean'].sort_values().dropna()"
   ]
  },
  {
   "cell_type": "code",
   "execution_count": 11,
   "metadata": {
    "collapsed": true
   },
   "outputs": [],
   "source": [
    "brooklyn_sales=brooklyn['sale_price_clean'].sort_values().dropna()"
   ]
  },
  {
   "cell_type": "code",
   "execution_count": 12,
   "metadata": {
    "collapsed": false
   },
   "outputs": [
    {
     "name": "stdout",
     "output_type": "stream",
     "text": [
      "52135   1.000000\n",
      "18149   1.000000\n",
      "62460   1.000000\n",
      "43329   1.000000\n",
      "23830   1.000000\n",
      "Name: sale_price_clean, dtype: float64\n"
     ]
    }
   ],
   "source": [
    "print(queens_sales.head())"
   ]
  },
  {
   "cell_type": "code",
   "execution_count": 13,
   "metadata": {
    "collapsed": false
   },
   "outputs": [
    {
     "name": "stdout",
     "output_type": "stream",
     "text": [
      "44925   125000000.000000\n",
      "59381   135500000.000000\n",
      "56477   173439705.000000\n",
      "56436   195000000.000000\n",
      "56358   257500000.000000\n",
      "Name: sale_price_clean, dtype: float64\n"
     ]
    }
   ],
   "source": [
    "print(queens_sales.tail())"
   ]
  },
  {
   "cell_type": "code",
   "execution_count": 14,
   "metadata": {
    "collapsed": true
   },
   "outputs": [],
   "source": [
    "brooklyn_sales=brooklyn.sale_price_clean.sort_values()"
   ]
  },
  {
   "cell_type": "code",
   "execution_count": 15,
   "metadata": {
    "collapsed": false
   },
   "outputs": [],
   "source": [
    "queens_bin_vals=np.arange(start=queens_sales.min(), stop=queens_sales.max(), step=10000000)"
   ]
  },
  {
   "cell_type": "code",
   "execution_count": 16,
   "metadata": {
    "collapsed": true
   },
   "outputs": [],
   "source": [
    "queens_sale_mean, queens_sale_std=queens_sales.mean(),queens_sales.std()"
   ]
  },
  {
   "cell_type": "code",
   "execution_count": 17,
   "metadata": {
    "collapsed": true
   },
   "outputs": [],
   "source": [
    "queens_p=norm.pdf(queens_sales,queens_sale_mean,queens_sale_std)"
   ]
  },
  {
   "cell_type": "code",
   "execution_count": 18,
   "metadata": {
    "collapsed": false
   },
   "outputs": [
    {
     "data": {
      "image/png": "[encoded data removed]",
      "text/plain": [
       "<matplotlib.figure.Figure at 0x1b103f513c8>"
      ]
     },
     "metadata": {},
     "output_type": "display_data"
    }
   ],
   "source": [
    "n, bin_vals, patches=plt.hist(np.log(queens_sales), bins=queens_bin_vals, normed=True, stacked=True)\n",
    "plt.plot(queens_sales, queens_p)\n",
    "plt.xlabel('Sale Price In Queens')\n",
    "plt.show()"
   ]
  },
  {
   "cell_type": "code",
   "execution_count": 19,
   "metadata": {
    "collapsed": true
   },
   "outputs": [],
   "source": [
    "brooklyn_bin_vals=np.arange(start=brooklyn_sales.min(), stop=brooklyn_sales.max(), step=10000)"
   ]
  },
  {
   "cell_type": "code",
   "execution_count": 20,
   "metadata": {
    "collapsed": false
   },
   "outputs": [],
   "source": [
    "queens_03=queens[queens['year']==2003].dropna()"
   ]
  },
  {
   "cell_type": "code",
   "execution_count": 21,
   "metadata": {
    "collapsed": false
   },
   "outputs": [],
   "source": [
    "queens_16=queens[queens['year']==2016].dropna()"
   ]
  },
  {
   "cell_type": "code",
   "execution_count": 22,
   "metadata": {
    "collapsed": false
   },
   "outputs": [],
   "source": [
    "t_stat,p=stats.ttest_ind(queens_03['sale_price_clean'], queens_16['sale_price_clean'], equal_var=False)"
   ]
  },
  {
   "cell_type": "code",
   "execution_count": 23,
   "metadata": {
    "collapsed": false
   },
   "outputs": [
    {
     "name": "stdout",
     "output_type": "stream",
     "text": [
      "Queens T-Stat: -13.000650331287613\n",
      "Queens P-Value: 2.2541363988585703e-38\n"
     ]
    }
   ],
   "source": [
    "print('Queens T-Stat:', t_stat)\n",
    "print('Queens P-Value:', p)"
   ]
  },
  {
   "cell_type": "code",
   "execution_count": 24,
   "metadata": {
    "collapsed": true
   },
   "outputs": [],
   "source": [
    "brooklyn_03=brooklyn[brooklyn['year']==2003].dropna()\n",
    "brooklyn_16=brooklyn[brooklyn['year']==2016].dropna()"
   ]
  },
  {
   "cell_type": "code",
   "execution_count": 25,
   "metadata": {
    "collapsed": true
   },
   "outputs": [],
   "source": [
    "t_stat,p=stats.ttest_ind(brooklyn_03['sale_price_clean'], brooklyn_16['sale_price_clean'], equal_var=False)"
   ]
  },
  {
   "cell_type": "code",
   "execution_count": 26,
   "metadata": {
    "collapsed": false
   },
   "outputs": [
    {
     "name": "stdout",
     "output_type": "stream",
     "text": [
      "Brooklyn T-Stat: -17.70427632742636\n",
      "Brooklyn P-Value: 5.253754227842678e-69\n"
     ]
    }
   ],
   "source": [
    "print('Brooklyn T-Stat:', t_stat)\n",
    "print('Brooklyn P-Value:', p)"
   ]
  },
  {
   "cell_type": "markdown",
   "metadata": {},
   "source": [
    "Both Queens and Brooklyn have a distinct and significant difference in prices between 2003 and 2016, as shown by the large t-statistics and the tiny p-values.  Brooklyn does have a larger difference between the 2003 mean and the 2016 mean.  "
   ]
  },
  {
   "cell_type": "code",
   "execution_count": 27,
   "metadata": {
    "collapsed": true
   },
   "outputs": [],
   "source": [
    "queens_homes=queens[queens['building_class_category']==('ONE_FAMILY_HOMES' or 'TWO_FAMILY_HOMES' or 'THREE_FAMILY_HOMES')].dropna()"
   ]
  },
  {
   "cell_type": "code",
   "execution_count": 28,
   "metadata": {
    "collapsed": false
   },
   "outputs": [
    {
     "name": "stdout",
     "output_type": "stream",
     "text": [
      "<class 'pandas.core.frame.DataFrame'>\n",
      "Int64Index: 15174 entries, 1 to 65929\n",
      "Data columns (total 27 columns):\n",
      "Unnamed: 0                        15174 non-null int64\n",
      "address                           15174 non-null object\n",
      "apartment_number                  15174 non-null object\n",
      "block                             15174 non-null int64\n",
      "borough                           15174 non-null int64\n",
      "building_class_at_present         15174 non-null object\n",
      "building_class_at_time_of_sale    15174 non-null object\n",
      "building_class_category           15174 non-null object\n",
      "commercial_units                  15174 non-null object\n",
      "commerical_units                  15174 non-null object\n",
      "ease-ment                         15174 non-null object\n",
      "gross_square_feet                 15174 non-null int64\n",
      "gross_square_feet_c               15174 non-null float64\n",
      "land_square_feet                  15174 non-null object\n",
      "lot                               15174 non-null int64\n",
      "month                             15174 non-null int64\n",
      "neighborhood                      15174 non-null object\n",
      "residential_units                 15174 non-null object\n",
      "sale_date                         15174 non-null object\n",
      "sale_price                        15174 non-null int64\n",
      "sale_price_clean                  15174 non-null float64\n",
      "tax_class_at_present              15174 non-null object\n",
      "tax_class_at_time_of_sale         15174 non-null int64\n",
      "total_units                       15174 non-null object\n",
      "year                              15174 non-null int64\n",
      "year_built                        15174 non-null int64\n",
      "zip_code                          15174 non-null int64\n",
      "dtypes: float64(2), int64(11), object(14)\n",
      "memory usage: 3.2+ MB\n"
     ]
    }
   ],
   "source": [
    "queens_homes.info()"
   ]
  },
  {
   "cell_type": "code",
   "execution_count": 29,
   "metadata": {
    "collapsed": true
   },
   "outputs": [],
   "source": [
    "brooklyn_homes=brooklyn[brooklyn['building_class_category']==('ONE_FAMILY_HOMES' or 'TWO_FAMILY_HOMES' or 'THREE_FAMILY_HOMES')].dropna()"
   ]
  },
  {
   "cell_type": "code",
   "execution_count": 30,
   "metadata": {
    "collapsed": false,
    "scrolled": false
   },
   "outputs": [
    {
     "name": "stdout",
     "output_type": "stream",
     "text": [
      "<class 'pandas.core.frame.DataFrame'>\n",
      "Int64Index: 5480 entries, 1 to 59114\n",
      "Data columns (total 26 columns):\n",
      "Unnamed: 0                        5480 non-null int64\n",
      "address                           5480 non-null object\n",
      "apartment_number                  5480 non-null object\n",
      "block                             5480 non-null int64\n",
      "borough                           5480 non-null int64\n",
      "building_class_at_present         5480 non-null object\n",
      "building_class_at_time_of_sale    5480 non-null object\n",
      "building_class_category           5480 non-null object\n",
      "commercial_units                  5480 non-null int64\n",
      "ease-ment                         5480 non-null object\n",
      "gross_square_feet                 5480 non-null float64\n",
      "gross_square_feet_c               5480 non-null float64\n",
      "land_square_feet                  5480 non-null object\n",
      "lot                               5480 non-null int64\n",
      "month                             5480 non-null int64\n",
      "neighborhood                      5480 non-null object\n",
      "residential_units                 5480 non-null object\n",
      "sale_date                         5480 non-null object\n",
      "sale_price                        5480 non-null int64\n",
      "sale_price_clean                  5480 non-null float64\n",
      "tax_class_at_present              5480 non-null object\n",
      "tax_class_at_time_of_sale         5480 non-null int64\n",
      "total_units                       5480 non-null object\n",
      "year                              5480 non-null int64\n",
      "year_built                        5480 non-null int64\n",
      "zip_code                          5480 non-null int64\n",
      "dtypes: float64(3), int64(11), object(12)\n",
      "memory usage: 1.1+ MB\n"
     ]
    }
   ],
   "source": [
    "brooklyn_homes.info()"
   ]
  },
  {
   "cell_type": "code",
   "execution_count": 31,
   "metadata": {
    "collapsed": true
   },
   "outputs": [],
   "source": [
    "t_stat,p=stats.ttest_ind(queens_homes['sale_price_clean'], brooklyn_homes['sale_price_clean'], equal_var=False)"
   ]
  },
  {
   "cell_type": "code",
   "execution_count": 32,
   "metadata": {
    "collapsed": false
   },
   "outputs": [
    {
     "name": "stdout",
     "output_type": "stream",
     "text": [
      "Brooklyn Homes Against Queens Homes T-Stat: -15.148545169054458\n",
      "P value: 6.075229855590701e-51\n"
     ]
    }
   ],
   "source": [
    "print('Brooklyn Homes Against Queens Homes T-Stat:', t_stat)\n",
    "print ('P value:', p)"
   ]
  },
  {
   "cell_type": "code",
   "execution_count": 33,
   "metadata": {
    "collapsed": false
   },
   "outputs": [
    {
     "name": "stdout",
     "output_type": "stream",
     "text": [
      "Average Sale Price of Homes in Brooklyn 562956.6083941606\n",
      "Average Sale Price of Homes in Queens 434793.92091735866\n"
     ]
    }
   ],
   "source": [
    "print('Average Sale Price of Homes in Brooklyn', brooklyn_homes['sale_price_clean'].mean())\n",
    "print('Average Sale Price of Homes in Queens', queens_homes['sale_price_clean'].mean())"
   ]
  },
  {
   "cell_type": "markdown",
   "metadata": {},
   "source": [
    "Interestingly, there is a very large and statistically significant difference between means in home sales in Queens and Brooklyn.  The average home in Brooklyn is worth more than $128,000 more than an average home in Queens.  \n",
    "\n",
    "Examining the home sales by year may provide some more insight on the difference in prices between Brooklyn and Queens"
   ]
  },
  {
   "cell_type": "code",
   "execution_count": 34,
   "metadata": {
    "collapsed": false
   },
   "outputs": [],
   "source": [
    "brooklyn_homes_2003=brooklyn_homes[brooklyn_homes['year']==2003]\n",
    "brooklyn_homes_2016=brooklyn_homes[brooklyn_homes['year']==2016]\n",
    "queens_homes_2003=queens_homes[queens_homes['year']==2003]\n",
    "queens_homes_2016=queens_homes[queens_homes['year']==2016]"
   ]
  },
  {
   "cell_type": "code",
   "execution_count": 35,
   "metadata": {
    "collapsed": false
   },
   "outputs": [],
   "source": [
    "t_stat,p=stats.ttest_ind(queens_homes_2003['sale_price_clean'], brooklyn_homes_2003['sale_price_clean'], equal_var=False)"
   ]
  },
  {
   "cell_type": "code",
   "execution_count": 36,
   "metadata": {
    "collapsed": false
   },
   "outputs": [
    {
     "name": "stdout",
     "output_type": "stream",
     "text": [
      "T-Test for 2003 Homes In Queens and Brooklyn: -4.60132480381934\n",
      "P-Value: 4.334244144336472e-06\n"
     ]
    }
   ],
   "source": [
    "print('T-Test for 2003 Homes In Queens and Brooklyn:', t_stat)\n",
    "print('P-Value:', p)"
   ]
  },
  {
   "cell_type": "code",
   "execution_count": 37,
   "metadata": {
    "collapsed": true
   },
   "outputs": [],
   "source": [
    "t_stat,p=stats.ttest_ind(queens_homes_2016['sale_price_clean'], brooklyn_homes_2016['sale_price_clean'], equal_var=False)"
   ]
  },
  {
   "cell_type": "code",
   "execution_count": 38,
   "metadata": {
    "collapsed": false
   },
   "outputs": [
    {
     "name": "stdout",
     "output_type": "stream",
     "text": [
      "T-Test for 2016 Homes In Queens and Brooklyn: -14.843249845655098\n",
      "P-Value: 6.09061610952977e-48\n"
     ]
    }
   ],
   "source": [
    "print('T-Test for 2016 Homes In Queens and Brooklyn:', t_stat)\n",
    "print('P-Value:', p)"
   ]
  },
  {
   "cell_type": "code",
   "execution_count": 39,
   "metadata": {
    "collapsed": true
   },
   "outputs": [],
   "source": [
    "queens_homes_sorted=queens_homes.sale_price_clean.sort_values().dropna()"
   ]
  },
  {
   "cell_type": "code",
   "execution_count": 40,
   "metadata": {
    "collapsed": true
   },
   "outputs": [],
   "source": [
    "brooklyn_homes_sorted=brooklyn_homes.sale_price_clean.sort_values()"
   ]
  },
  {
   "cell_type": "code",
   "execution_count": 41,
   "metadata": {
    "collapsed": true
   },
   "outputs": [],
   "source": [
    "queens_homes_sale_mean, queens_homes_sale_std=queens_homes_sorted.mean(),queens_homes_sorted.std()"
   ]
  },
  {
   "cell_type": "code",
   "execution_count": 42,
   "metadata": {
    "collapsed": false
   },
   "outputs": [],
   "source": [
    "queens_homes_p=norm.pdf(queens_homes_sorted,queens_homes_sale_mean,queens_homes_sale_std)"
   ]
  },
  {
   "cell_type": "code",
   "execution_count": 43,
   "metadata": {
    "collapsed": false
   },
   "outputs": [],
   "source": [
    "queens_homes_bin_vals=np.arange(start=queens_homes_sorted.min(), stop=queens_homes_sorted.max(), step=125000)"
   ]
  },
  {
   "cell_type": "code",
   "execution_count": 44,
   "metadata": {
    "collapsed": false
   },
   "outputs": [
    {
     "data": {
      "image/png": "[encoded data removed]",
      "text/plain": [
       "<matplotlib.figure.Figure at 0x1b104017860>"
      ]
     },
     "metadata": {},
     "output_type": "display_data"
    }
   ],
   "source": [
    "n, bin_vals, patches=plt.hist(np.log(queens_homes_sorted), bins=queens_homes_bin_vals, normed=True, stacked=True)\n",
    "plt.plot(queens_homes_sorted, queens_homes_p)\n",
    "plt.xlabel('Sale Price In Queens')\n",
    "plt.show()"
   ]
  },
  {
   "cell_type": "markdown",
   "metadata": {
    "collapsed": true
   },
   "source": [
    "The gap between the home prices in Brooklyn and Queens grew quite significantly between 2003 and 2016 as shwon by the above T-stats.  "
   ]
  },
  {
   "cell_type": "code",
   "execution_count": 45,
   "metadata": {
    "collapsed": false
   },
   "outputs": [
    {
     "data": {
      "image/png": "[encoded data removed]",
      "text/plain": [
       "<matplotlib.figure.Figure at 0x1b10413db70>"
      ]
     },
     "metadata": {},
     "output_type": "display_data"
    }
   ],
   "source": [
    "sns.jointplot('gross_square_feet_c', 'sale_price_clean', kind='scatter', data=brooklyn_homes)\n",
    "plt.xlabel('Gross Square Footage')\n",
    "plt.ylabel('Sale Price ($)')\n",
    "plt.show()"
   ]
  },
  {
   "cell_type": "code",
   "execution_count": 46,
   "metadata": {
    "collapsed": false
   },
   "outputs": [
    {
     "data": {
      "image/png": "[encoded data removed]",
      "text/plain": [
       "<matplotlib.figure.Figure at 0x1b1042557f0>"
      ]
     },
     "metadata": {},
     "output_type": "display_data"
    }
   ],
   "source": [
    "sns.jointplot('gross_square_feet_c', 'sale_price_clean', kind='scatter', data=queens_homes)\n",
    "plt.xlabel('Gross Square Footage')\n",
    "plt.ylabel('Sale Price ($)')\n",
    "plt.show()"
   ]
  },
  {
   "cell_type": "code",
   "execution_count": 47,
   "metadata": {
    "collapsed": false
   },
   "outputs": [
    {
     "data": {
      "text/plain": [
       "TWO_FAMILY_HOMES                          17200\n",
       "ONE_FAMILY_HOMES                           9114\n",
       "THREE_FAMILY_HOMES                         5885\n",
       "RENTALS_-_WALKUP_APARTMENTS_               4901\n",
       "COOPS_-_ELEVATOR_APARTMENTS_               4846\n",
       "CONDOS_-_ELEVATOR_APARTMENTS               3713\n",
       "TAX_CLASSVACANT_LAND_                      1800\n",
       "TAX_CLASSCONDOS                            1459\n",
       "COOPS_-_WALKUP_APARTMENTS_                 1311\n",
       "CONDOS_-_-_UNIT_RESIDENTIAL                1189\n",
       "RENTALS_-_-_UNIT_                          1133\n",
       "CONDO_PARKING_                              908\n",
       "STORE_BUILDINGS_                            855\n",
       "COMMERCIAL_GARAGES                          821\n",
       "COMMERCIAL_VACANT_LAND                      730\n",
       "CONDOS_-_WALKUP_APARTMENTS                  676\n",
       "COMMERCIAL_CONDOS_                          434\n",
       "FACTORIES_                                  403\n",
       "TAX_CLASS-_OTHER_                           346\n",
       "WAREHOUSES                                  346\n",
       "RENTALS_-_ELEVATOR_APARTMENTS_              314\n",
       "OFFICE_BUILDINGS                            149\n",
       "RELIGIOUS_FACILITIES                        103\n",
       "CONDO_NON-BUSINESS_STORAGE                  100\n",
       "CONDOS_-_-_UNIT_WITH_COMMERCIAL_UNIT_        71\n",
       "EDUCATIONAL_FACILITIES                       60\n",
       "CONDO_TERRACES/GARDENS/CABANAS               43\n",
       "CONDO_STORE_BUILDINGS_                       40\n",
       "CONDO_OFFICE_BUILDINGS                       38\n",
       "HOSPITAL_AND_HEALTH_FACILITIES               37\n",
       "CONDO_COOPS_                                 34\n",
       "INDOOR_PUBLIC_AND_CULTURAL_FACILITIES_       26\n",
       "CONDOPS_                                     25\n",
       "CONDO_WAREHOUSES/FACTORY/INDUS               22\n",
       "LOFT_BUILDINGS                               21\n",
       "ASYLUMS_AND_HOMES_                           17\n",
       "OUTDOOR_RECREATIONAL_FACILITIES_             15\n",
       "A_CONDO-RENTALS_                             11\n",
       "OTHER_HOTELS                                 11\n",
       "THEATRES                                      6\n",
       "CONDO_CULTURAL/MEDICAL/EDUCATIONAL/ETC        3\n",
       "TAX_CLASS-_UTILITY_PROPERTIES                 3\n",
       "SELECTED_GOVERNMENTAL_FACILITIES              2\n",
       "TRANSPORTATION_FACILITIES_                    2\n",
       "CONDO_HOTELS                                  1\n",
       "SPECIAL_CONDO_BILLING_LOTS                    1\n",
       "Name: building_class_category, dtype: int64"
      ]
     },
     "execution_count": 47,
     "metadata": {},
     "output_type": "execute_result"
    }
   ],
   "source": [
    "brooklyn['building_class_category'].value_counts()"
   ]
  },
  {
   "cell_type": "markdown",
   "metadata": {},
   "source": [
    "Homes in both boroughs show a strong positive linear relationship between the gross square feet and price.  The relationship is much more clear than the one shown in the scatter plots for all sales in Queens an Brooklyn.  "
   ]
  },
  {
   "cell_type": "code",
   "execution_count": 48,
   "metadata": {
    "collapsed": false
   },
   "outputs": [],
   "source": [
    "queens_rentals=queens[queens['building_class_category']==('COOPS_-_ELEVATOR_APARTMENTS_' or 'RENTALS_-_-_UNIT_' or 'RENTALS_-_ELEVATOR_APARTMENTS_' or 'RENTALS_-_WALKUP_APARTMENTS_' or 'COOPS_-_WALKUP_APARTMENTS')].dropna()"
   ]
  },
  {
   "cell_type": "code",
   "execution_count": 49,
   "metadata": {
    "collapsed": false
   },
   "outputs": [],
   "source": [
    "brooklyn_rentals=brooklyn[brooklyn['building_class_category']==('COOPS_-_ELEVATOR_APARTMENTS_' or 'RENTALS_-_-_UNIT_' or 'RENTALS_-_ELEVATOR_APARTMENTS_' or 'RENTALS_-_WALKUP_APARTMENTS_' or 'COOPS_-_WALKUP_APARTMENTS')].dropna()"
   ]
  },
  {
   "cell_type": "code",
   "execution_count": 50,
   "metadata": {
    "collapsed": false
   },
   "outputs": [],
   "source": [
    "queens_rentals=queens_rentals.drop('gross_square_feet_c', axis=1)"
   ]
  },
  {
   "cell_type": "code",
   "execution_count": 51,
   "metadata": {
    "collapsed": false
   },
   "outputs": [],
   "source": [
    "brooklyn_rentals=brooklyn_rentals.drop('gross_square_feet_c', axis=1)"
   ]
  },
  {
   "cell_type": "code",
   "execution_count": 52,
   "metadata": {
    "collapsed": true
   },
   "outputs": [],
   "source": [
    "t_stat,p=stats.ttest_ind(queens_rentals['sale_price_clean'], brooklyn_rentals['sale_price_clean'], equal_var=False)"
   ]
  },
  {
   "cell_type": "code",
   "execution_count": 53,
   "metadata": {
    "collapsed": false
   },
   "outputs": [
    {
     "name": "stdout",
     "output_type": "stream",
     "text": [
      "T-Test for Sales Prices of Rental Builings in Brooklyn and Queens: 0.07406388523450906\n",
      "P Value: 0.9410912999621328\n"
     ]
    }
   ],
   "source": [
    "print('T-Test for Sales Prices of Rental Builings in Brooklyn and Queens:', t_stat)\n",
    "print('P Value:', p)"
   ]
  },
  {
   "cell_type": "code",
   "execution_count": 54,
   "metadata": {
    "collapsed": true
   },
   "outputs": [],
   "source": [
    "queens_high_val=queens[queens['neighborhood']==('LONG_ISLAND_CITY__' or 'ASTORIA_' or 'NEPONSIT' or 'MASPETH')].dropna()"
   ]
  },
  {
   "cell_type": "code",
   "execution_count": 55,
   "metadata": {
    "collapsed": false
   },
   "outputs": [
    {
     "name": "stdout",
     "output_type": "stream",
     "text": [
      "<class 'pandas.core.frame.DataFrame'>\n",
      "Int64Index: 270 entries, 22246 to 56489\n",
      "Data columns (total 27 columns):\n",
      "Unnamed: 0                        270 non-null int64\n",
      "address                           270 non-null object\n",
      "apartment_number                  270 non-null object\n",
      "block                             270 non-null int64\n",
      "borough                           270 non-null int64\n",
      "building_class_at_present         270 non-null object\n",
      "building_class_at_time_of_sale    270 non-null object\n",
      "building_class_category           270 non-null object\n",
      "commercial_units                  270 non-null object\n",
      "commerical_units                  270 non-null object\n",
      "ease-ment                         270 non-null object\n",
      "gross_square_feet                 270 non-null int64\n",
      "gross_square_feet_c               270 non-null float64\n",
      "land_square_feet                  270 non-null object\n",
      "lot                               270 non-null int64\n",
      "month                             270 non-null int64\n",
      "neighborhood                      270 non-null object\n",
      "residential_units                 270 non-null object\n",
      "sale_date                         270 non-null object\n",
      "sale_price                        270 non-null int64\n",
      "sale_price_clean                  270 non-null float64\n",
      "tax_class_at_present              270 non-null object\n",
      "tax_class_at_time_of_sale         270 non-null int64\n",
      "total_units                       270 non-null object\n",
      "year                              270 non-null int64\n",
      "year_built                        270 non-null int64\n",
      "zip_code                          270 non-null int64\n",
      "dtypes: float64(2), int64(11), object(14)\n",
      "memory usage: 59.1+ KB\n"
     ]
    }
   ],
   "source": [
    "queens_high_val.info()"
   ]
  },
  {
   "cell_type": "code",
   "execution_count": 56,
   "metadata": {
    "collapsed": false
   },
   "outputs": [],
   "source": [
    "queens_high_val_03=queens_high_val[queens_high_val['year']==2003]"
   ]
  },
  {
   "cell_type": "code",
   "execution_count": 57,
   "metadata": {
    "collapsed": false
   },
   "outputs": [
    {
     "name": "stdout",
     "output_type": "stream",
     "text": [
      "<class 'pandas.core.frame.DataFrame'>\n",
      "Int64Index: 144 entries, 22246 to 22589\n",
      "Data columns (total 27 columns):\n",
      "Unnamed: 0                        144 non-null int64\n",
      "address                           144 non-null object\n",
      "apartment_number                  144 non-null object\n",
      "block                             144 non-null int64\n",
      "borough                           144 non-null int64\n",
      "building_class_at_present         144 non-null object\n",
      "building_class_at_time_of_sale    144 non-null object\n",
      "building_class_category           144 non-null object\n",
      "commercial_units                  144 non-null object\n",
      "commerical_units                  144 non-null object\n",
      "ease-ment                         144 non-null object\n",
      "gross_square_feet                 144 non-null int64\n",
      "gross_square_feet_c               144 non-null float64\n",
      "land_square_feet                  144 non-null object\n",
      "lot                               144 non-null int64\n",
      "month                             144 non-null int64\n",
      "neighborhood                      144 non-null object\n",
      "residential_units                 144 non-null object\n",
      "sale_date                         144 non-null object\n",
      "sale_price                        144 non-null int64\n",
      "sale_price_clean                  144 non-null float64\n",
      "tax_class_at_present              144 non-null object\n",
      "tax_class_at_time_of_sale         144 non-null int64\n",
      "total_units                       144 non-null object\n",
      "year                              144 non-null int64\n",
      "year_built                        144 non-null int64\n",
      "zip_code                          144 non-null int64\n",
      "dtypes: float64(2), int64(11), object(14)\n",
      "memory usage: 31.5+ KB\n"
     ]
    }
   ],
   "source": [
    "queens_high_val_03.info()"
   ]
  },
  {
   "cell_type": "code",
   "execution_count": 58,
   "metadata": {
    "collapsed": true
   },
   "outputs": [],
   "source": [
    "queens_high_val_16=queens_high_val[queens_high_val['year']==2016]"
   ]
  },
  {
   "cell_type": "code",
   "execution_count": 59,
   "metadata": {
    "collapsed": false
   },
   "outputs": [
    {
     "name": "stdout",
     "output_type": "stream",
     "text": [
      "<class 'pandas.core.frame.DataFrame'>\n",
      "Int64Index: 126 entries, 55770 to 56489\n",
      "Data columns (total 27 columns):\n",
      "Unnamed: 0                        126 non-null int64\n",
      "address                           126 non-null object\n",
      "apartment_number                  126 non-null object\n",
      "block                             126 non-null int64\n",
      "borough                           126 non-null int64\n",
      "building_class_at_present         126 non-null object\n",
      "building_class_at_time_of_sale    126 non-null object\n",
      "building_class_category           126 non-null object\n",
      "commercial_units                  126 non-null object\n",
      "commerical_units                  126 non-null object\n",
      "ease-ment                         126 non-null object\n",
      "gross_square_feet                 126 non-null int64\n",
      "gross_square_feet_c               126 non-null float64\n",
      "land_square_feet                  126 non-null object\n",
      "lot                               126 non-null int64\n",
      "month                             126 non-null int64\n",
      "neighborhood                      126 non-null object\n",
      "residential_units                 126 non-null object\n",
      "sale_date                         126 non-null object\n",
      "sale_price                        126 non-null int64\n",
      "sale_price_clean                  126 non-null float64\n",
      "tax_class_at_present              126 non-null object\n",
      "tax_class_at_time_of_sale         126 non-null int64\n",
      "total_units                       126 non-null object\n",
      "year                              126 non-null int64\n",
      "year_built                        126 non-null int64\n",
      "zip_code                          126 non-null int64\n",
      "dtypes: float64(2), int64(11), object(14)\n",
      "memory usage: 27.6+ KB\n"
     ]
    }
   ],
   "source": [
    "queens_high_val_16.info()"
   ]
  },
  {
   "cell_type": "code",
   "execution_count": 60,
   "metadata": {
    "collapsed": true
   },
   "outputs": [],
   "source": [
    "t_stat,p=stats.ttest_ind(queens_high_val_03['sale_price_clean'], queens_high_val_16['sale_price_clean'], equal_var=False)"
   ]
  },
  {
   "cell_type": "code",
   "execution_count": 61,
   "metadata": {
    "collapsed": false
   },
   "outputs": [
    {
     "name": "stdout",
     "output_type": "stream",
     "text": [
      "T-Test for High Value Neighborhoods in Queens in 2003 and 2016: -3.5784054352052386\n",
      "P-Value: 0.0004882232150265566\n"
     ]
    }
   ],
   "source": [
    "print('T-Test for High Value Neighborhoods in Queens in 2003 and 2016:', t_stat)\n",
    "print('P-Value:', p)"
   ]
  },
  {
   "cell_type": "code",
   "execution_count": 101,
   "metadata": {
    "collapsed": false
   },
   "outputs": [
    {
     "name": "stdout",
     "output_type": "stream",
     "text": [
      "Average for High Value Neighborhood in 2003: 1296093.7916666667\n",
      "Average for High Value Neighborhood in 2016: 11451175.388888888\n"
     ]
    }
   ],
   "source": [
    "print('Average for High Value Neighborhood in 2003:', queens_high_val_03['sale_price_clean'].mean())\n",
    "print('Average for High Value Neighborhood in 2016:', queens_high_val_16['sale_price_clean'].mean())"
   ]
  },
  {
   "cell_type": "markdown",
   "metadata": {},
   "source": [
    "The means of the high value Queens neighborhoods (Long Island City, Astoria, Nesponsit and Maspeth) are not equal and the result is statistically significant.  However, the difference in the means is not as great as the difference of all sales in Queens from 2003 and 2016 "
   ]
  },
  {
   "cell_type": "code",
   "execution_count": 86,
   "metadata": {
    "collapsed": true
   },
   "outputs": [],
   "source": [
    "brooklyn_high_val=brooklyn[brooklyn['neighborhood']==('NAVY_YARD_' and 'WILLIAMSBURG-NORTH' or 'DOWNTOWN-FULTON_FERRY' or 'DOWNTOWN-FULTON_MALL' and 'GREENPOINT')].dropna()"
   ]
  },
  {
   "cell_type": "code",
   "execution_count": 87,
   "metadata": {
    "collapsed": false
   },
   "outputs": [
    {
     "name": "stdout",
     "output_type": "stream",
     "text": [
      "<class 'pandas.core.frame.DataFrame'>\n",
      "Int64Index: 82 entries, 32831 to 58369\n",
      "Data columns (total 26 columns):\n",
      "Unnamed: 0                        82 non-null int64\n",
      "address                           82 non-null object\n",
      "apartment_number                  82 non-null object\n",
      "block                             82 non-null int64\n",
      "borough                           82 non-null int64\n",
      "building_class_at_present         82 non-null object\n",
      "building_class_at_time_of_sale    82 non-null object\n",
      "building_class_category           82 non-null object\n",
      "commercial_units                  82 non-null int64\n",
      "ease-ment                         82 non-null object\n",
      "gross_square_feet                 82 non-null float64\n",
      "gross_square_feet_c               82 non-null float64\n",
      "land_square_feet                  82 non-null object\n",
      "lot                               82 non-null int64\n",
      "month                             82 non-null int64\n",
      "neighborhood                      82 non-null object\n",
      "residential_units                 82 non-null object\n",
      "sale_date                         82 non-null object\n",
      "sale_price                        82 non-null int64\n",
      "sale_price_clean                  82 non-null float64\n",
      "tax_class_at_present              82 non-null object\n",
      "tax_class_at_time_of_sale         82 non-null int64\n",
      "total_units                       82 non-null object\n",
      "year                              82 non-null int64\n",
      "year_built                        82 non-null int64\n",
      "zip_code                          82 non-null int64\n",
      "dtypes: float64(3), int64(11), object(12)\n",
      "memory usage: 17.3+ KB\n"
     ]
    }
   ],
   "source": [
    "brooklyn_high_val.info()"
   ]
  },
  {
   "cell_type": "code",
   "execution_count": 89,
   "metadata": {
    "collapsed": false
   },
   "outputs": [],
   "source": [
    "brooklyn_high_val_03=brooklyn_high_val[brooklyn_high_val['year']==2003]"
   ]
  },
  {
   "cell_type": "code",
   "execution_count": 91,
   "metadata": {
    "collapsed": false
   },
   "outputs": [
    {
     "name": "stdout",
     "output_type": "stream",
     "text": [
      "<class 'pandas.core.frame.DataFrame'>\n",
      "Int64Index: 35 entries, 32831 to 32955\n",
      "Data columns (total 26 columns):\n",
      "Unnamed: 0                        35 non-null int64\n",
      "address                           35 non-null object\n",
      "apartment_number                  35 non-null object\n",
      "block                             35 non-null int64\n",
      "borough                           35 non-null int64\n",
      "building_class_at_present         35 non-null object\n",
      "building_class_at_time_of_sale    35 non-null object\n",
      "building_class_category           35 non-null object\n",
      "commercial_units                  35 non-null int64\n",
      "ease-ment                         35 non-null object\n",
      "gross_square_feet                 35 non-null float64\n",
      "gross_square_feet_c               35 non-null float64\n",
      "land_square_feet                  35 non-null object\n",
      "lot                               35 non-null int64\n",
      "month                             35 non-null int64\n",
      "neighborhood                      35 non-null object\n",
      "residential_units                 35 non-null object\n",
      "sale_date                         35 non-null object\n",
      "sale_price                        35 non-null int64\n",
      "sale_price_clean                  35 non-null float64\n",
      "tax_class_at_present              35 non-null object\n",
      "tax_class_at_time_of_sale         35 non-null int64\n",
      "total_units                       35 non-null object\n",
      "year                              35 non-null int64\n",
      "year_built                        35 non-null int64\n",
      "zip_code                          35 non-null int64\n",
      "dtypes: float64(3), int64(11), object(12)\n",
      "memory usage: 7.4+ KB\n"
     ]
    }
   ],
   "source": [
    "brooklyn_high_val_03.info()"
   ]
  },
  {
   "cell_type": "code",
   "execution_count": 93,
   "metadata": {
    "collapsed": true
   },
   "outputs": [],
   "source": [
    "brooklyn_high_val_16=brooklyn_high_val[brooklyn_high_val['year']==2003]=brooklyn_high_val[brooklyn_high_val['year']==2016]"
   ]
  },
  {
   "cell_type": "code",
   "execution_count": 94,
   "metadata": {
    "collapsed": false
   },
   "outputs": [
    {
     "name": "stdout",
     "output_type": "stream",
     "text": [
      "<class 'pandas.core.frame.DataFrame'>\n",
      "Int64Index: 47 entries, 58040 to 58369\n",
      "Data columns (total 26 columns):\n",
      "Unnamed: 0                        47 non-null int64\n",
      "address                           47 non-null object\n",
      "apartment_number                  47 non-null object\n",
      "block                             47 non-null int64\n",
      "borough                           47 non-null int64\n",
      "building_class_at_present         47 non-null object\n",
      "building_class_at_time_of_sale    47 non-null object\n",
      "building_class_category           47 non-null object\n",
      "commercial_units                  47 non-null int64\n",
      "ease-ment                         47 non-null object\n",
      "gross_square_feet                 47 non-null float64\n",
      "gross_square_feet_c               47 non-null float64\n",
      "land_square_feet                  47 non-null object\n",
      "lot                               47 non-null int64\n",
      "month                             47 non-null int64\n",
      "neighborhood                      47 non-null object\n",
      "residential_units                 47 non-null object\n",
      "sale_date                         47 non-null object\n",
      "sale_price                        47 non-null int64\n",
      "sale_price_clean                  47 non-null float64\n",
      "tax_class_at_present              47 non-null object\n",
      "tax_class_at_time_of_sale         47 non-null int64\n",
      "total_units                       47 non-null object\n",
      "year                              47 non-null int64\n",
      "year_built                        47 non-null int64\n",
      "zip_code                          47 non-null int64\n",
      "dtypes: float64(3), int64(11), object(12)\n",
      "memory usage: 9.9+ KB\n"
     ]
    }
   ],
   "source": [
    "brooklyn_high_val_16.info()"
   ]
  },
  {
   "cell_type": "code",
   "execution_count": 95,
   "metadata": {
    "collapsed": true
   },
   "outputs": [],
   "source": [
    "t_stat,p=stats.ttest_ind(brooklyn_high_val_03['sale_price_clean'], brooklyn_high_val_16['sale_price_clean'], equal_var=False)"
   ]
  },
  {
   "cell_type": "code",
   "execution_count": 96,
   "metadata": {
    "collapsed": false
   },
   "outputs": [
    {
     "name": "stdout",
     "output_type": "stream",
     "text": [
      "T-Test for High Value Neighborhoods in Brooklyn in 2003 and 2016: -3.7011973616660425\n",
      "P-Value: 0.0005621905131893616\n"
     ]
    }
   ],
   "source": [
    "print('T-Test for High Value Neighborhoods in Brooklyn in 2003 and 2016:', t_stat)\n",
    "print('P-Value:', p)"
   ]
  },
  {
   "cell_type": "code",
   "execution_count": 99,
   "metadata": {
    "collapsed": false
   },
   "outputs": [
    {
     "name": "stdout",
     "output_type": "stream",
     "text": [
      "Average Price of High-Value Neighborhood in 2003: 979649.9714285714\n",
      "Average Price of High-Value Neighborhood in 2016: 14254287.021276595\n"
     ]
    }
   ],
   "source": [
    "print('Average Price of High-Value Neighborhood in 2003:', brooklyn_high_val_03['sale_price_clean'].mean())\n",
    "print('Average Price of High-Value Neighborhood in 2016:', brooklyn_high_val_16['sale_price_clean'].mean())"
   ]
  },
  {
   "cell_type": "markdown",
   "metadata": {},
   "source": [
    "While the non-null sample set was not as large as the high value Queens set, the T-stat of the high value set of Brooklyn is very similar.  The Brooklyn high value neighborhoods in 2016 saw a higher average sale price, but again not as high as the overall borough in 2003 versus 2016.\n",
    "\n",
    "Perhaps the growth in average sale price can be seen in the lower value neighborhoods."
   ]
  },
  {
   "cell_type": "code",
   "execution_count": 115,
   "metadata": {
    "collapsed": true
   },
   "outputs": [],
   "source": [
    "queens_low_val=queens[queens['neighborhood']==('BROAD_CHANNEL__' and 'SO._JAMAICA-BAISLEY_PARK_' or 'BRIARWOOD__' and 'SOUTH_JAMAICA__')].dropna()"
   ]
  },
  {
   "cell_type": "code",
   "execution_count": 116,
   "metadata": {
    "collapsed": false
   },
   "outputs": [
    {
     "name": "stdout",
     "output_type": "stream",
     "text": [
      "<class 'pandas.core.frame.DataFrame'>\n",
      "Int64Index: 1203 entries, 31142 to 62485\n",
      "Data columns (total 27 columns):\n",
      "Unnamed: 0                        1203 non-null int64\n",
      "address                           1203 non-null object\n",
      "apartment_number                  1203 non-null object\n",
      "block                             1203 non-null int64\n",
      "borough                           1203 non-null int64\n",
      "building_class_at_present         1203 non-null object\n",
      "building_class_at_time_of_sale    1203 non-null object\n",
      "building_class_category           1203 non-null object\n",
      "commercial_units                  1203 non-null object\n",
      "commerical_units                  1203 non-null object\n",
      "ease-ment                         1203 non-null object\n",
      "gross_square_feet                 1203 non-null int64\n",
      "gross_square_feet_c               1203 non-null float64\n",
      "land_square_feet                  1203 non-null object\n",
      "lot                               1203 non-null int64\n",
      "month                             1203 non-null int64\n",
      "neighborhood                      1203 non-null object\n",
      "residential_units                 1203 non-null object\n",
      "sale_date                         1203 non-null object\n",
      "sale_price                        1203 non-null int64\n",
      "sale_price_clean                  1203 non-null float64\n",
      "tax_class_at_present              1203 non-null object\n",
      "tax_class_at_time_of_sale         1203 non-null int64\n",
      "total_units                       1203 non-null object\n",
      "year                              1203 non-null int64\n",
      "year_built                        1203 non-null int64\n",
      "zip_code                          1203 non-null int64\n",
      "dtypes: float64(2), int64(11), object(14)\n",
      "memory usage: 263.2+ KB\n"
     ]
    }
   ],
   "source": [
    "queens_low_val.info()"
   ]
  },
  {
   "cell_type": "code",
   "execution_count": 128,
   "metadata": {
    "collapsed": true
   },
   "outputs": [],
   "source": [
    "queens_low_val_03=queens_low_val[queens_low_val['year']==2003]"
   ]
  },
  {
   "cell_type": "code",
   "execution_count": 129,
   "metadata": {
    "collapsed": false
   },
   "outputs": [],
   "source": [
    "queens_low_val_16=queens_low_val[queens_low_val['year']==2016]"
   ]
  },
  {
   "cell_type": "code",
   "execution_count": 130,
   "metadata": {
    "collapsed": false
   },
   "outputs": [],
   "source": [
    "t_stat,p=stats.ttest_ind(queens_low_val_03['sale_price_clean'], queens_low_val_16['sale_price_clean'], equal_var=False)"
   ]
  },
  {
   "cell_type": "code",
   "execution_count": 131,
   "metadata": {
    "collapsed": false
   },
   "outputs": [
    {
     "name": "stdout",
     "output_type": "stream",
     "text": [
      "T-Test for Low Value Neighborhoods in Queens in 2003 and 2016: -12.067632929252632\n",
      "P-Value: 4.050674779165717e-31\n"
     ]
    }
   ],
   "source": [
    "print('T-Test for Low Value Neighborhoods in Queens in 2003 and 2016:', t_stat)\n",
    "print('P-Value:', p)"
   ]
  },
  {
   "cell_type": "code",
   "execution_count": 132,
   "metadata": {
    "collapsed": false
   },
   "outputs": [
    {
     "name": "stdout",
     "output_type": "stream",
     "text": [
      "Average Price of Low-Value Neighborhood in 2003: 233675.1494102228\n",
      "Average Price of Low-Value Neighborhood in 2016: 370911.5136363636\n"
     ]
    }
   ],
   "source": [
    "print('Average Price of Low-Value Neighborhood in 2003:', queens_low_val_03['sale_price_clean'].mean())\n",
    "print('Average Price of Low-Value Neighborhood in 2016:', queens_low_val_16['sale_price_clean'].mean())"
   ]
  },
  {
   "cell_type": "markdown",
   "metadata": {},
   "source": [
    "The T-stat is much more closer to the T-stat for the whole borough of Queens than the High Value.  "
   ]
  },
  {
   "cell_type": "code",
   "execution_count": 142,
   "metadata": {
    "collapsed": true
   },
   "outputs": [],
   "source": [
    "brooklyn_low_val=brooklyn[brooklyn['neighborhood']==('FLATLANDS_' or 'GERRITSEN_BEACH' or 'CANARSIE'or 'CYPRESS_HILL')].dropna()"
   ]
  },
  {
   "cell_type": "code",
   "execution_count": 143,
   "metadata": {
    "collapsed": false
   },
   "outputs": [
    {
     "name": "stdout",
     "output_type": "stream",
     "text": [
      "<class 'pandas.core.frame.DataFrame'>\n",
      "Int64Index: 346 entries, 20954 to 48428\n",
      "Data columns (total 26 columns):\n",
      "Unnamed: 0                        346 non-null int64\n",
      "address                           346 non-null object\n",
      "apartment_number                  346 non-null object\n",
      "block                             346 non-null int64\n",
      "borough                           346 non-null int64\n",
      "building_class_at_present         346 non-null object\n",
      "building_class_at_time_of_sale    346 non-null object\n",
      "building_class_category           346 non-null object\n",
      "commercial_units                  346 non-null int64\n",
      "ease-ment                         346 non-null object\n",
      "gross_square_feet                 346 non-null float64\n",
      "gross_square_feet_c               346 non-null float64\n",
      "land_square_feet                  346 non-null object\n",
      "lot                               346 non-null int64\n",
      "month                             346 non-null int64\n",
      "neighborhood                      346 non-null object\n",
      "residential_units                 346 non-null object\n",
      "sale_date                         346 non-null object\n",
      "sale_price                        346 non-null int64\n",
      "sale_price_clean                  346 non-null float64\n",
      "tax_class_at_present              346 non-null object\n",
      "tax_class_at_time_of_sale         346 non-null int64\n",
      "total_units                       346 non-null object\n",
      "year                              346 non-null int64\n",
      "year_built                        346 non-null int64\n",
      "zip_code                          346 non-null int64\n",
      "dtypes: float64(3), int64(11), object(12)\n",
      "memory usage: 73.0+ KB\n"
     ]
    }
   ],
   "source": [
    "brooklyn_low_val.info()"
   ]
  },
  {
   "cell_type": "code",
   "execution_count": 144,
   "metadata": {
    "collapsed": true
   },
   "outputs": [],
   "source": [
    "brooklyn_low_val_03=brooklyn_low_val[brooklyn_low_val['year']==2003]"
   ]
  },
  {
   "cell_type": "code",
   "execution_count": 145,
   "metadata": {
    "collapsed": true
   },
   "outputs": [],
   "source": [
    "brooklyn_low_val_16=brooklyn_low_val[brooklyn_low_val['year']==2016]"
   ]
  },
  {
   "cell_type": "code",
   "execution_count": 146,
   "metadata": {
    "collapsed": false
   },
   "outputs": [
    {
     "name": "stdout",
     "output_type": "stream",
     "text": [
      "<class 'pandas.core.frame.DataFrame'>\n",
      "Int64Index: 218 entries, 20954 to 21434\n",
      "Data columns (total 26 columns):\n",
      "Unnamed: 0                        218 non-null int64\n",
      "address                           218 non-null object\n",
      "apartment_number                  218 non-null object\n",
      "block                             218 non-null int64\n",
      "borough                           218 non-null int64\n",
      "building_class_at_present         218 non-null object\n",
      "building_class_at_time_of_sale    218 non-null object\n",
      "building_class_category           218 non-null object\n",
      "commercial_units                  218 non-null int64\n",
      "ease-ment                         218 non-null object\n",
      "gross_square_feet                 218 non-null float64\n",
      "gross_square_feet_c               218 non-null float64\n",
      "land_square_feet                  218 non-null object\n",
      "lot                               218 non-null int64\n",
      "month                             218 non-null int64\n",
      "neighborhood                      218 non-null object\n",
      "residential_units                 218 non-null object\n",
      "sale_date                         218 non-null object\n",
      "sale_price                        218 non-null int64\n",
      "sale_price_clean                  218 non-null float64\n",
      "tax_class_at_present              218 non-null object\n",
      "tax_class_at_time_of_sale         218 non-null int64\n",
      "total_units                       218 non-null object\n",
      "year                              218 non-null int64\n",
      "year_built                        218 non-null int64\n",
      "zip_code                          218 non-null int64\n",
      "dtypes: float64(3), int64(11), object(12)\n",
      "memory usage: 46.0+ KB\n"
     ]
    }
   ],
   "source": [
    "brooklyn_low_val_03.info()"
   ]
  },
  {
   "cell_type": "code",
   "execution_count": 147,
   "metadata": {
    "collapsed": false
   },
   "outputs": [
    {
     "name": "stdout",
     "output_type": "stream",
     "text": [
      "<class 'pandas.core.frame.DataFrame'>\n",
      "Int64Index: 128 entries, 48196 to 48428\n",
      "Data columns (total 26 columns):\n",
      "Unnamed: 0                        128 non-null int64\n",
      "address                           128 non-null object\n",
      "apartment_number                  128 non-null object\n",
      "block                             128 non-null int64\n",
      "borough                           128 non-null int64\n",
      "building_class_at_present         128 non-null object\n",
      "building_class_at_time_of_sale    128 non-null object\n",
      "building_class_category           128 non-null object\n",
      "commercial_units                  128 non-null int64\n",
      "ease-ment                         128 non-null object\n",
      "gross_square_feet                 128 non-null float64\n",
      "gross_square_feet_c               128 non-null float64\n",
      "land_square_feet                  128 non-null object\n",
      "lot                               128 non-null int64\n",
      "month                             128 non-null int64\n",
      "neighborhood                      128 non-null object\n",
      "residential_units                 128 non-null object\n",
      "sale_date                         128 non-null object\n",
      "sale_price                        128 non-null int64\n",
      "sale_price_clean                  128 non-null float64\n",
      "tax_class_at_present              128 non-null object\n",
      "tax_class_at_time_of_sale         128 non-null int64\n",
      "total_units                       128 non-null object\n",
      "year                              128 non-null int64\n",
      "year_built                        128 non-null int64\n",
      "zip_code                          128 non-null int64\n",
      "dtypes: float64(3), int64(11), object(12)\n",
      "memory usage: 27.0+ KB\n"
     ]
    }
   ],
   "source": [
    "brooklyn_low_val_16.info()"
   ]
  },
  {
   "cell_type": "code",
   "execution_count": 148,
   "metadata": {
    "collapsed": true
   },
   "outputs": [],
   "source": [
    "t_stat,p=stats.ttest_ind(brooklyn_low_val_03['sale_price_clean'], brooklyn_low_val_16['sale_price_clean'], equal_var=False)"
   ]
  },
  {
   "cell_type": "code",
   "execution_count": 149,
   "metadata": {
    "collapsed": false
   },
   "outputs": [
    {
     "name": "stdout",
     "output_type": "stream",
     "text": [
      "T-Test for Low Value Neighborhoods in Brooklyn in 2003 and 2016: -6.952417782434274\n",
      "P-Value: 7.056341356720321e-11\n"
     ]
    }
   ],
   "source": [
    "print('T-Test for Low Value Neighborhoods in Brooklyn in 2003 and 2016:', t_stat)\n",
    "print('P-Value:', p)"
   ]
  },
  {
   "cell_type": "code",
   "execution_count": 150,
   "metadata": {
    "collapsed": false
   },
   "outputs": [
    {
     "name": "stdout",
     "output_type": "stream",
     "text": [
      "Average Price of Low-Value Neighborhood in 2003: 299856.0366972477\n",
      "Average Price of Low-Value Neighborhood in 2016: 457878.953125\n"
     ]
    }
   ],
   "source": [
    "print('Average Price of Low-Value Neighborhood in 2003:', brooklyn_low_val_03['sale_price_clean'].mean())\n",
    "print('Average Price of Low-Value Neighborhood in 2016:', brooklyn_low_val_16['sale_price_clean'].mean())"
   ]
  },
  {
   "cell_type": "markdown",
   "metadata": {},
   "source": [
    "The difference in sale prices in the low value neighborhood also is larger than the higher value neighborhoods.  \n",
    "\n",
    "The data shows that the majority of the growth in home prices were not experienced in the highest value neighborhoods, but rather in the lower value neighborhoods.  The prices in the lower valued neighborhoods did not reach the levels of the higher neighborhoods but they experience more growth in prices."
   ]
  },
  {
   "cell_type": "code",
   "execution_count": null,
   "metadata": {
    "collapsed": true
   },
   "outputs": [],
   "source": []
  }
 ],
 "metadata": {
  "anaconda-cloud": {},
  "kernelspec": {
   "display_name": "Python [Root]",
   "language": "python",
   "name": "Python [Root]"
  },
  "language_info": {
   "codemirror_mode": {
    "name": "ipython",
    "version": 3
   },
   "file_extension": ".py",
   "mimetype": "text/x-python",
   "name": "python",
   "nbconvert_exporter": "python",
   "pygments_lexer": "ipython3",
   "version": "3.5.2"
  }
 },
 "nbformat": 4,
 "nbformat_minor": 0
}
