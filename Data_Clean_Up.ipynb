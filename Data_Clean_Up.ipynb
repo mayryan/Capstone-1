{
 "cells": [
  {
   "cell_type": "code",
   "execution_count": 1,
   "metadata": {
    "collapsed": false
   },
   "outputs": [],
   "source": [
    "import pandas as pd\n",
    "import numpy as np"
   ]
  },
  {
   "cell_type": "markdown",
   "metadata": {},
   "source": [
    "# New York City Housing Values\n",
    "\n",
    "    Certain New York neighborhoods have been experiencing a dramatic rise in prices.  Homes in Williamsburg, Park Slope, Long Island City and Astoria that were once worth under a million dollars have seen their values in some cases triple.  Can it be possible to attain a fair price for a home and could current trends be used to predict future prices?\n",
    "    The City of New York tracks sales of all properties with prices, sale dates, address, zip codes and many other data points.  I will be using the spreadsheets for Queens and Brooklyn for the years 2003 and 2016.  Some neighborhoods in these boroughs, like Williamsburg and Long Island City, have become extremely desirable.   "
   ]
  },
  {
   "cell_type": "code",
   "execution_count": 2,
   "metadata": {
    "collapsed": false
   },
   "outputs": [],
   "source": [
    "queens_03 = pd.read_csv('C:\\\\Users\\\\Ryan May\\\\Desktop\\\\Springboard\\\\queens_sales_03.csv', low_memory=False, parse_dates=True)\n",
    "queens_16 = pd.read_csv('C:\\\\Users\\\\Ryan May\\\\Desktop\\\\Springboard\\\\queens_sales_16.csv', low_memory=False, parse_dates=True) \n",
    "brooklyn_16 = pd.read_csv('C:\\\\Users\\\\Ryan May\\\\Desktop\\\\Springboard\\\\brooklyn_sales_16.csv', low_memory=False, parse_dates=True)\n",
    "brooklyn_03 = pd.read_csv('C:\\\\Users\\\\Ryan May\\\\Desktop\\\\Springboard\\\\brooklyn_sales_03.csv', low_memory=False, parse_dates=True)"
   ]
  },
  {
   "cell_type": "code",
   "execution_count": 3,
   "metadata": {
    "collapsed": false
   },
   "outputs": [
    {
     "name": "stdout",
     "output_type": "stream",
     "text": [
      "(39177, 21)\n",
      "(27214, 21)\n",
      "(33706, 21)\n",
      "(25519, 21)\n"
     ]
    }
   ],
   "source": [
    "#Get general lay out of all tables\n",
    "print(queens_03.shape)\n",
    "print(queens_16.shape)\n",
    "print(brooklyn_03.shape)\n",
    "print(brooklyn_16.shape)"
   ]
  },
  {
   "cell_type": "code",
   "execution_count": 4,
   "metadata": {
    "collapsed": false
   },
   "outputs": [
    {
     "data": {
      "text/html": [
       "<div>\n",
       "<table border=\"1\" class=\"dataframe\">\n",
       "  <thead>\n",
       "    <tr style=\"text-align: right;\">\n",
       "      <th></th>\n",
       "      <th>BOROUGH</th>\n",
       "      <th>NEIGHBORHOOD</th>\n",
       "      <th>BUILDING CLASS CATEGORY</th>\n",
       "      <th>TAX CLASS AT PRESENT</th>\n",
       "      <th>BLOCK</th>\n",
       "      <th>LOT</th>\n",
       "      <th>EASE-MENT</th>\n",
       "      <th>BUILDING CLASS AT PRESENT</th>\n",
       "      <th>ADDRESS</th>\n",
       "      <th>APARTMENT NUMBER</th>\n",
       "      <th>...</th>\n",
       "      <th>RESIDENTIAL UNITS</th>\n",
       "      <th>COMMERCIAL UNITS</th>\n",
       "      <th>TOTAL UNITS</th>\n",
       "      <th>LAND SQUARE FEET</th>\n",
       "      <th>GROSS SQUARE FEET</th>\n",
       "      <th>YEAR BUILT</th>\n",
       "      <th>TAX CLASS AT TIME OF SALE</th>\n",
       "      <th>BUILDING CLASS AT TIME OF SALE</th>\n",
       "      <th>SALE PRICE</th>\n",
       "      <th>SALE DATE</th>\n",
       "    </tr>\n",
       "  </thead>\n",
       "  <tbody>\n",
       "    <tr>\n",
       "      <th>0</th>\n",
       "      <td>4</td>\n",
       "      <td>AIRPORT LA GUARDIA</td>\n",
       "      <td>01  ONE FAMILY HOMES</td>\n",
       "      <td>1</td>\n",
       "      <td>949</td>\n",
       "      <td>20</td>\n",
       "      <td></td>\n",
       "      <td>A5</td>\n",
       "      <td>1920 81 STREET</td>\n",
       "      <td></td>\n",
       "      <td>...</td>\n",
       "      <td>1</td>\n",
       "      <td>0</td>\n",
       "      <td>1</td>\n",
       "      <td>1,800</td>\n",
       "      <td>1,224</td>\n",
       "      <td>1945</td>\n",
       "      <td>1</td>\n",
       "      <td>A5</td>\n",
       "      <td>0</td>\n",
       "      <td>10/16/2003</td>\n",
       "    </tr>\n",
       "    <tr>\n",
       "      <th>1</th>\n",
       "      <td>4</td>\n",
       "      <td>AIRPORT LA GUARDIA</td>\n",
       "      <td>01  ONE FAMILY HOMES</td>\n",
       "      <td>1</td>\n",
       "      <td>949</td>\n",
       "      <td>47</td>\n",
       "      <td></td>\n",
       "      <td>A5</td>\n",
       "      <td>1974 81 STREET</td>\n",
       "      <td></td>\n",
       "      <td>...</td>\n",
       "      <td>1</td>\n",
       "      <td>0</td>\n",
       "      <td>1</td>\n",
       "      <td>1,800</td>\n",
       "      <td>1,224</td>\n",
       "      <td>1945</td>\n",
       "      <td>1</td>\n",
       "      <td>A5</td>\n",
       "      <td>318000</td>\n",
       "      <td>6/17/2003</td>\n",
       "    </tr>\n",
       "    <tr>\n",
       "      <th>2</th>\n",
       "      <td>4</td>\n",
       "      <td>AIRPORT LA GUARDIA</td>\n",
       "      <td>01  ONE FAMILY HOMES</td>\n",
       "      <td>1</td>\n",
       "      <td>949</td>\n",
       "      <td>47</td>\n",
       "      <td></td>\n",
       "      <td>A5</td>\n",
       "      <td>1974 81 STREET</td>\n",
       "      <td></td>\n",
       "      <td>...</td>\n",
       "      <td>1</td>\n",
       "      <td>0</td>\n",
       "      <td>1</td>\n",
       "      <td>1,800</td>\n",
       "      <td>1,224</td>\n",
       "      <td>1945</td>\n",
       "      <td>1</td>\n",
       "      <td>A5</td>\n",
       "      <td>100</td>\n",
       "      <td>5/6/2003</td>\n",
       "    </tr>\n",
       "    <tr>\n",
       "      <th>3</th>\n",
       "      <td>4</td>\n",
       "      <td>AIRPORT LA GUARDIA</td>\n",
       "      <td>01  ONE FAMILY HOMES</td>\n",
       "      <td>1</td>\n",
       "      <td>976</td>\n",
       "      <td>23</td>\n",
       "      <td></td>\n",
       "      <td>A5</td>\n",
       "      <td>2136 81 STREET</td>\n",
       "      <td></td>\n",
       "      <td>...</td>\n",
       "      <td>1</td>\n",
       "      <td>0</td>\n",
       "      <td>1</td>\n",
       "      <td>1,800</td>\n",
       "      <td>1,224</td>\n",
       "      <td>1950</td>\n",
       "      <td>1</td>\n",
       "      <td>A5</td>\n",
       "      <td>0</td>\n",
       "      <td>7/7/2003</td>\n",
       "    </tr>\n",
       "    <tr>\n",
       "      <th>4</th>\n",
       "      <td>4</td>\n",
       "      <td>AIRPORT LA GUARDIA</td>\n",
       "      <td>01  ONE FAMILY HOMES</td>\n",
       "      <td>1</td>\n",
       "      <td>976</td>\n",
       "      <td>33</td>\n",
       "      <td></td>\n",
       "      <td>A5</td>\n",
       "      <td>2156 81 STREET</td>\n",
       "      <td></td>\n",
       "      <td>...</td>\n",
       "      <td>1</td>\n",
       "      <td>0</td>\n",
       "      <td>1</td>\n",
       "      <td>1,800</td>\n",
       "      <td>1,224</td>\n",
       "      <td>1950</td>\n",
       "      <td>1</td>\n",
       "      <td>A5</td>\n",
       "      <td>370000</td>\n",
       "      <td>10/3/2003</td>\n",
       "    </tr>\n",
       "  </tbody>\n",
       "</table>\n",
       "<p>5 rows × 21 columns</p>\n",
       "</div>"
      ],
      "text/plain": [
       "   BOROUGH        NEIGHBORHOOD                       BUILDING CLASS CATEGORY  \\\n",
       "0        4  AIRPORT LA GUARDIA  01  ONE FAMILY HOMES                           \n",
       "1        4  AIRPORT LA GUARDIA  01  ONE FAMILY HOMES                           \n",
       "2        4  AIRPORT LA GUARDIA  01  ONE FAMILY HOMES                           \n",
       "3        4  AIRPORT LA GUARDIA  01  ONE FAMILY HOMES                           \n",
       "4        4  AIRPORT LA GUARDIA  01  ONE FAMILY HOMES                           \n",
       "\n",
       "  TAX CLASS AT PRESENT  BLOCK  LOT EASE-MENT BUILDING CLASS AT PRESENT  \\\n",
       "0                    1    949   20                                  A5   \n",
       "1                    1    949   47                                  A5   \n",
       "2                    1    949   47                                  A5   \n",
       "3                    1    976   23                                  A5   \n",
       "4                    1    976   33                                  A5   \n",
       "\n",
       "                                       ADDRESS APARTMENT NUMBER     ...      \\\n",
       "0   1920 81 STREET                                                  ...       \n",
       "1   1974 81 STREET                                                  ...       \n",
       "2   1974 81 STREET                                                  ...       \n",
       "3   2136 81 STREET                                                  ...       \n",
       "4   2156 81 STREET                                                  ...       \n",
       "\n",
       "   RESIDENTIAL UNITS COMMERCIAL UNITS  TOTAL UNITS LAND SQUARE FEET  \\\n",
       "0                  1                0            1            1,800   \n",
       "1                  1                0            1            1,800   \n",
       "2                  1                0            1            1,800   \n",
       "3                  1                0            1            1,800   \n",
       "4                  1                0            1            1,800   \n",
       "\n",
       "  GROSS SQUARE FEET YEAR BUILT  TAX CLASS AT TIME OF SALE  \\\n",
       "0             1,224       1945                          1   \n",
       "1             1,224       1945                          1   \n",
       "2             1,224       1945                          1   \n",
       "3             1,224       1950                          1   \n",
       "4             1,224       1950                          1   \n",
       "\n",
       "   BUILDING CLASS AT TIME OF SALE SALE PRICE   SALE DATE  \n",
       "0                             A5           0  10/16/2003  \n",
       "1                             A5      318000   6/17/2003  \n",
       "2                             A5         100    5/6/2003  \n",
       "3                             A5           0    7/7/2003  \n",
       "4                             A5      370000   10/3/2003  \n",
       "\n",
       "[5 rows x 21 columns]"
      ]
     },
     "execution_count": 4,
     "metadata": {},
     "output_type": "execute_result"
    }
   ],
   "source": [
    "queens_03.head()"
   ]
  },
  {
   "cell_type": "markdown",
   "metadata": {},
   "source": [
    "Each row in the dataset is one sale of a home during the given year.  Each column is a variable for a given variable.  The most important variables for my analysis are sale price, sale date and neighborhood.   "
   ]
  },
  {
   "cell_type": "code",
   "execution_count": 5,
   "metadata": {
    "collapsed": false
   },
   "outputs": [
    {
     "data": {
      "text/plain": [
       "count    3.917700e+04\n",
       "mean     2.351176e+05\n",
       "std      5.555295e+05\n",
       "min      0.000000e+00\n",
       "25%      0.000000e+00\n",
       "50%      1.609600e+05\n",
       "75%      3.600000e+05\n",
       "max      4.690000e+07\n",
       "Name: SALE PRICE, dtype: float64"
      ]
     },
     "execution_count": 5,
     "metadata": {},
     "output_type": "execute_result"
    }
   ],
   "source": [
    "queens_03['SALE PRICE'].describe()"
   ]
  },
  {
   "cell_type": "code",
   "execution_count": 14,
   "metadata": {
    "collapsed": false
   },
   "outputs": [
    {
     "data": {
      "text/plain": [
       "pandas.core.series.Series"
      ]
     },
     "execution_count": 14,
     "metadata": {},
     "output_type": "execute_result"
    }
   ],
   "source": [
    "queens_03['SALE_PRICE'].astype(str).astype(int)\n",
    "type(queens_03['SALE_PRICE'])"
   ]
  },
  {
   "cell_type": "code",
   "execution_count": 15,
   "metadata": {
    "collapsed": false
   },
   "outputs": [
    {
     "name": "stdout",
     "output_type": "stream",
     "text": [
      "<class 'pandas.core.frame.DataFrame'>\n",
      "RangeIndex: 39177 entries, 0 to 39176\n",
      "Data columns (total 21 columns):\n",
      "BOROUGH                           39177 non-null int64\n",
      "NEIGHBORHOOD                      39177 non-null object\n",
      "BUILDING_CLASS_CATEGORY           39177 non-null object\n",
      "TAX_CLASS_AT_PRESENT              39177 non-null object\n",
      "BLOCK                             39177 non-null int64\n",
      "LOT                               39177 non-null int64\n",
      "EASE-MENT                         39177 non-null object\n",
      "BUILDING_CLASS_AT_PRESENT         39177 non-null object\n",
      "ADDRESS                           39177 non-null object\n",
      "APARTMENT_NUMBER                  39177 non-null object\n",
      "ZIP_CODE                          39177 non-null int64\n",
      "RESIDENTIAL_UNITS                 39177 non-null object\n",
      "COMMERCIAL_UNITS                  39177 non-null int64\n",
      "TOTAL_UNITS                       39177 non-null object\n",
      "LAND_SQUARE_FEET                  39177 non-null object\n",
      "GROSS_SQUARE_FEET                 39177 non-null object\n",
      "YEAR_BUILT                        39177 non-null int64\n",
      "TAX_CLASS_AT_TIME_OF_SALE         39177 non-null int64\n",
      "BUILDING_CLASS_AT_TIME_OF_SALE    39177 non-null object\n",
      "SALE_PRICE                        39177 non-null int64\n",
      "SALE_DATE                         39177 non-null object\n",
      "dtypes: int64(8), object(13)\n",
      "memory usage: 6.3+ MB\n"
     ]
    }
   ],
   "source": [
    "queens_03.info()"
   ]
  },
  {
   "cell_type": "code",
   "execution_count": 16,
   "metadata": {
    "collapsed": false
   },
   "outputs": [
    {
     "data": {
      "text/plain": [
       "count    3.917700e+04\n",
       "mean     2.351176e+05\n",
       "std      5.555295e+05\n",
       "min      0.000000e+00\n",
       "25%      0.000000e+00\n",
       "50%      1.609600e+05\n",
       "75%      3.600000e+05\n",
       "max      4.690000e+07\n",
       "Name: SALE_PRICE, dtype: float64"
      ]
     },
     "execution_count": 16,
     "metadata": {},
     "output_type": "execute_result"
    }
   ],
   "source": [
    "queens_03['SALE_PRICE'].describe()"
   ]
  },
  {
   "cell_type": "markdown",
   "metadata": {},
   "source": [
    "### NaN Values\n",
    "\n",
    "One of the most glaring problems was that the houses with no sale price are listed with ‘0’.  This is a problem because this would drag the average sale price down artificially.  For each dataset, I ran the below code to replace all ‘0’ in the Sale Price column with NaN values.\n",
    "\n",
    "I also want to confirm that the Sale Price Columns are integers and not strings or objects, so I will recode them as such.  \n"
   ]
  },
  {
   "cell_type": "code",
   "execution_count": 17,
   "metadata": {
    "collapsed": false
   },
   "outputs": [
    {
     "data": {
      "text/plain": [
       "0              NaN\n",
       "1         318000.0\n",
       "2            100.0\n",
       "3              NaN\n",
       "4         370000.0\n",
       "5              NaN\n",
       "6         450000.0\n",
       "7              NaN\n",
       "8         605000.0\n",
       "9         510000.0\n",
       "10             NaN\n",
       "11             NaN\n",
       "12        167000.0\n",
       "13        136890.0\n",
       "14             NaN\n",
       "15             NaN\n",
       "16             NaN\n",
       "17             NaN\n",
       "18             NaN\n",
       "19             NaN\n",
       "20        245843.0\n",
       "21        245843.0\n",
       "22        257266.0\n",
       "23        257266.0\n",
       "24        257266.0\n",
       "25        160000.0\n",
       "26         60000.0\n",
       "27        350000.0\n",
       "28        135000.0\n",
       "29        233200.0\n",
       "           ...    \n",
       "39147          NaN\n",
       "39148          NaN\n",
       "39149          NaN\n",
       "39150          1.0\n",
       "39151          NaN\n",
       "39152          NaN\n",
       "39153    1270000.0\n",
       "39154          NaN\n",
       "39155    1862000.0\n",
       "39156     900000.0\n",
       "39157     705000.0\n",
       "39158          NaN\n",
       "39159          NaN\n",
       "39160          NaN\n",
       "39161    2575000.0\n",
       "39162     685000.0\n",
       "39163          NaN\n",
       "39164     120500.0\n",
       "39165    1560000.0\n",
       "39166    1560000.0\n",
       "39167    1560000.0\n",
       "39168          NaN\n",
       "39169     170000.0\n",
       "39170          NaN\n",
       "39171     365000.0\n",
       "39172     765000.0\n",
       "39173          NaN\n",
       "39174          NaN\n",
       "39175          NaN\n",
       "39176          NaN\n",
       "Name: SALE_PRICE, dtype: float64"
      ]
     },
     "execution_count": 17,
     "metadata": {},
     "output_type": "execute_result"
    }
   ],
   "source": [
    "queens_03['SALE_PRICE'].replace('0', np.nan)"
   ]
  },
  {
   "cell_type": "code",
   "execution_count": 18,
   "metadata": {
    "collapsed": false
   },
   "outputs": [
    {
     "data": {
      "text/plain": [
       "0        7800000.0\n",
       "1         660000.0\n",
       "2         275500.0\n",
       "3              NaN\n",
       "4         940000.0\n",
       "5              NaN\n",
       "6         470000.0\n",
       "7         329000.0\n",
       "8         273710.0\n",
       "9         310000.0\n",
       "10        369046.0\n",
       "11             NaN\n",
       "12         46335.0\n",
       "13        359000.0\n",
       "14        289000.0\n",
       "15        370000.0\n",
       "16        107315.0\n",
       "17        733140.0\n",
       "18       1120075.0\n",
       "19        300000.0\n",
       "20        332000.0\n",
       "21        420000.0\n",
       "22             NaN\n",
       "23        260000.0\n",
       "24        229164.0\n",
       "25        201820.0\n",
       "26         55000.0\n",
       "27        347000.0\n",
       "28         56000.0\n",
       "29        305000.0\n",
       "           ...    \n",
       "27184          NaN\n",
       "27185          NaN\n",
       "27186          NaN\n",
       "27187          NaN\n",
       "27188          NaN\n",
       "27189          NaN\n",
       "27190          NaN\n",
       "27191          NaN\n",
       "27192          NaN\n",
       "27193          NaN\n",
       "27194          NaN\n",
       "27195          NaN\n",
       "27196          NaN\n",
       "27197          NaN\n",
       "27198          NaN\n",
       "27199          NaN\n",
       "27200          NaN\n",
       "27201          NaN\n",
       "27202          NaN\n",
       "27203          NaN\n",
       "27204          NaN\n",
       "27205          NaN\n",
       "27206          NaN\n",
       "27207          NaN\n",
       "27208    6600000.0\n",
       "27209          NaN\n",
       "27210          NaN\n",
       "27211          NaN\n",
       "27212          NaN\n",
       "27213          NaN\n",
       "Name: SALE_PRICE, dtype: float64"
      ]
     },
     "execution_count": 18,
     "metadata": {},
     "output_type": "execute_result"
    }
   ],
   "source": [
    "queens_16['SALE_PRICE'].replace('0', np.nan)"
   ]
  },
  {
   "cell_type": "code",
   "execution_count": 19,
   "metadata": {
    "collapsed": false
   },
   "outputs": [
    {
     "data": {
      "text/plain": [
       "0               NaN\n",
       "1          829000.0\n",
       "2               NaN\n",
       "3          790000.0\n",
       "4          788000.0\n",
       "5         1090000.0\n",
       "6               NaN\n",
       "7          920000.0\n",
       "8           40000.0\n",
       "9               NaN\n",
       "10         839000.0\n",
       "11         854000.0\n",
       "12              NaN\n",
       "13         750000.0\n",
       "14         699000.0\n",
       "15         950000.0\n",
       "16         699000.0\n",
       "17        1050000.0\n",
       "18         738000.0\n",
       "19         680000.0\n",
       "20         638000.0\n",
       "21              NaN\n",
       "22         880000.0\n",
       "23         829000.0\n",
       "24         880000.0\n",
       "25         950000.0\n",
       "26         930000.0\n",
       "27              NaN\n",
       "28              NaN\n",
       "29              NaN\n",
       "            ...    \n",
       "25489     1200000.0\n",
       "25490           NaN\n",
       "25491           NaN\n",
       "25492           NaN\n",
       "25493     1200000.0\n",
       "25494           NaN\n",
       "25495           NaN\n",
       "25496      869000.0\n",
       "25497      550000.0\n",
       "25498      505000.0\n",
       "25499      874676.0\n",
       "25500     2300000.0\n",
       "25501           NaN\n",
       "25502           NaN\n",
       "25503           NaN\n",
       "25504           NaN\n",
       "25505           NaN\n",
       "25506           NaN\n",
       "25507           NaN\n",
       "25508           NaN\n",
       "25509           NaN\n",
       "25510           NaN\n",
       "25511           NaN\n",
       "25512           NaN\n",
       "25513           NaN\n",
       "25514     4300000.0\n",
       "25515     4300000.0\n",
       "25516           NaN\n",
       "25517    10500000.0\n",
       "25518           NaN\n",
       "Name: SALE_PRICE, dtype: float64"
      ]
     },
     "execution_count": 19,
     "metadata": {},
     "output_type": "execute_result"
    }
   ],
   "source": [
    "brooklyn_16['SALE_PRICE'].replace('0', np.nan)"
   ]
  },
  {
   "cell_type": "code",
   "execution_count": 20,
   "metadata": {
    "collapsed": false
   },
   "outputs": [
    {
     "data": {
      "text/plain": [
       "pandas.core.series.Series"
      ]
     },
     "execution_count": 20,
     "metadata": {},
     "output_type": "execute_result"
    }
   ],
   "source": [
    "type(brooklyn_03['SALE_PRICE'])"
   ]
  },
  {
   "cell_type": "code",
   "execution_count": 21,
   "metadata": {
    "collapsed": false
   },
   "outputs": [
    {
     "name": "stdout",
     "output_type": "stream",
     "text": [
      "<class 'pandas.core.frame.DataFrame'>\n",
      "RangeIndex: 33706 entries, 0 to 33705\n",
      "Data columns (total 21 columns):\n",
      "BOROUGH                           33706 non-null int64\n",
      "NEIGHBORHOOD                      33706 non-null object\n",
      "BUILDING_CLASS_CATEGORY           33706 non-null object\n",
      "TAX_CLASS_AT_PRESENT              33706 non-null object\n",
      "BLOCK                             33706 non-null int64\n",
      "LOT                               33706 non-null int64\n",
      "EASE-MENT                         33706 non-null object\n",
      "BUILDING_CLASS_AT_PRESENT         33706 non-null object\n",
      "ADDRESS                           33706 non-null object\n",
      "APARTMENT_NUMBER                  33706 non-null object\n",
      "ZIP_CODE                          33706 non-null int64\n",
      "RESIDENTIAL_UNITS                 33706 non-null object\n",
      "COMMERCIAL_UNITS                  33706 non-null int64\n",
      "TOTAL_UNITS                       33706 non-null object\n",
      "LAND_SQUARE_FEET                  33706 non-null object\n",
      "GROSS_SQUARE_FEET                 33706 non-null object\n",
      "YEAR_BUILT                        33706 non-null int64\n",
      "TAX_CLASS_AT_TIME_OF_SALE         33706 non-null int64\n",
      "BUILDING_CLASS_AT_TIME_OF_SALE    33706 non-null object\n",
      "SALE_PRICE                        33706 non-null int64\n",
      "SALE_DATE                         33706 non-null object\n",
      "dtypes: int64(8), object(13)\n",
      "memory usage: 5.4+ MB\n"
     ]
    }
   ],
   "source": [
    "#Repeat the same steps for all tables\n",
    "brooklyn_03.info()"
   ]
  },
  {
   "cell_type": "code",
   "execution_count": 22,
   "metadata": {
    "collapsed": false
   },
   "outputs": [
    {
     "name": "stdout",
     "output_type": "stream",
     "text": [
      "0         0\n",
      "1    450000\n",
      "2         0\n",
      "3         0\n",
      "4         0\n",
      "Name: SALE_PRICE, dtype: int64\n"
     ]
    }
   ],
   "source": [
    "print(brooklyn_03['SALE_PRICE'].head())"
   ]
  },
  {
   "cell_type": "code",
   "execution_count": 23,
   "metadata": {
    "collapsed": false
   },
   "outputs": [
    {
     "data": {
      "text/plain": [
       "0              NaN\n",
       "1         450000.0\n",
       "2              NaN\n",
       "3              NaN\n",
       "4              NaN\n",
       "5              NaN\n",
       "6              NaN\n",
       "7              NaN\n",
       "8         570000.0\n",
       "9         320000.0\n",
       "10        427500.0\n",
       "11             NaN\n",
       "12             NaN\n",
       "13             NaN\n",
       "14             NaN\n",
       "15        355000.0\n",
       "16             NaN\n",
       "17             NaN\n",
       "18       3307131.0\n",
       "19             NaN\n",
       "20             NaN\n",
       "21        365000.0\n",
       "22        775000.0\n",
       "23        500000.0\n",
       "24        385000.0\n",
       "25        450000.0\n",
       "26        405000.0\n",
       "27        360000.0\n",
       "28             NaN\n",
       "29        407000.0\n",
       "           ...    \n",
       "33676      28620.0\n",
       "33677     300000.0\n",
       "33678     715000.0\n",
       "33679          NaN\n",
       "33680     101524.0\n",
       "33681     258000.0\n",
       "33682          NaN\n",
       "33683    4000000.0\n",
       "33684    1085000.0\n",
       "33685     330000.0\n",
       "33686     585000.0\n",
       "33687    1475000.0\n",
       "33688     675000.0\n",
       "33689          NaN\n",
       "33690      33600.0\n",
       "33691     425000.0\n",
       "33692     425000.0\n",
       "33693       5000.0\n",
       "33694     300000.0\n",
       "33695     490000.0\n",
       "33696     102000.0\n",
       "33697          NaN\n",
       "33698     254400.0\n",
       "33699          NaN\n",
       "33700     192000.0\n",
       "33701          NaN\n",
       "33702     225000.0\n",
       "33703     200000.0\n",
       "33704     225000.0\n",
       "33705     487500.0\n",
       "Name: SALE_PRICE, dtype: float64"
      ]
     },
     "execution_count": 23,
     "metadata": {},
     "output_type": "execute_result"
    }
   ],
   "source": [
    "brooklyn_03['SALE_PRICE'].replace('0', np.nan)"
   ]
  },
  {
   "cell_type": "code",
   "execution_count": 24,
   "metadata": {
    "collapsed": false
   },
   "outputs": [
    {
     "data": {
      "text/plain": [
       "count    3.370600e+04\n",
       "mean     2.563889e+05\n",
       "std      6.683354e+05\n",
       "min      0.000000e+00\n",
       "25%      0.000000e+00\n",
       "50%      1.550000e+05\n",
       "75%      3.680000e+05\n",
       "max      5.928000e+07\n",
       "Name: SALE_PRICE, dtype: float64"
      ]
     },
     "execution_count": 24,
     "metadata": {},
     "output_type": "execute_result"
    }
   ],
   "source": [
    "brooklyn_03['SALE_PRICE'].describe()"
   ]
  },
  {
   "cell_type": "code",
   "execution_count": 25,
   "metadata": {
    "collapsed": false
   },
   "outputs": [
    {
     "data": {
      "text/plain": [
       "count    2.551900e+04\n",
       "mean     7.854771e+05\n",
       "std      4.457055e+06\n",
       "min      0.000000e+00\n",
       "25%      0.000000e+00\n",
       "50%      3.269890e+05\n",
       "75%      8.440645e+05\n",
       "max      3.450000e+08\n",
       "Name: SALE_PRICE, dtype: float64"
      ]
     },
     "execution_count": 25,
     "metadata": {},
     "output_type": "execute_result"
    }
   ],
   "source": [
    "brooklyn_16['SALE_PRICE'].describe()"
   ]
  },
  {
   "cell_type": "code",
   "execution_count": 26,
   "metadata": {
    "collapsed": false
   },
   "outputs": [
    {
     "name": "stdout",
     "output_type": "stream",
     "text": [
      "0         0\n",
      "1    829000\n",
      "2         0\n",
      "3    790000\n",
      "4    788000\n",
      "Name: SALE_PRICE, dtype: int64\n"
     ]
    }
   ],
   "source": [
    "print(brooklyn_16['SALE_PRICE'].head())"
   ]
  },
  {
   "cell_type": "code",
   "execution_count": 27,
   "metadata": {
    "collapsed": false
   },
   "outputs": [
    {
     "data": {
      "text/plain": [
       "0              0\n",
       "1         318000\n",
       "2            100\n",
       "3              0\n",
       "4         370000\n",
       "5              0\n",
       "6         450000\n",
       "7              0\n",
       "8         605000\n",
       "9         510000\n",
       "10             0\n",
       "11             0\n",
       "12        167000\n",
       "13        136890\n",
       "14             0\n",
       "15             0\n",
       "16             0\n",
       "17             0\n",
       "18             0\n",
       "19             0\n",
       "20        245843\n",
       "21        245843\n",
       "22        257266\n",
       "23        257266\n",
       "24        257266\n",
       "25        160000\n",
       "26         60000\n",
       "27        350000\n",
       "28        135000\n",
       "29        233200\n",
       "          ...   \n",
       "39147          0\n",
       "39148          0\n",
       "39149          0\n",
       "39150          1\n",
       "39151          0\n",
       "39152          0\n",
       "39153    1270000\n",
       "39154          0\n",
       "39155    1862000\n",
       "39156     900000\n",
       "39157     705000\n",
       "39158          0\n",
       "39159          0\n",
       "39160          0\n",
       "39161    2575000\n",
       "39162     685000\n",
       "39163          0\n",
       "39164     120500\n",
       "39165    1560000\n",
       "39166    1560000\n",
       "39167    1560000\n",
       "39168          0\n",
       "39169     170000\n",
       "39170          0\n",
       "39171     365000\n",
       "39172     765000\n",
       "39173          0\n",
       "39174          0\n",
       "39175          0\n",
       "39176          0\n",
       "Name: SALE_PRICE, dtype: int32"
      ]
     },
     "execution_count": 27,
     "metadata": {},
     "output_type": "execute_result"
    }
   ],
   "source": [
    "brooklyn_16['SALE_PRICE'].astype(int)\n",
    "brooklyn_03['SALE_PRICE'].astype(int)\n",
    "queens_16['SALE_PRICE'].astype(int)\n",
    "queens_03['SALE_PRICE'].astype(int)"
   ]
  },
  {
   "cell_type": "code",
   "execution_count": 28,
   "metadata": {
    "collapsed": false
   },
   "outputs": [
    {
     "data": {
      "text/plain": [
       "0               NaN\n",
       "1          829000.0\n",
       "2               NaN\n",
       "3          790000.0\n",
       "4          788000.0\n",
       "5         1090000.0\n",
       "6               NaN\n",
       "7          920000.0\n",
       "8           40000.0\n",
       "9               NaN\n",
       "10         839000.0\n",
       "11         854000.0\n",
       "12              NaN\n",
       "13         750000.0\n",
       "14         699000.0\n",
       "15         950000.0\n",
       "16         699000.0\n",
       "17        1050000.0\n",
       "18         738000.0\n",
       "19         680000.0\n",
       "20         638000.0\n",
       "21              NaN\n",
       "22         880000.0\n",
       "23         829000.0\n",
       "24         880000.0\n",
       "25         950000.0\n",
       "26         930000.0\n",
       "27              NaN\n",
       "28              NaN\n",
       "29              NaN\n",
       "            ...    \n",
       "25489     1200000.0\n",
       "25490           NaN\n",
       "25491           NaN\n",
       "25492           NaN\n",
       "25493     1200000.0\n",
       "25494           NaN\n",
       "25495           NaN\n",
       "25496      869000.0\n",
       "25497      550000.0\n",
       "25498      505000.0\n",
       "25499      874676.0\n",
       "25500     2300000.0\n",
       "25501           NaN\n",
       "25502           NaN\n",
       "25503           NaN\n",
       "25504           NaN\n",
       "25505           NaN\n",
       "25506           NaN\n",
       "25507           NaN\n",
       "25508           NaN\n",
       "25509           NaN\n",
       "25510           NaN\n",
       "25511           NaN\n",
       "25512           NaN\n",
       "25513           NaN\n",
       "25514     4300000.0\n",
       "25515     4300000.0\n",
       "25516           NaN\n",
       "25517    10500000.0\n",
       "25518           NaN\n",
       "Name: SALE_PRICE, dtype: float64"
      ]
     },
     "execution_count": 28,
     "metadata": {},
     "output_type": "execute_result"
    }
   ],
   "source": [
    "brooklyn_16['SALE_PRICE'].replace('0', np.nan)"
   ]
  },
  {
   "cell_type": "code",
   "execution_count": 29,
   "metadata": {
    "collapsed": false
   },
   "outputs": [
    {
     "data": {
      "text/plain": [
       "0        7800000.0\n",
       "1         660000.0\n",
       "2         275500.0\n",
       "3              NaN\n",
       "4         940000.0\n",
       "5              NaN\n",
       "6         470000.0\n",
       "7         329000.0\n",
       "8         273710.0\n",
       "9         310000.0\n",
       "10        369046.0\n",
       "11             NaN\n",
       "12         46335.0\n",
       "13        359000.0\n",
       "14        289000.0\n",
       "15        370000.0\n",
       "16        107315.0\n",
       "17        733140.0\n",
       "18       1120075.0\n",
       "19        300000.0\n",
       "20        332000.0\n",
       "21        420000.0\n",
       "22             NaN\n",
       "23        260000.0\n",
       "24        229164.0\n",
       "25        201820.0\n",
       "26         55000.0\n",
       "27        347000.0\n",
       "28         56000.0\n",
       "29        305000.0\n",
       "           ...    \n",
       "27184          NaN\n",
       "27185          NaN\n",
       "27186          NaN\n",
       "27187          NaN\n",
       "27188          NaN\n",
       "27189          NaN\n",
       "27190          NaN\n",
       "27191          NaN\n",
       "27192          NaN\n",
       "27193          NaN\n",
       "27194          NaN\n",
       "27195          NaN\n",
       "27196          NaN\n",
       "27197          NaN\n",
       "27198          NaN\n",
       "27199          NaN\n",
       "27200          NaN\n",
       "27201          NaN\n",
       "27202          NaN\n",
       "27203          NaN\n",
       "27204          NaN\n",
       "27205          NaN\n",
       "27206          NaN\n",
       "27207          NaN\n",
       "27208    6600000.0\n",
       "27209          NaN\n",
       "27210          NaN\n",
       "27211          NaN\n",
       "27212          NaN\n",
       "27213          NaN\n",
       "Name: SALE_PRICE, dtype: float64"
      ]
     },
     "execution_count": 29,
     "metadata": {},
     "output_type": "execute_result"
    }
   ],
   "source": [
    "queens_16['SALE_PRICE'].replace('0', np.nan)"
   ]
  },
  {
   "cell_type": "markdown",
   "metadata": {},
   "source": [
    "### Problems With Column Names   \n",
    "   When exploratory data analysis was tried was the column names in the 2016 datasets had problems.  All the column names had ‘\\n’ added to the end of the column name.  While this is not necessarily a catastrophic development, it can be confusing when trying run analysis on multiple datasets.\n",
    "    The spaces between the two words in the column names should be replaced with an underscore.  This will make it easier to confirm that the reader knows when the columns are being used."
   ]
  },
  {
   "cell_type": "code",
   "execution_count": 30,
   "metadata": {
    "collapsed": false
   },
   "outputs": [
    {
     "data": {
      "text/plain": [
       "Index(['BOROUGH', 'NEIGHBORHOOD', 'BUILDING_CLASS_CATEGORY',\n",
       "       'TAX_CLASS_AT_PRESENT', 'BLOCK', 'LOT', 'EASE-MENT',\n",
       "       'BUILDING_CLASS_AT_PRESENT', 'ADDRESS', 'APARTMENT_NUMBER', 'ZIP_CODE',\n",
       "       'RESIDENTIAL_UNITS', 'COMMERCIAL_UNITS', 'TOTAL_UNITS',\n",
       "       'LAND_SQUARE_FEET', 'GROSS_SQUARE_FEET', 'YEAR_BUILT',\n",
       "       'TAX_CLASS_AT_TIME_OF_SALE', 'BUILDING_CLASS_AT_TIME_OF_SALE',\n",
       "       'SALE_PRICE', 'SALE_DATE'],\n",
       "      dtype='object')"
      ]
     },
     "execution_count": 30,
     "metadata": {},
     "output_type": "execute_result"
    }
   ],
   "source": [
    "queens_16.columns"
   ]
  },
  {
   "cell_type": "code",
   "execution_count": 31,
   "metadata": {
    "collapsed": false
   },
   "outputs": [],
   "source": [
    "queens_16.columns=queens_16.columns.str.replace('\\n', '')"
   ]
  },
  {
   "cell_type": "code",
   "execution_count": 32,
   "metadata": {
    "collapsed": false
   },
   "outputs": [
    {
     "data": {
      "text/plain": [
       "Index(['BOROUGH', 'NEIGHBORHOOD', 'BUILDING_CLASS_CATEGORY',\n",
       "       'TAX_CLASS_AT_PRESENT', 'BLOCK', 'LOT', 'EASE-MENT',\n",
       "       'BUILDING_CLASS_AT_PRESENT', 'ADDRESS', 'APARTMENT_NUMBER', 'ZIP_CODE',\n",
       "       'RESIDENTIAL_UNITS', 'COMMERCIAL_UNITS', 'TOTAL_UNITS',\n",
       "       'LAND_SQUARE_FEET', 'GROSS_SQUARE_FEET', 'YEAR_BUILT',\n",
       "       'TAX_CLASS_AT_TIME_OF_SALE', 'BUILDING_CLASS_AT_TIME_OF_SALE',\n",
       "       'SALE_PRICE', 'SALE_DATE'],\n",
       "      dtype='object')"
      ]
     },
     "execution_count": 32,
     "metadata": {},
     "output_type": "execute_result"
    }
   ],
   "source": [
    "queens_16.columns"
   ]
  },
  {
   "cell_type": "code",
   "execution_count": 33,
   "metadata": {
    "collapsed": false
   },
   "outputs": [
    {
     "data": {
      "text/plain": [
       "Index(['BOROUGH', 'NEIGHBORHOOD', 'BUILDING_CLASS_CATEGORY',\n",
       "       'TAX_CLASS_AT_PRESENT', 'BLOCK', 'LOT', 'EASE-MENT',\n",
       "       'BUILDING_CLASS_AT_PRESENT', 'ADDRESS', 'APARTMENT_NUMBER', 'ZIP_CODE',\n",
       "       'RESIDENTIAL_UNITS', 'COMMERCIAL_UNITS', 'TOTAL_UNITS',\n",
       "       'LAND_SQUARE_FEET', 'GROSS_SQUARE_FEET', 'YEAR_BUILT',\n",
       "       'TAX_CLASS_AT_TIME_OF_SALE', 'BUILDING_CLASS_AT_TIME_OF_SALE',\n",
       "       'SALE_PRICE', 'SALE_DATE'],\n",
       "      dtype='object')"
      ]
     },
     "execution_count": 33,
     "metadata": {},
     "output_type": "execute_result"
    }
   ],
   "source": [
    "brooklyn_16.columns"
   ]
  },
  {
   "cell_type": "code",
   "execution_count": 34,
   "metadata": {
    "collapsed": true
   },
   "outputs": [],
   "source": [
    "brooklyn_16.columns=brooklyn_16.columns.str.replace('\\n', '')"
   ]
  },
  {
   "cell_type": "code",
   "execution_count": 35,
   "metadata": {
    "collapsed": false
   },
   "outputs": [
    {
     "data": {
      "text/plain": [
       "Index(['BOROUGH', 'NEIGHBORHOOD', 'BUILDING_CLASS_CATEGORY',\n",
       "       'TAX_CLASS_AT_PRESENT', 'BLOCK', 'LOT', 'EASE-MENT',\n",
       "       'BUILDING_CLASS_AT_PRESENT', 'ADDRESS', 'APARTMENT_NUMBER', 'ZIP_CODE',\n",
       "       'RESIDENTIAL_UNITS', 'COMMERCIAL_UNITS', 'TOTAL_UNITS',\n",
       "       'LAND_SQUARE_FEET', 'GROSS_SQUARE_FEET', 'YEAR_BUILT',\n",
       "       'TAX_CLASS_AT_TIME_OF_SALE', 'BUILDING_CLASS_AT_TIME_OF_SALE',\n",
       "       'SALE_PRICE', 'SALE_DATE'],\n",
       "      dtype='object')"
      ]
     },
     "execution_count": 35,
     "metadata": {},
     "output_type": "execute_result"
    }
   ],
   "source": [
    "brooklyn_16.columns"
   ]
  },
  {
   "cell_type": "code",
   "execution_count": 36,
   "metadata": {
    "collapsed": false
   },
   "outputs": [],
   "source": [
    "queens_16.columns=queens_16.columns.str.replace(' ', '_')\n",
    "queens_03.columns=queens_03.columns.str.replace(' ', '_')\n",
    "brooklyn_16.columns=brooklyn_16.columns.str.replace(' ', '_')\n",
    "brooklyn_03.columns=brooklyn_03.columns.str.replace(' ', '_')"
   ]
  },
  {
   "cell_type": "code",
   "execution_count": 37,
   "metadata": {
    "collapsed": false
   },
   "outputs": [
    {
     "data": {
      "text/plain": [
       "Index(['BOROUGH', 'NEIGHBORHOOD', 'BUILDING_CLASS_CATEGORY',\n",
       "       'TAX_CLASS_AT_PRESENT', 'BLOCK', 'LOT', 'EASE-MENT',\n",
       "       'BUILDING_CLASS_AT_PRESENT', 'ADDRESS', 'APARTMENT_NUMBER', 'ZIP_CODE',\n",
       "       'RESIDENTIAL_UNITS', 'COMMERCIAL_UNITS', 'TOTAL_UNITS',\n",
       "       'LAND_SQUARE_FEET', 'GROSS_SQUARE_FEET', 'YEAR_BUILT',\n",
       "       'TAX_CLASS_AT_TIME_OF_SALE', 'BUILDING_CLASS_AT_TIME_OF_SALE',\n",
       "       'SALE_PRICE', 'SALE_DATE'],\n",
       "      dtype='object')"
      ]
     },
     "execution_count": 37,
     "metadata": {},
     "output_type": "execute_result"
    }
   ],
   "source": [
    "queens_03.columns"
   ]
  },
  {
   "cell_type": "markdown",
   "metadata": {},
   "source": [
    "### Datetime\n",
    "Instead of being uploaded as a date time object, the sale date column in all tables were coded as objects.  These columns must be coded as datetime objects and the index must be reset to follow the new date time object.  "
   ]
  },
  {
   "cell_type": "code",
   "execution_count": 38,
   "metadata": {
    "collapsed": false
   },
   "outputs": [],
   "source": [
    "queens_03['SALE_DATE']= pd.to_datetime(queens_03['SALE_DATE'])"
   ]
  },
  {
   "cell_type": "code",
   "execution_count": 39,
   "metadata": {
    "collapsed": false
   },
   "outputs": [],
   "source": [
    "brooklyn_03['SALE_DATE']= pd.to_datetime(brooklyn_03['SALE_DATE'])"
   ]
  },
  {
   "cell_type": "code",
   "execution_count": 40,
   "metadata": {
    "collapsed": true
   },
   "outputs": [],
   "source": [
    "queens_16['SALE_DATE']= pd.to_datetime(queens_16['SALE_DATE'])"
   ]
  },
  {
   "cell_type": "code",
   "execution_count": 41,
   "metadata": {
    "collapsed": false
   },
   "outputs": [],
   "source": [
    "brooklyn_16['SALE_DATE']=pd.to_datetime(brooklyn_16['SALE_DATE'])"
   ]
  },
  {
   "cell_type": "code",
   "execution_count": 42,
   "metadata": {
    "collapsed": true
   },
   "outputs": [],
   "source": [
    "queens_03.index=pd.to_datetime(queens_03['SALE_DATE'])"
   ]
  },
  {
   "cell_type": "code",
   "execution_count": 43,
   "metadata": {
    "collapsed": false
   },
   "outputs": [],
   "source": [
    "queens_16.index=pd.to_datetime(queens_16['SALE_DATE'])"
   ]
  },
  {
   "cell_type": "code",
   "execution_count": 44,
   "metadata": {
    "collapsed": true
   },
   "outputs": [],
   "source": [
    "brooklyn_03.index=pd.to_datetime(brooklyn_03['SALE_DATE'])"
   ]
  },
  {
   "cell_type": "code",
   "execution_count": 45,
   "metadata": {
    "collapsed": true
   },
   "outputs": [],
   "source": [
    "brooklyn_16.index=pd.to_datetime(brooklyn_16['SALE_DATE'])"
   ]
  },
  {
   "cell_type": "code",
   "execution_count": 46,
   "metadata": {
    "collapsed": false
   },
   "outputs": [
    {
     "name": "stdout",
     "output_type": "stream",
     "text": [
      "<class 'pandas.core.frame.DataFrame'>\n",
      "DatetimeIndex: 39177 entries, 2003-10-16 to 2003-12-16\n",
      "Data columns (total 21 columns):\n",
      "BOROUGH                           39177 non-null int64\n",
      "NEIGHBORHOOD                      39177 non-null object\n",
      "BUILDING_CLASS_CATEGORY           39177 non-null object\n",
      "TAX_CLASS_AT_PRESENT              39177 non-null object\n",
      "BLOCK                             39177 non-null int64\n",
      "LOT                               39177 non-null int64\n",
      "EASE-MENT                         39177 non-null object\n",
      "BUILDING_CLASS_AT_PRESENT         39177 non-null object\n",
      "ADDRESS                           39177 non-null object\n",
      "APARTMENT_NUMBER                  39177 non-null object\n",
      "ZIP_CODE                          39177 non-null int64\n",
      "RESIDENTIAL_UNITS                 39177 non-null object\n",
      "COMMERCIAL_UNITS                  39177 non-null int64\n",
      "TOTAL_UNITS                       39177 non-null object\n",
      "LAND_SQUARE_FEET                  39177 non-null object\n",
      "GROSS_SQUARE_FEET                 39177 non-null object\n",
      "YEAR_BUILT                        39177 non-null int64\n",
      "TAX_CLASS_AT_TIME_OF_SALE         39177 non-null int64\n",
      "BUILDING_CLASS_AT_TIME_OF_SALE    39177 non-null object\n",
      "SALE_PRICE                        39177 non-null int64\n",
      "SALE_DATE                         39177 non-null datetime64[ns]\n",
      "dtypes: datetime64[ns](1), int64(8), object(12)\n",
      "memory usage: 6.6+ MB\n"
     ]
    }
   ],
   "source": [
    "queens_03.info()"
   ]
  },
  {
   "cell_type": "markdown",
   "metadata": {},
   "source": [
    "### Neighborhood Recoding\n",
    "\n",
    "Since the Neighborhood columns are coded as objects, the data cannot be sorted by neighborhood easily.  When the columns is recoded a categorical variable, the sales can be more easily sorted and analyzed.  "
   ]
  },
  {
   "cell_type": "code",
   "execution_count": 47,
   "metadata": {
    "collapsed": false
   },
   "outputs": [
    {
     "data": {
      "text/plain": [
       "SALE_DATE\n",
       "2003-10-16    AIRPORT LA GUARDIA\n",
       "2003-06-17    AIRPORT LA GUARDIA\n",
       "2003-05-06    AIRPORT LA GUARDIA\n",
       "2003-07-07    AIRPORT LA GUARDIA\n",
       "2003-10-03    AIRPORT LA GUARDIA\n",
       "2003-12-25    AIRPORT LA GUARDIA\n",
       "2003-06-30    AIRPORT LA GUARDIA\n",
       "2003-12-22    AIRPORT LA GUARDIA\n",
       "2003-12-30    AIRPORT LA GUARDIA\n",
       "2003-01-28    AIRPORT LA GUARDIA\n",
       "2003-02-27    AIRPORT LA GUARDIA\n",
       "2003-02-27    AIRPORT LA GUARDIA\n",
       "2003-12-10    AIRPORT LA GUARDIA\n",
       "2003-05-21    AIRPORT LA GUARDIA\n",
       "2003-02-27    AIRPORT LA GUARDIA\n",
       "2003-02-27    AIRPORT LA GUARDIA\n",
       "2003-02-27    AIRPORT LA GUARDIA\n",
       "2003-02-27    AIRPORT LA GUARDIA\n",
       "2003-02-27    AIRPORT LA GUARDIA\n",
       "2003-02-13    AIRPORT LA GUARDIA\n",
       "2003-10-10              ARVERNE \n",
       "2003-10-10              ARVERNE \n",
       "2003-10-31              ARVERNE \n",
       "2003-10-10              ARVERNE \n",
       "2003-09-23              ARVERNE \n",
       "2003-01-10              ARVERNE \n",
       "2003-11-14              ARVERNE \n",
       "2003-12-16              ARVERNE \n",
       "2003-03-06              ARVERNE \n",
       "2003-11-20              ARVERNE \n",
       "                     ...        \n",
       "2003-04-16              WOODSIDE\n",
       "2003-05-09              WOODSIDE\n",
       "2003-05-09              WOODSIDE\n",
       "2003-05-09              WOODSIDE\n",
       "2003-09-10              WOODSIDE\n",
       "2003-11-19              WOODSIDE\n",
       "2003-07-24              WOODSIDE\n",
       "2003-07-30              WOODSIDE\n",
       "2003-07-30              WOODSIDE\n",
       "2003-01-23              WOODSIDE\n",
       "2003-12-03              WOODSIDE\n",
       "2003-11-04              WOODSIDE\n",
       "2003-11-04              WOODSIDE\n",
       "2003-07-28              WOODSIDE\n",
       "2003-11-13              WOODSIDE\n",
       "2003-01-21              WOODSIDE\n",
       "2003-10-16              WOODSIDE\n",
       "2003-07-09              WOODSIDE\n",
       "2003-11-20              WOODSIDE\n",
       "2003-11-20              WOODSIDE\n",
       "2003-11-20              WOODSIDE\n",
       "2003-05-14              WOODSIDE\n",
       "2003-10-06              WOODSIDE\n",
       "2003-03-31              WOODSIDE\n",
       "2003-04-30              WOODSIDE\n",
       "2003-04-04              WOODSIDE\n",
       "2003-12-31              WOODSIDE\n",
       "2003-05-14              WOODSIDE\n",
       "2003-03-19              WOODSIDE\n",
       "2003-12-16              WOODSIDE\n",
       "Name: NEIGHBORHOOD, dtype: category\n",
       "Categories (59, object): [AIRPORT LA GUARDIA, ARVERNE, ASTORIA, BAYSIDE, ..., SUNNYSIDE, WHITESTONE, WOODHAVEN, WOODSIDE]"
      ]
     },
     "execution_count": 47,
     "metadata": {},
     "output_type": "execute_result"
    }
   ],
   "source": [
    "queens_03['NEIGHBORHOOD'].astype('category')"
   ]
  },
  {
   "cell_type": "code",
   "execution_count": 48,
   "metadata": {
    "collapsed": false
   },
   "outputs": [
    {
     "data": {
      "text/plain": [
       "SALE_DATE\n",
       "2016-01-14           AIRPORT JFK\n",
       "2016-07-26    AIRPORT LA GUARDIA\n",
       "2016-11-18    AIRPORT LA GUARDIA\n",
       "2016-06-13    AIRPORT LA GUARDIA\n",
       "2016-04-14    AIRPORT LA GUARDIA\n",
       "2016-08-15    AIRPORT LA GUARDIA\n",
       "2016-04-15    AIRPORT LA GUARDIA\n",
       "2016-11-15    AIRPORT LA GUARDIA\n",
       "2016-02-29              ARVERNE \n",
       "2016-08-18              ARVERNE \n",
       "2016-10-27              ARVERNE \n",
       "2016-02-08              ARVERNE \n",
       "2016-04-04              ARVERNE \n",
       "2016-05-04              ARVERNE \n",
       "2016-01-19              ARVERNE \n",
       "2016-09-22              ARVERNE \n",
       "2016-05-13              ARVERNE \n",
       "2016-10-14              ARVERNE \n",
       "2016-03-02              ARVERNE \n",
       "2016-12-12              ARVERNE \n",
       "2016-07-26              ARVERNE \n",
       "2016-02-02              ARVERNE \n",
       "2016-06-07              ARVERNE \n",
       "2016-12-09              ARVERNE \n",
       "2016-04-13              ARVERNE \n",
       "2016-11-17              ARVERNE \n",
       "2016-12-14              ARVERNE \n",
       "2016-10-28              ARVERNE \n",
       "2016-04-13              ARVERNE \n",
       "2016-08-31              ARVERNE \n",
       "                     ...        \n",
       "2016-03-24              WOODSIDE\n",
       "2016-03-24              WOODSIDE\n",
       "2016-03-24              WOODSIDE\n",
       "2016-03-24              WOODSIDE\n",
       "2016-03-24              WOODSIDE\n",
       "2016-03-24              WOODSIDE\n",
       "2016-03-24              WOODSIDE\n",
       "2016-03-24              WOODSIDE\n",
       "2016-03-24              WOODSIDE\n",
       "2016-03-24              WOODSIDE\n",
       "2016-03-24              WOODSIDE\n",
       "2016-03-24              WOODSIDE\n",
       "2016-03-24              WOODSIDE\n",
       "2016-03-24              WOODSIDE\n",
       "2016-03-24              WOODSIDE\n",
       "2016-03-24              WOODSIDE\n",
       "2016-03-24              WOODSIDE\n",
       "2016-03-24              WOODSIDE\n",
       "2016-03-24              WOODSIDE\n",
       "2016-03-24              WOODSIDE\n",
       "2016-03-24              WOODSIDE\n",
       "2016-03-24              WOODSIDE\n",
       "2016-03-24              WOODSIDE\n",
       "2016-03-24              WOODSIDE\n",
       "2016-03-24              WOODSIDE\n",
       "2016-03-24              WOODSIDE\n",
       "2016-03-24              WOODSIDE\n",
       "2016-03-24              WOODSIDE\n",
       "2016-03-24              WOODSIDE\n",
       "2016-03-24              WOODSIDE\n",
       "Name: NEIGHBORHOOD, dtype: category\n",
       "Categories (61, object): [AIRPORT JFK, AIRPORT LA GUARDIA, ARVERNE, ASTORIA, ..., SUNNYSIDE, WHITESTONE, WOODHAVEN, WOODSIDE]"
      ]
     },
     "execution_count": 48,
     "metadata": {},
     "output_type": "execute_result"
    }
   ],
   "source": [
    "queens_16['NEIGHBORHOOD'].astype('category')"
   ]
  },
  {
   "cell_type": "code",
   "execution_count": 49,
   "metadata": {
    "collapsed": false
   },
   "outputs": [
    {
     "data": {
      "text/plain": [
       "SALE_DATE\n",
       "2003-08-01         BATH BEACH\n",
       "2003-01-24         BATH BEACH\n",
       "2003-10-08         BATH BEACH\n",
       "2003-04-02         BATH BEACH\n",
       "2003-04-02         BATH BEACH\n",
       "2003-09-05         BATH BEACH\n",
       "2003-05-12         BATH BEACH\n",
       "2003-04-29         BATH BEACH\n",
       "2003-01-24         BATH BEACH\n",
       "2003-02-27         BATH BEACH\n",
       "2003-06-17         BATH BEACH\n",
       "2003-04-05         BATH BEACH\n",
       "2003-04-05         BATH BEACH\n",
       "2003-04-05         BATH BEACH\n",
       "2003-04-05         BATH BEACH\n",
       "2003-07-21         BATH BEACH\n",
       "2003-05-27         BATH BEACH\n",
       "2003-04-14         BATH BEACH\n",
       "2003-11-20         BATH BEACH\n",
       "2003-11-03         BATH BEACH\n",
       "2003-08-29         BATH BEACH\n",
       "2003-05-21         BATH BEACH\n",
       "2003-04-09         BATH BEACH\n",
       "2003-03-10         BATH BEACH\n",
       "2003-09-24         BATH BEACH\n",
       "2003-02-14         BATH BEACH\n",
       "2003-09-11         BATH BEACH\n",
       "2003-01-29         BATH BEACH\n",
       "2003-05-07         BATH BEACH\n",
       "2003-07-08         BATH BEACH\n",
       "                   ...       \n",
       "2003-01-28    WYCKOFF HEIGHTS\n",
       "2003-09-04    WYCKOFF HEIGHTS\n",
       "2003-06-03    WYCKOFF HEIGHTS\n",
       "2003-12-29    WYCKOFF HEIGHTS\n",
       "2003-12-29    WYCKOFF HEIGHTS\n",
       "2003-09-29    WYCKOFF HEIGHTS\n",
       "2003-03-10    WYCKOFF HEIGHTS\n",
       "2003-03-26    WYCKOFF HEIGHTS\n",
       "2003-09-26    WYCKOFF HEIGHTS\n",
       "2003-07-15    WYCKOFF HEIGHTS\n",
       "2003-07-23    WYCKOFF HEIGHTS\n",
       "2003-09-23    WYCKOFF HEIGHTS\n",
       "2003-01-31    WYCKOFF HEIGHTS\n",
       "2003-12-23    WYCKOFF HEIGHTS\n",
       "2003-08-29    WYCKOFF HEIGHTS\n",
       "2003-04-28    WYCKOFF HEIGHTS\n",
       "2003-04-28    WYCKOFF HEIGHTS\n",
       "2003-02-10    WYCKOFF HEIGHTS\n",
       "2003-10-27    WYCKOFF HEIGHTS\n",
       "2003-10-27    WYCKOFF HEIGHTS\n",
       "2003-08-04    WYCKOFF HEIGHTS\n",
       "2003-12-23    WYCKOFF HEIGHTS\n",
       "2003-08-29    WYCKOFF HEIGHTS\n",
       "2003-12-23    WYCKOFF HEIGHTS\n",
       "2003-08-29    WYCKOFF HEIGHTS\n",
       "2003-11-21    WYCKOFF HEIGHTS\n",
       "2003-12-29    WYCKOFF HEIGHTS\n",
       "2003-09-24    WYCKOFF HEIGHTS\n",
       "2003-12-29    WYCKOFF HEIGHTS\n",
       "2003-01-31    WYCKOFF HEIGHTS\n",
       "Name: NEIGHBORHOOD, dtype: category\n",
       "Categories (61, object): [BATH BEACH, BAY RIDGE, BEDFORD STUYVESANT, BENSONHURST, ..., WILLIAMSBURG-NORTH, WILLIAMSBURG-SOUTH, WINDSOR TERRACE, WYCKOFF HEIGHTS]"
      ]
     },
     "execution_count": 49,
     "metadata": {},
     "output_type": "execute_result"
    }
   ],
   "source": [
    "brooklyn_03['NEIGHBORHOOD'].astype('category')"
   ]
  },
  {
   "cell_type": "code",
   "execution_count": 50,
   "metadata": {
    "collapsed": false
   },
   "outputs": [
    {
     "data": {
      "text/plain": [
       "SALE_DATE\n",
       "2016-05-25         BATH BEACH\n",
       "2016-04-05         BATH BEACH\n",
       "2016-10-06         BATH BEACH\n",
       "2016-06-21         BATH BEACH\n",
       "2016-03-31         BATH BEACH\n",
       "2016-10-24         BATH BEACH\n",
       "2016-10-31         BATH BEACH\n",
       "2016-02-04         BATH BEACH\n",
       "2016-02-10         BATH BEACH\n",
       "2016-02-07         BATH BEACH\n",
       "2016-07-11         BATH BEACH\n",
       "2016-02-10         BATH BEACH\n",
       "2016-02-03         BATH BEACH\n",
       "2016-07-25         BATH BEACH\n",
       "2016-02-23         BATH BEACH\n",
       "2016-09-23         BATH BEACH\n",
       "2016-05-13         BATH BEACH\n",
       "2016-03-22         BATH BEACH\n",
       "2016-03-22         BATH BEACH\n",
       "2016-08-02         BATH BEACH\n",
       "2016-09-20         BATH BEACH\n",
       "2016-07-23         BATH BEACH\n",
       "2016-08-01         BATH BEACH\n",
       "2016-04-29         BATH BEACH\n",
       "2016-04-15         BATH BEACH\n",
       "2016-03-14         BATH BEACH\n",
       "2016-07-20         BATH BEACH\n",
       "2016-03-30         BATH BEACH\n",
       "2016-10-06         BATH BEACH\n",
       "2016-03-22         BATH BEACH\n",
       "                   ...       \n",
       "2016-05-04    WYCKOFF HEIGHTS\n",
       "2016-05-04    WYCKOFF HEIGHTS\n",
       "2016-11-22    WYCKOFF HEIGHTS\n",
       "2016-11-10    WYCKOFF HEIGHTS\n",
       "2016-04-28    WYCKOFF HEIGHTS\n",
       "2016-06-16    WYCKOFF HEIGHTS\n",
       "2016-08-29    WYCKOFF HEIGHTS\n",
       "2016-11-30    WYCKOFF HEIGHTS\n",
       "2016-05-31    WYCKOFF HEIGHTS\n",
       "2016-04-15    WYCKOFF HEIGHTS\n",
       "2016-01-25    WYCKOFF HEIGHTS\n",
       "2016-07-21    WYCKOFF HEIGHTS\n",
       "2016-04-07    WYCKOFF HEIGHTS\n",
       "2016-07-08    WYCKOFF HEIGHTS\n",
       "2016-10-09    WYCKOFF HEIGHTS\n",
       "2016-03-18    WYCKOFF HEIGHTS\n",
       "2016-12-28    WYCKOFF HEIGHTS\n",
       "2016-01-08    WYCKOFF HEIGHTS\n",
       "2016-12-09    WYCKOFF HEIGHTS\n",
       "2016-08-25    WYCKOFF HEIGHTS\n",
       "2016-11-29    WYCKOFF HEIGHTS\n",
       "2016-10-24    WYCKOFF HEIGHTS\n",
       "2016-01-29    WYCKOFF HEIGHTS\n",
       "2016-03-24    WYCKOFF HEIGHTS\n",
       "2016-02-18    WYCKOFF HEIGHTS\n",
       "2016-05-17    WYCKOFF HEIGHTS\n",
       "2016-07-13    WYCKOFF HEIGHTS\n",
       "2016-03-01    WYCKOFF HEIGHTS\n",
       "2016-03-01    WYCKOFF HEIGHTS\n",
       "2016-01-25    WYCKOFF HEIGHTS\n",
       "Name: NEIGHBORHOOD, dtype: category\n",
       "Categories (60, object): [BATH BEACH, BAY RIDGE, BEDFORD STUYVESANT, BENSONHURST, ..., WILLIAMSBURG-NORTH, WILLIAMSBURG-SOUTH, WINDSOR TERRACE, WYCKOFF HEIGHTS]"
      ]
     },
     "execution_count": 50,
     "metadata": {},
     "output_type": "execute_result"
    }
   ],
   "source": [
    "brooklyn_16['NEIGHBORHOOD'].astype('category')"
   ]
  },
  {
   "cell_type": "markdown",
   "metadata": {},
   "source": [
    "Lastly, concatenating the two Queens and the two Brooklyn datasets will allow easier comparison between 2003 and 2016 in the same neighborhoods.  The concatenated datasets will be save to CSV files to enable further analysis"
   ]
  },
  {
   "cell_type": "code",
   "execution_count": 53,
   "metadata": {
    "collapsed": true
   },
   "outputs": [],
   "source": [
    "queens=pd.concat([queens_03, queens_16])\n",
    "brooklyn=pd.concat([brooklyn_03,brooklyn_16])"
   ]
  },
  {
   "cell_type": "code",
   "execution_count": 54,
   "metadata": {
    "collapsed": false
   },
   "outputs": [],
   "source": [
    "queens.to_csv('queens_clean.csv')\n",
    "brooklyn.to_csv('brooklyn_clean.csv')"
   ]
  }
 ],
 "metadata": {
  "anaconda-cloud": {},
  "kernelspec": {
   "display_name": "Python [Root]",
   "language": "python",
   "name": "Python [Root]"
  },
  "language_info": {
   "codemirror_mode": {
    "name": "ipython",
    "version": 3
   },
   "file_extension": ".py",
   "mimetype": "text/x-python",
   "name": "python",
   "nbconvert_exporter": "python",
   "pygments_lexer": "ipython3",
   "version": "3.5.2"
  }
 },
 "nbformat": 4,
 "nbformat_minor": 0
}
