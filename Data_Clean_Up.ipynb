{
 "cells": [
  {
   "cell_type": "code",
   "execution_count": 118,
   "metadata": {
    "collapsed": false
   },
   "outputs": [],
   "source": [
    "import pandas as pd\n",
    "import numpy as np"
   ]
  },
  {
   "cell_type": "markdown",
   "metadata": {},
   "source": [
    "# New York City Housing Values\n",
    "\n",
    "    Certain New York neighborhoods have been experiencing a dramatic rise in prices.  Homes in Williamsburg, Park Slope, Long Island City and Astoria that were once worth under a million dollars have seen their values in some cases triple.  Can it be possible to attain a fair price for a home and could current trends be used to predict future prices?\n",
    "    The City of New York tracks sales of all properties with prices, sale dates, address, zip codes and many other data points.  I will be using the spreadsheets for Queens and Brooklyn for the years 2003 and 2016.  Some neighborhoods in these boroughs, like Williamsburg and Long Island City, have become extremely desirable.   "
   ]
  },
  {
   "cell_type": "code",
   "execution_count": 119,
   "metadata": {
    "collapsed": false
   },
   "outputs": [],
   "source": [
    "queens_03 = pd.read_csv('C:\\\\Users\\\\Ryan May\\\\Desktop\\\\Springboard\\\\queens_sales_03.csv', low_memory=False, parse_dates=True)\n",
    "queens_16 = pd.read_csv('C:\\\\Users\\\\Ryan May\\\\Desktop\\\\Springboard\\\\queens_sales_16.csv', low_memory=False, parse_dates=True) \n",
    "brooklyn_16 = pd.read_csv('C:\\\\Users\\\\Ryan May\\\\Desktop\\\\Springboard\\\\brooklyn_sales_16.csv', low_memory=False, parse_dates=True)\n",
    "brooklyn_03 = pd.read_csv('C:\\\\Users\\\\Ryan May\\\\Desktop\\\\Springboard\\\\brooklyn_sales_03.csv', low_memory=False, parse_dates=True)"
   ]
  },
  {
   "cell_type": "code",
   "execution_count": 120,
   "metadata": {
    "collapsed": false
   },
   "outputs": [
    {
     "name": "stdout",
     "output_type": "stream",
     "text": [
      "(39177, 21)\n",
      "(27214, 21)\n",
      "(33706, 21)\n",
      "(25519, 21)\n"
     ]
    }
   ],
   "source": [
    "#Get general lay out of all tables\n",
    "print(queens_03.shape)\n",
    "print(queens_16.shape)\n",
    "print(brooklyn_03.shape)\n",
    "print(brooklyn_16.shape)"
   ]
  },
  {
   "cell_type": "code",
   "execution_count": 121,
   "metadata": {
    "collapsed": false
   },
   "outputs": [
    {
     "data": {
      "text/html": [
       "<div>\n",
       "<table border=\"1\" class=\"dataframe\">\n",
       "  <thead>\n",
       "    <tr style=\"text-align: right;\">\n",
       "      <th></th>\n",
       "      <th>BOROUGH</th>\n",
       "      <th>NEIGHBORHOOD</th>\n",
       "      <th>BUILDING CLASS CATEGORY</th>\n",
       "      <th>TAX CLASS AT PRESENT</th>\n",
       "      <th>BLOCK</th>\n",
       "      <th>LOT</th>\n",
       "      <th>EASE-MENT</th>\n",
       "      <th>BUILDING CLASS AT PRESENT</th>\n",
       "      <th>ADDRESS</th>\n",
       "      <th>APARTMENT NUMBER</th>\n",
       "      <th>...</th>\n",
       "      <th>RESIDENTIAL UNITS</th>\n",
       "      <th>COMMERCIAL UNITS</th>\n",
       "      <th>TOTAL UNITS</th>\n",
       "      <th>LAND SQUARE FEET</th>\n",
       "      <th>GROSS SQUARE FEET</th>\n",
       "      <th>YEAR BUILT</th>\n",
       "      <th>TAX CLASS AT TIME OF SALE</th>\n",
       "      <th>BUILDING CLASS AT TIME OF SALE</th>\n",
       "      <th>SALE PRICE</th>\n",
       "      <th>SALE DATE</th>\n",
       "    </tr>\n",
       "  </thead>\n",
       "  <tbody>\n",
       "    <tr>\n",
       "      <th>0</th>\n",
       "      <td>4</td>\n",
       "      <td>AIRPORT LA GUARDIA</td>\n",
       "      <td>01  ONE FAMILY HOMES</td>\n",
       "      <td>1</td>\n",
       "      <td>949</td>\n",
       "      <td>20</td>\n",
       "      <td></td>\n",
       "      <td>A5</td>\n",
       "      <td>1920 81 STREET</td>\n",
       "      <td></td>\n",
       "      <td>...</td>\n",
       "      <td>1</td>\n",
       "      <td>0</td>\n",
       "      <td>1</td>\n",
       "      <td>1,800</td>\n",
       "      <td>1,224</td>\n",
       "      <td>1945</td>\n",
       "      <td>1</td>\n",
       "      <td>A5</td>\n",
       "      <td>0</td>\n",
       "      <td>10/16/2003</td>\n",
       "    </tr>\n",
       "    <tr>\n",
       "      <th>1</th>\n",
       "      <td>4</td>\n",
       "      <td>AIRPORT LA GUARDIA</td>\n",
       "      <td>01  ONE FAMILY HOMES</td>\n",
       "      <td>1</td>\n",
       "      <td>949</td>\n",
       "      <td>47</td>\n",
       "      <td></td>\n",
       "      <td>A5</td>\n",
       "      <td>1974 81 STREET</td>\n",
       "      <td></td>\n",
       "      <td>...</td>\n",
       "      <td>1</td>\n",
       "      <td>0</td>\n",
       "      <td>1</td>\n",
       "      <td>1,800</td>\n",
       "      <td>1,224</td>\n",
       "      <td>1945</td>\n",
       "      <td>1</td>\n",
       "      <td>A5</td>\n",
       "      <td>318000</td>\n",
       "      <td>6/17/2003</td>\n",
       "    </tr>\n",
       "    <tr>\n",
       "      <th>2</th>\n",
       "      <td>4</td>\n",
       "      <td>AIRPORT LA GUARDIA</td>\n",
       "      <td>01  ONE FAMILY HOMES</td>\n",
       "      <td>1</td>\n",
       "      <td>949</td>\n",
       "      <td>47</td>\n",
       "      <td></td>\n",
       "      <td>A5</td>\n",
       "      <td>1974 81 STREET</td>\n",
       "      <td></td>\n",
       "      <td>...</td>\n",
       "      <td>1</td>\n",
       "      <td>0</td>\n",
       "      <td>1</td>\n",
       "      <td>1,800</td>\n",
       "      <td>1,224</td>\n",
       "      <td>1945</td>\n",
       "      <td>1</td>\n",
       "      <td>A5</td>\n",
       "      <td>100</td>\n",
       "      <td>5/6/2003</td>\n",
       "    </tr>\n",
       "    <tr>\n",
       "      <th>3</th>\n",
       "      <td>4</td>\n",
       "      <td>AIRPORT LA GUARDIA</td>\n",
       "      <td>01  ONE FAMILY HOMES</td>\n",
       "      <td>1</td>\n",
       "      <td>976</td>\n",
       "      <td>23</td>\n",
       "      <td></td>\n",
       "      <td>A5</td>\n",
       "      <td>2136 81 STREET</td>\n",
       "      <td></td>\n",
       "      <td>...</td>\n",
       "      <td>1</td>\n",
       "      <td>0</td>\n",
       "      <td>1</td>\n",
       "      <td>1,800</td>\n",
       "      <td>1,224</td>\n",
       "      <td>1950</td>\n",
       "      <td>1</td>\n",
       "      <td>A5</td>\n",
       "      <td>0</td>\n",
       "      <td>7/7/2003</td>\n",
       "    </tr>\n",
       "    <tr>\n",
       "      <th>4</th>\n",
       "      <td>4</td>\n",
       "      <td>AIRPORT LA GUARDIA</td>\n",
       "      <td>01  ONE FAMILY HOMES</td>\n",
       "      <td>1</td>\n",
       "      <td>976</td>\n",
       "      <td>33</td>\n",
       "      <td></td>\n",
       "      <td>A5</td>\n",
       "      <td>2156 81 STREET</td>\n",
       "      <td></td>\n",
       "      <td>...</td>\n",
       "      <td>1</td>\n",
       "      <td>0</td>\n",
       "      <td>1</td>\n",
       "      <td>1,800</td>\n",
       "      <td>1,224</td>\n",
       "      <td>1950</td>\n",
       "      <td>1</td>\n",
       "      <td>A5</td>\n",
       "      <td>370000</td>\n",
       "      <td>10/3/2003</td>\n",
       "    </tr>\n",
       "  </tbody>\n",
       "</table>\n",
       "<p>5 rows × 21 columns</p>\n",
       "</div>"
      ],
      "text/plain": [
       "   BOROUGH               NEIGHBORHOOD  \\\n",
       "0        4  AIRPORT LA GUARDIA          \n",
       "1        4  AIRPORT LA GUARDIA          \n",
       "2        4  AIRPORT LA GUARDIA          \n",
       "3        4  AIRPORT LA GUARDIA          \n",
       "4        4  AIRPORT LA GUARDIA          \n",
       "\n",
       "                        BUILDING CLASS CATEGORY TAX CLASS AT PRESENT  BLOCK  \\\n",
       "0  01  ONE FAMILY HOMES                                            1    949   \n",
       "1  01  ONE FAMILY HOMES                                            1    949   \n",
       "2  01  ONE FAMILY HOMES                                            1    949   \n",
       "3  01  ONE FAMILY HOMES                                            1    976   \n",
       "4  01  ONE FAMILY HOMES                                            1    976   \n",
       "\n",
       "   LOT EASE-MENT BUILDING CLASS AT PRESENT  \\\n",
       "0   20                                  A5   \n",
       "1   47                                  A5   \n",
       "2   47                                  A5   \n",
       "3   23                                  A5   \n",
       "4   33                                  A5   \n",
       "\n",
       "                                       ADDRESS APARTMENT NUMBER     ...      \\\n",
       "0   1920 81 STREET                                                  ...       \n",
       "1   1974 81 STREET                                                  ...       \n",
       "2   1974 81 STREET                                                  ...       \n",
       "3   2136 81 STREET                                                  ...       \n",
       "4   2156 81 STREET                                                  ...       \n",
       "\n",
       "   RESIDENTIAL UNITS COMMERCIAL UNITS  TOTAL UNITS LAND SQUARE FEET  \\\n",
       "0                  1                0            1            1,800   \n",
       "1                  1                0            1            1,800   \n",
       "2                  1                0            1            1,800   \n",
       "3                  1                0            1            1,800   \n",
       "4                  1                0            1            1,800   \n",
       "\n",
       "  GROSS SQUARE FEET YEAR BUILT  TAX CLASS AT TIME OF SALE  \\\n",
       "0             1,224       1945                          1   \n",
       "1             1,224       1945                          1   \n",
       "2             1,224       1945                          1   \n",
       "3             1,224       1950                          1   \n",
       "4             1,224       1950                          1   \n",
       "\n",
       "   BUILDING CLASS AT TIME OF SALE SALE PRICE   SALE DATE  \n",
       "0                             A5           0  10/16/2003  \n",
       "1                             A5      318000   6/17/2003  \n",
       "2                             A5         100    5/6/2003  \n",
       "3                             A5           0    7/7/2003  \n",
       "4                             A5      370000   10/3/2003  \n",
       "\n",
       "[5 rows x 21 columns]"
      ]
     },
     "execution_count": 121,
     "metadata": {},
     "output_type": "execute_result"
    }
   ],
   "source": [
    "queens_03.head()"
   ]
  },
  {
   "cell_type": "markdown",
   "metadata": {},
   "source": [
    "Each row in the dataset is one sale of a home during the given year.  Each column is a variable for a given variable.  The most important variables for my analysis are sale price, sale date and neighborhood.   "
   ]
  },
  {
   "cell_type": "code",
   "execution_count": 122,
   "metadata": {
    "collapsed": false
   },
   "outputs": [
    {
     "data": {
      "text/plain": [
       "count    3.917700e+04\n",
       "mean     2.351176e+05\n",
       "std      5.555295e+05\n",
       "min      0.000000e+00\n",
       "25%      0.000000e+00\n",
       "50%      1.609600e+05\n",
       "75%      3.600000e+05\n",
       "max      4.690000e+07\n",
       "Name: SALE PRICE, dtype: float64"
      ]
     },
     "execution_count": 122,
     "metadata": {},
     "output_type": "execute_result"
    }
   ],
   "source": [
    "queens_03['SALE PRICE'].describe()"
   ]
  },
  {
   "cell_type": "code",
   "execution_count": 123,
   "metadata": {
    "collapsed": false
   },
   "outputs": [
    {
     "data": {
      "text/plain": [
       "pandas.core.series.Series"
      ]
     },
     "execution_count": 123,
     "metadata": {},
     "output_type": "execute_result"
    }
   ],
   "source": [
    "queens_03['SALE PRICE'].astype(str).astype(int)\n",
    "type(queens_03['SALE PRICE'])"
   ]
  },
  {
   "cell_type": "code",
   "execution_count": 124,
   "metadata": {
    "collapsed": false
   },
   "outputs": [
    {
     "name": "stdout",
     "output_type": "stream",
     "text": [
      "<class 'pandas.core.frame.DataFrame'>\n",
      "RangeIndex: 39177 entries, 0 to 39176\n",
      "Data columns (total 21 columns):\n",
      "BOROUGH                           39177 non-null int64\n",
      "NEIGHBORHOOD                      39177 non-null object\n",
      "BUILDING CLASS CATEGORY           39177 non-null object\n",
      "TAX CLASS AT PRESENT              39177 non-null object\n",
      "BLOCK                             39177 non-null int64\n",
      "LOT                               39177 non-null int64\n",
      "EASE-MENT                         39177 non-null object\n",
      "BUILDING CLASS AT PRESENT         39177 non-null object\n",
      "ADDRESS                           39177 non-null object\n",
      "APARTMENT NUMBER                  39177 non-null object\n",
      "ZIP CODE                          39177 non-null int64\n",
      "RESIDENTIAL UNITS                 39177 non-null object\n",
      "COMMERCIAL UNITS                  39177 non-null int64\n",
      "TOTAL UNITS                       39177 non-null object\n",
      "LAND SQUARE FEET                  39177 non-null object\n",
      "GROSS SQUARE FEET                 39177 non-null object\n",
      "YEAR BUILT                        39177 non-null int64\n",
      "TAX CLASS AT TIME OF SALE         39177 non-null int64\n",
      "BUILDING CLASS AT TIME OF SALE    39177 non-null object\n",
      "SALE PRICE                        39177 non-null int64\n",
      "SALE DATE                         39177 non-null object\n",
      "dtypes: int64(8), object(13)\n",
      "memory usage: 6.3+ MB\n"
     ]
    }
   ],
   "source": [
    "queens_03.info()"
   ]
  },
  {
   "cell_type": "code",
   "execution_count": 96,
   "metadata": {
    "collapsed": false
   },
   "outputs": [
    {
     "data": {
      "text/plain": [
       "count    3.917700e+04\n",
       "mean     2.351176e+05\n",
       "std      5.555295e+05\n",
       "min      0.000000e+00\n",
       "25%      0.000000e+00\n",
       "50%      1.609600e+05\n",
       "75%      3.600000e+05\n",
       "max      4.690000e+07\n",
       "Name: SALE PRICE, dtype: float64"
      ]
     },
     "execution_count": 96,
     "metadata": {},
     "output_type": "execute_result"
    }
   ],
   "source": [
    "queens_03['SALE PRICE'].describe()"
   ]
  },
  {
   "cell_type": "markdown",
   "metadata": {},
   "source": [
    "### NaN Values\n",
    "\n",
    "One of the most glaring problems was that the houses with no sale price are listed with ‘0’.  This is a problem because this would drag the average sale price down artificially.  For each dataset, I ran the below code to replace all ‘0’ in the Sale Price column with NaN values.\n",
    "\n",
    "I also want to confirm that the Sale Price Columns are integers and not strings or objects, so I will recode them as such.  \n"
   ]
  },
  {
   "cell_type": "code",
   "execution_count": 143,
   "metadata": {
    "collapsed": false
   },
   "outputs": [
    {
     "data": {
      "text/plain": [
       "SALE_DATE\n",
       "2003-10-16          NaN\n",
       "2003-06-17     318000.0\n",
       "2003-05-06        100.0\n",
       "2003-07-07          NaN\n",
       "2003-10-03     370000.0\n",
       "2003-12-25          NaN\n",
       "2003-06-30     450000.0\n",
       "2003-12-22          NaN\n",
       "2003-12-30     605000.0\n",
       "2003-01-28     510000.0\n",
       "2003-02-27          NaN\n",
       "2003-02-27          NaN\n",
       "2003-12-10     167000.0\n",
       "2003-05-21     136890.0\n",
       "2003-02-27          NaN\n",
       "2003-02-27          NaN\n",
       "2003-02-27          NaN\n",
       "2003-02-27          NaN\n",
       "2003-02-27          NaN\n",
       "2003-02-13          NaN\n",
       "2003-10-10     245843.0\n",
       "2003-10-10     245843.0\n",
       "2003-10-31     257266.0\n",
       "2003-10-10     257266.0\n",
       "2003-09-23     257266.0\n",
       "2003-01-10     160000.0\n",
       "2003-11-14      60000.0\n",
       "2003-12-16     350000.0\n",
       "2003-03-06     135000.0\n",
       "2003-11-20     233200.0\n",
       "                ...    \n",
       "2003-04-16          NaN\n",
       "2003-05-09          NaN\n",
       "2003-05-09          NaN\n",
       "2003-05-09          1.0\n",
       "2003-09-10          NaN\n",
       "2003-11-19          NaN\n",
       "2003-07-24    1270000.0\n",
       "2003-07-30          NaN\n",
       "2003-07-30    1862000.0\n",
       "2003-01-23     900000.0\n",
       "2003-12-03     705000.0\n",
       "2003-11-04          NaN\n",
       "2003-11-04          NaN\n",
       "2003-07-28          NaN\n",
       "2003-11-13    2575000.0\n",
       "2003-01-21     685000.0\n",
       "2003-10-16          NaN\n",
       "2003-07-09     120500.0\n",
       "2003-11-20    1560000.0\n",
       "2003-11-20    1560000.0\n",
       "2003-11-20    1560000.0\n",
       "2003-05-14          NaN\n",
       "2003-10-06     170000.0\n",
       "2003-03-31          NaN\n",
       "2003-04-30     365000.0\n",
       "2003-04-04     765000.0\n",
       "2003-12-31          NaN\n",
       "2003-05-14          NaN\n",
       "2003-03-19          NaN\n",
       "2003-12-16          NaN\n",
       "Name: SALE_PRICE, dtype: float64"
      ]
     },
     "execution_count": 143,
     "metadata": {},
     "output_type": "execute_result"
    }
   ],
   "source": [
    "queens_03['SALE_PRICE'].replace('0', np.nan)"
   ]
  },
  {
   "cell_type": "code",
   "execution_count": 144,
   "metadata": {
    "collapsed": false
   },
   "outputs": [
    {
     "data": {
      "text/plain": [
       "SALE_DATE\n",
       "2016-01-14    7800000.0\n",
       "2016-07-26     660000.0\n",
       "2016-11-18     275500.0\n",
       "2016-06-13          NaN\n",
       "2016-04-14     940000.0\n",
       "2016-08-15          NaN\n",
       "2016-04-15     470000.0\n",
       "2016-11-15     329000.0\n",
       "2016-02-29     273710.0\n",
       "2016-08-18     310000.0\n",
       "2016-10-27     369046.0\n",
       "2016-02-08          NaN\n",
       "2016-04-04      46335.0\n",
       "2016-05-04     359000.0\n",
       "2016-01-19     289000.0\n",
       "2016-09-22     370000.0\n",
       "2016-05-13     107315.0\n",
       "2016-10-14     733140.0\n",
       "2016-03-02    1120075.0\n",
       "2016-12-12     300000.0\n",
       "2016-07-26     332000.0\n",
       "2016-02-02     420000.0\n",
       "2016-06-07          NaN\n",
       "2016-12-09     260000.0\n",
       "2016-04-13     229164.0\n",
       "2016-11-17     201820.0\n",
       "2016-12-14      55000.0\n",
       "2016-10-28     347000.0\n",
       "2016-04-13      56000.0\n",
       "2016-08-31     305000.0\n",
       "                ...    \n",
       "2016-03-24          NaN\n",
       "2016-03-24          NaN\n",
       "2016-03-24          NaN\n",
       "2016-03-24          NaN\n",
       "2016-03-24          NaN\n",
       "2016-03-24          NaN\n",
       "2016-03-24          NaN\n",
       "2016-03-24          NaN\n",
       "2016-03-24          NaN\n",
       "2016-03-24          NaN\n",
       "2016-03-24          NaN\n",
       "2016-03-24          NaN\n",
       "2016-03-24          NaN\n",
       "2016-03-24          NaN\n",
       "2016-03-24          NaN\n",
       "2016-03-24          NaN\n",
       "2016-03-24          NaN\n",
       "2016-03-24          NaN\n",
       "2016-03-24          NaN\n",
       "2016-03-24          NaN\n",
       "2016-03-24          NaN\n",
       "2016-03-24          NaN\n",
       "2016-03-24          NaN\n",
       "2016-03-24          NaN\n",
       "2016-03-24    6600000.0\n",
       "2016-03-24          NaN\n",
       "2016-03-24          NaN\n",
       "2016-03-24          NaN\n",
       "2016-03-24          NaN\n",
       "2016-03-24          NaN\n",
       "Name: SALE_PRICE, dtype: float64"
      ]
     },
     "execution_count": 144,
     "metadata": {},
     "output_type": "execute_result"
    }
   ],
   "source": [
    "queens_16['SALE_PRICE'].replace('0', np.nan)"
   ]
  },
  {
   "cell_type": "code",
   "execution_count": 145,
   "metadata": {
    "collapsed": false
   },
   "outputs": [
    {
     "data": {
      "text/plain": [
       "SALE_DATE\n",
       "2016-05-25           NaN\n",
       "2016-04-05      829000.0\n",
       "2016-10-06           NaN\n",
       "2016-06-21      790000.0\n",
       "2016-03-31      788000.0\n",
       "2016-10-24     1090000.0\n",
       "2016-10-31           NaN\n",
       "2016-02-04      920000.0\n",
       "2016-02-10       40000.0\n",
       "2016-02-07           NaN\n",
       "2016-07-11      839000.0\n",
       "2016-02-10      854000.0\n",
       "2016-02-03           NaN\n",
       "2016-07-25      750000.0\n",
       "2016-02-23      699000.0\n",
       "2016-09-23      950000.0\n",
       "2016-05-13      699000.0\n",
       "2016-03-22     1050000.0\n",
       "2016-03-22      738000.0\n",
       "2016-08-02      680000.0\n",
       "2016-09-20      638000.0\n",
       "2016-07-23           NaN\n",
       "2016-08-01      880000.0\n",
       "2016-04-29      829000.0\n",
       "2016-04-15      880000.0\n",
       "2016-03-14      950000.0\n",
       "2016-07-20      930000.0\n",
       "2016-03-30           NaN\n",
       "2016-10-06           NaN\n",
       "2016-03-22           NaN\n",
       "                 ...    \n",
       "2016-05-04     1200000.0\n",
       "2016-05-04           NaN\n",
       "2016-11-22           NaN\n",
       "2016-11-10           NaN\n",
       "2016-04-28     1200000.0\n",
       "2016-06-16           NaN\n",
       "2016-08-29           NaN\n",
       "2016-11-30      869000.0\n",
       "2016-05-31      550000.0\n",
       "2016-04-15      505000.0\n",
       "2016-01-25      874676.0\n",
       "2016-07-21     2300000.0\n",
       "2016-04-07           NaN\n",
       "2016-07-08           NaN\n",
       "2016-10-09           NaN\n",
       "2016-03-18           NaN\n",
       "2016-12-28           NaN\n",
       "2016-01-08           NaN\n",
       "2016-12-09           NaN\n",
       "2016-08-25           NaN\n",
       "2016-11-29           NaN\n",
       "2016-10-24           NaN\n",
       "2016-01-29           NaN\n",
       "2016-03-24           NaN\n",
       "2016-02-18           NaN\n",
       "2016-05-17     4300000.0\n",
       "2016-07-13     4300000.0\n",
       "2016-03-01           NaN\n",
       "2016-03-01    10500000.0\n",
       "2016-01-25           NaN\n",
       "Name: SALE_PRICE, dtype: float64"
      ]
     },
     "execution_count": 145,
     "metadata": {},
     "output_type": "execute_result"
    }
   ],
   "source": [
    "brooklyn_16['SALE_PRICE'].replace('0', np.nan)"
   ]
  },
  {
   "cell_type": "code",
   "execution_count": 146,
   "metadata": {
    "collapsed": false
   },
   "outputs": [
    {
     "data": {
      "text/plain": [
       "pandas.core.series.Series"
      ]
     },
     "execution_count": 146,
     "metadata": {},
     "output_type": "execute_result"
    }
   ],
   "source": [
    "type(brooklyn_03['SALE_PRICE'])"
   ]
  },
  {
   "cell_type": "code",
   "execution_count": 73,
   "metadata": {
    "collapsed": false
   },
   "outputs": [
    {
     "name": "stdout",
     "output_type": "stream",
     "text": [
      "<class 'pandas.core.frame.DataFrame'>\n",
      "RangeIndex: 33706 entries, 0 to 33705\n",
      "Data columns (total 21 columns):\n",
      "BOROUGH                           33706 non-null int64\n",
      "NEIGHBORHOOD                      33706 non-null object\n",
      "BUILDING_CLASS_CATEGORY           33706 non-null object\n",
      "TAX_CLASS_AT_PRESENT              33706 non-null object\n",
      "BLOCK                             33706 non-null int64\n",
      "LOT                               33706 non-null int64\n",
      "EASE-MENT                         33706 non-null object\n",
      "BUILDING_CLASS_AT_PRESENT         33706 non-null object\n",
      "ADDRESS                           33706 non-null object\n",
      "APARTMENT_NUMBER                  33706 non-null object\n",
      "ZIP_CODE                          33706 non-null int64\n",
      "RESIDENTIAL_UNITS                 33706 non-null object\n",
      "COMMERCIAL_UNITS                  33706 non-null int64\n",
      "TOTAL_UNITS                       33706 non-null object\n",
      "LAND_SQUARE_FEET                  33706 non-null object\n",
      "GROSS_SQUARE_FEET                 33706 non-null object\n",
      "YEAR_BUILT                        33706 non-null int64\n",
      "TAX_CLASS_AT_TIME_OF_SALE         33706 non-null int64\n",
      "BUILDING_CLASS_AT_TIME_OF_SALE    33706 non-null object\n",
      "SALE_PRICE                        33706 non-null int64\n",
      "SALE_DATE                         33706 non-null datetime64[ns]\n",
      "dtypes: datetime64[ns](1), int64(8), object(12)\n",
      "memory usage: 5.4+ MB\n"
     ]
    }
   ],
   "source": [
    "#Repeat the same steps for all tables\n",
    "brooklyn_03.info()"
   ]
  },
  {
   "cell_type": "code",
   "execution_count": 75,
   "metadata": {
    "collapsed": false
   },
   "outputs": [
    {
     "name": "stdout",
     "output_type": "stream",
     "text": [
      "0         0\n",
      "1    450000\n",
      "2         0\n",
      "3         0\n",
      "4         0\n",
      "Name: SALE_PRICE, dtype: int64\n"
     ]
    }
   ],
   "source": [
    "print(brooklyn_03['SALE_PRICE'].head())"
   ]
  },
  {
   "cell_type": "code",
   "execution_count": 147,
   "metadata": {
    "collapsed": false
   },
   "outputs": [
    {
     "data": {
      "text/plain": [
       "SALE_DATE\n",
       "2003-08-01          NaN\n",
       "2003-01-24     450000.0\n",
       "2003-10-08          NaN\n",
       "2003-04-02          NaN\n",
       "2003-04-02          NaN\n",
       "2003-09-05          NaN\n",
       "2003-05-12          NaN\n",
       "2003-04-29          NaN\n",
       "2003-01-24     570000.0\n",
       "2003-02-27     320000.0\n",
       "2003-06-17     427500.0\n",
       "2003-04-05          NaN\n",
       "2003-04-05          NaN\n",
       "2003-04-05          NaN\n",
       "2003-04-05          NaN\n",
       "2003-07-21     355000.0\n",
       "2003-05-27          NaN\n",
       "2003-04-14          NaN\n",
       "2003-11-20    3307131.0\n",
       "2003-11-03          NaN\n",
       "2003-08-29          NaN\n",
       "2003-05-21     365000.0\n",
       "2003-04-09     775000.0\n",
       "2003-03-10     500000.0\n",
       "2003-09-24     385000.0\n",
       "2003-02-14     450000.0\n",
       "2003-09-11     405000.0\n",
       "2003-01-29     360000.0\n",
       "2003-05-07          NaN\n",
       "2003-07-08     407000.0\n",
       "                ...    \n",
       "2003-01-28      28620.0\n",
       "2003-09-04     300000.0\n",
       "2003-06-03     715000.0\n",
       "2003-12-29          NaN\n",
       "2003-12-29     101524.0\n",
       "2003-09-29     258000.0\n",
       "2003-03-10          NaN\n",
       "2003-03-26    4000000.0\n",
       "2003-09-26    1085000.0\n",
       "2003-07-15     330000.0\n",
       "2003-07-23     585000.0\n",
       "2003-09-23    1475000.0\n",
       "2003-01-31     675000.0\n",
       "2003-12-23          NaN\n",
       "2003-08-29      33600.0\n",
       "2003-04-28     425000.0\n",
       "2003-04-28     425000.0\n",
       "2003-02-10       5000.0\n",
       "2003-10-27     300000.0\n",
       "2003-10-27     490000.0\n",
       "2003-08-04     102000.0\n",
       "2003-12-23          NaN\n",
       "2003-08-29     254400.0\n",
       "2003-12-23          NaN\n",
       "2003-08-29     192000.0\n",
       "2003-11-21          NaN\n",
       "2003-12-29     225000.0\n",
       "2003-09-24     200000.0\n",
       "2003-12-29     225000.0\n",
       "2003-01-31     487500.0\n",
       "Name: SALE_PRICE, dtype: float64"
      ]
     },
     "execution_count": 147,
     "metadata": {},
     "output_type": "execute_result"
    }
   ],
   "source": [
    "brooklyn_03['SALE_PRICE'].replace('0', np.nan)"
   ]
  },
  {
   "cell_type": "code",
   "execution_count": 79,
   "metadata": {
    "collapsed": false
   },
   "outputs": [
    {
     "data": {
      "text/plain": [
       "count    3.370600e+04\n",
       "mean     2.563889e+05\n",
       "std      6.683354e+05\n",
       "min      0.000000e+00\n",
       "25%      0.000000e+00\n",
       "50%      1.550000e+05\n",
       "75%      3.680000e+05\n",
       "max      5.928000e+07\n",
       "Name: SALE_PRICE, dtype: float64"
      ]
     },
     "execution_count": 79,
     "metadata": {},
     "output_type": "execute_result"
    }
   ],
   "source": [
    "brooklyn_03['SALE_PRICE'].describe()"
   ]
  },
  {
   "cell_type": "code",
   "execution_count": 80,
   "metadata": {
    "collapsed": false
   },
   "outputs": [
    {
     "data": {
      "text/plain": [
       "count     25519\n",
       "unique     3561\n",
       "top        -   \n",
       "freq       9881\n",
       "Name: SALE_PRICE, dtype: object"
      ]
     },
     "execution_count": 80,
     "metadata": {},
     "output_type": "execute_result"
    }
   ],
   "source": [
    "brooklyn_16['SALE_PRICE'].describe()"
   ]
  },
  {
   "cell_type": "code",
   "execution_count": 148,
   "metadata": {
    "collapsed": false
   },
   "outputs": [
    {
     "name": "stdout",
     "output_type": "stream",
     "text": [
      "SALE_DATE\n",
      "2016-05-25         0.0\n",
      "2016-04-05    829000.0\n",
      "2016-10-06         0.0\n",
      "2016-06-21    790000.0\n",
      "2016-03-31    788000.0\n",
      "Name: SALE_PRICE, dtype: float64\n"
     ]
    }
   ],
   "source": [
    "print(brooklyn_16['SALE_PRICE'].head())"
   ]
  },
  {
   "cell_type": "code",
   "execution_count": 150,
   "metadata": {
    "collapsed": false
   },
   "outputs": [
    {
     "data": {
      "text/plain": [
       "SALE_DATE\n",
       "2003-10-16          0\n",
       "2003-06-17     318000\n",
       "2003-05-06        100\n",
       "2003-07-07          0\n",
       "2003-10-03     370000\n",
       "2003-12-25          0\n",
       "2003-06-30     450000\n",
       "2003-12-22          0\n",
       "2003-12-30     605000\n",
       "2003-01-28     510000\n",
       "2003-02-27          0\n",
       "2003-02-27          0\n",
       "2003-12-10     167000\n",
       "2003-05-21     136890\n",
       "2003-02-27          0\n",
       "2003-02-27          0\n",
       "2003-02-27          0\n",
       "2003-02-27          0\n",
       "2003-02-27          0\n",
       "2003-02-13          0\n",
       "2003-10-10     245843\n",
       "2003-10-10     245843\n",
       "2003-10-31     257266\n",
       "2003-10-10     257266\n",
       "2003-09-23     257266\n",
       "2003-01-10     160000\n",
       "2003-11-14      60000\n",
       "2003-12-16     350000\n",
       "2003-03-06     135000\n",
       "2003-11-20     233200\n",
       "               ...   \n",
       "2003-04-16          0\n",
       "2003-05-09          0\n",
       "2003-05-09          0\n",
       "2003-05-09          1\n",
       "2003-09-10          0\n",
       "2003-11-19          0\n",
       "2003-07-24    1270000\n",
       "2003-07-30          0\n",
       "2003-07-30    1862000\n",
       "2003-01-23     900000\n",
       "2003-12-03     705000\n",
       "2003-11-04          0\n",
       "2003-11-04          0\n",
       "2003-07-28          0\n",
       "2003-11-13    2575000\n",
       "2003-01-21     685000\n",
       "2003-10-16          0\n",
       "2003-07-09     120500\n",
       "2003-11-20    1560000\n",
       "2003-11-20    1560000\n",
       "2003-11-20    1560000\n",
       "2003-05-14          0\n",
       "2003-10-06     170000\n",
       "2003-03-31          0\n",
       "2003-04-30     365000\n",
       "2003-04-04     765000\n",
       "2003-12-31          0\n",
       "2003-05-14          0\n",
       "2003-03-19          0\n",
       "2003-12-16          0\n",
       "Name: SALE_PRICE, dtype: int32"
      ]
     },
     "execution_count": 150,
     "metadata": {},
     "output_type": "execute_result"
    }
   ],
   "source": [
    "brooklyn_16['SALE_PRICE'].astype(int)\n",
    "brooklyn_03['SALE_PRICE'].astype(int)\n",
    "queens_16['SALE_PRICE'].astype(int)\n",
    "queens_03['SALE_PRICE'].astype(int)"
   ]
  },
  {
   "cell_type": "markdown",
   "metadata": {},
   "source": [
    "### Problems With Column Names   \n",
    "   When exploratory data analysis was tried was the column names in the 2016 datasets had problems.  All the column names had ‘\\n’ added to the end of the column name.  While this is not necessarily a catastrophic development, it can be confusing when trying run analysis on multiple datasets.\n",
    "    The spaces between the two words in the column names should be replaced with an underscore.  This will make it easier to confirm that the reader knows when the columns are being used."
   ]
  },
  {
   "cell_type": "code",
   "execution_count": 125,
   "metadata": {
    "collapsed": false
   },
   "outputs": [
    {
     "data": {
      "text/plain": [
       "Index(['BOROUGH\\n', 'NEIGHBORHOOD\\n', 'BUILDING CLASS CATEGORY\\n',\n",
       "       'TAX CLASS AT PRESENT\\n', 'BLOCK\\n', 'LOT\\n', 'EASE-MENT\\n',\n",
       "       'BUILDING CLASS AT PRESENT\\n', 'ADDRESS\\n', 'APARTMENT NUMBER\\n',\n",
       "       'ZIP CODE\\n', 'RESIDENTIAL UNITS\\n', 'COMMERCIAL UNITS\\n',\n",
       "       'TOTAL UNITS\\n', 'LAND SQUARE FEET\\n', 'GROSS SQUARE FEET\\n',\n",
       "       'YEAR BUILT\\n', 'TAX CLASS AT TIME OF SALE\\n',\n",
       "       'BUILDING CLASS AT TIME OF SALE\\n', 'SALE PRICE\\n', 'SALE DATE\\n'],\n",
       "      dtype='object')"
      ]
     },
     "execution_count": 125,
     "metadata": {},
     "output_type": "execute_result"
    }
   ],
   "source": [
    "queens_16.columns"
   ]
  },
  {
   "cell_type": "code",
   "execution_count": 126,
   "metadata": {
    "collapsed": false
   },
   "outputs": [],
   "source": [
    "queens_16.columns=queens_16.columns.str.replace('\\n', '')"
   ]
  },
  {
   "cell_type": "code",
   "execution_count": 127,
   "metadata": {
    "collapsed": false
   },
   "outputs": [
    {
     "data": {
      "text/plain": [
       "Index(['BOROUGH', 'NEIGHBORHOOD', 'BUILDING CLASS CATEGORY',\n",
       "       'TAX CLASS AT PRESENT', 'BLOCK', 'LOT', 'EASE-MENT',\n",
       "       'BUILDING CLASS AT PRESENT', 'ADDRESS', 'APARTMENT NUMBER', 'ZIP CODE',\n",
       "       'RESIDENTIAL UNITS', 'COMMERCIAL UNITS', 'TOTAL UNITS',\n",
       "       'LAND SQUARE FEET', 'GROSS SQUARE FEET', 'YEAR BUILT',\n",
       "       'TAX CLASS AT TIME OF SALE', 'BUILDING CLASS AT TIME OF SALE',\n",
       "       'SALE PRICE', 'SALE DATE'],\n",
       "      dtype='object')"
      ]
     },
     "execution_count": 127,
     "metadata": {},
     "output_type": "execute_result"
    }
   ],
   "source": [
    "queens_16.columns"
   ]
  },
  {
   "cell_type": "code",
   "execution_count": 128,
   "metadata": {
    "collapsed": false
   },
   "outputs": [
    {
     "data": {
      "text/plain": [
       "Index(['BOROUGH\\n', 'NEIGHBORHOOD\\n', 'BUILDING CLASS CATEGORY\\n',\n",
       "       'TAX CLASS AT PRESENT\\n', 'BLOCK\\n', 'LOT\\n', 'EASE-MENT\\n',\n",
       "       'BUILDING CLASS AT PRESENT\\n', 'ADDRESS\\n', 'APARTMENT NUMBER\\n',\n",
       "       'ZIP CODE\\n', 'RESIDENTIAL UNITS\\n', 'COMMERCIAL UNITS\\n',\n",
       "       'TOTAL UNITS\\n', 'LAND SQUARE FEET\\n', 'GROSS SQUARE FEET\\n',\n",
       "       'YEAR BUILT\\n', 'TAX CLASS AT TIME OF SALE\\n',\n",
       "       'BUILDING CLASS AT TIME OF SALE\\n', 'SALE PRICE\\n', 'SALE DATE\\n'],\n",
       "      dtype='object')"
      ]
     },
     "execution_count": 128,
     "metadata": {},
     "output_type": "execute_result"
    }
   ],
   "source": [
    "brooklyn_16.columns"
   ]
  },
  {
   "cell_type": "code",
   "execution_count": 129,
   "metadata": {
    "collapsed": true
   },
   "outputs": [],
   "source": [
    "brooklyn_16.columns=brooklyn_16.columns.str.replace('\\n', '')"
   ]
  },
  {
   "cell_type": "code",
   "execution_count": 130,
   "metadata": {
    "collapsed": false
   },
   "outputs": [
    {
     "data": {
      "text/plain": [
       "Index(['BOROUGH', 'NEIGHBORHOOD', 'BUILDING CLASS CATEGORY',\n",
       "       'TAX CLASS AT PRESENT', 'BLOCK', 'LOT', 'EASE-MENT',\n",
       "       'BUILDING CLASS AT PRESENT', 'ADDRESS', 'APARTMENT NUMBER', 'ZIP CODE',\n",
       "       'RESIDENTIAL UNITS', 'COMMERCIAL UNITS', 'TOTAL UNITS',\n",
       "       'LAND SQUARE FEET', 'GROSS SQUARE FEET', 'YEAR BUILT',\n",
       "       'TAX CLASS AT TIME OF SALE', 'BUILDING CLASS AT TIME OF SALE',\n",
       "       'SALE PRICE', 'SALE DATE'],\n",
       "      dtype='object')"
      ]
     },
     "execution_count": 130,
     "metadata": {},
     "output_type": "execute_result"
    }
   ],
   "source": [
    "brooklyn_16.columns"
   ]
  },
  {
   "cell_type": "code",
   "execution_count": 131,
   "metadata": {
    "collapsed": false
   },
   "outputs": [],
   "source": [
    "queens_16.columns=queens_16.columns.str.replace(' ', '_')\n",
    "queens_03.columns=queens_03.columns.str.replace(' ', '_')\n",
    "brooklyn_16.columns=brooklyn_16.columns.str.replace(' ', '_')\n",
    "brooklyn_03.columns=brooklyn_03.columns.str.replace(' ', '_')"
   ]
  },
  {
   "cell_type": "code",
   "execution_count": 132,
   "metadata": {
    "collapsed": false
   },
   "outputs": [
    {
     "data": {
      "text/plain": [
       "Index(['BOROUGH', 'NEIGHBORHOOD', 'BUILDING_CLASS_CATEGORY',\n",
       "       'TAX_CLASS_AT_PRESENT', 'BLOCK', 'LOT', 'EASE-MENT',\n",
       "       'BUILDING_CLASS_AT_PRESENT', 'ADDRESS', 'APARTMENT_NUMBER', 'ZIP_CODE',\n",
       "       'RESIDENTIAL_UNITS', 'COMMERCIAL_UNITS', 'TOTAL_UNITS',\n",
       "       'LAND_SQUARE_FEET', 'GROSS_SQUARE_FEET', 'YEAR_BUILT',\n",
       "       'TAX_CLASS_AT_TIME_OF_SALE', 'BUILDING_CLASS_AT_TIME_OF_SALE',\n",
       "       'SALE_PRICE', 'SALE_DATE'],\n",
       "      dtype='object')"
      ]
     },
     "execution_count": 132,
     "metadata": {},
     "output_type": "execute_result"
    }
   ],
   "source": [
    "queens_03.columns"
   ]
  },
  {
   "cell_type": "markdown",
   "metadata": {},
   "source": [
    "### Datetime\n",
    "Instead of being uploaded as a date time object, the sale date column in all tables were coded as objects.  These columns must be coded as datetime objects and the index must be reset to follow the new date time object.  "
   ]
  },
  {
   "cell_type": "code",
   "execution_count": 133,
   "metadata": {
    "collapsed": false
   },
   "outputs": [],
   "source": [
    "queens_03['SALE_DATE']= pd.to_datetime(queens_03['SALE_DATE'])"
   ]
  },
  {
   "cell_type": "code",
   "execution_count": 134,
   "metadata": {
    "collapsed": false
   },
   "outputs": [],
   "source": [
    "brooklyn_03['SALE_DATE']= pd.to_datetime(brooklyn_03['SALE_DATE'])"
   ]
  },
  {
   "cell_type": "code",
   "execution_count": 135,
   "metadata": {
    "collapsed": true
   },
   "outputs": [],
   "source": [
    "queens_16['SALE_DATE']= pd.to_datetime(queens_16['SALE_DATE'])"
   ]
  },
  {
   "cell_type": "code",
   "execution_count": 136,
   "metadata": {
    "collapsed": false
   },
   "outputs": [],
   "source": [
    "brooklyn_16['SALE_DATE']=pd.to_datetime(brooklyn_16['SALE_DATE'])"
   ]
  },
  {
   "cell_type": "code",
   "execution_count": 137,
   "metadata": {
    "collapsed": true
   },
   "outputs": [],
   "source": [
    "queens_03.index=pd.to_datetime(queens_03['SALE_DATE'])"
   ]
  },
  {
   "cell_type": "code",
   "execution_count": 138,
   "metadata": {
    "collapsed": false
   },
   "outputs": [],
   "source": [
    "queens_16.index=pd.to_datetime(queens_16['SALE_DATE'])"
   ]
  },
  {
   "cell_type": "code",
   "execution_count": 139,
   "metadata": {
    "collapsed": true
   },
   "outputs": [],
   "source": [
    "brooklyn_03.index=pd.to_datetime(brooklyn_03['SALE_DATE'])"
   ]
  },
  {
   "cell_type": "code",
   "execution_count": 140,
   "metadata": {
    "collapsed": true
   },
   "outputs": [],
   "source": [
    "brooklyn_16.index=pd.to_datetime(brooklyn_16['SALE_DATE'])"
   ]
  },
  {
   "cell_type": "code",
   "execution_count": 141,
   "metadata": {
    "collapsed": false
   },
   "outputs": [
    {
     "name": "stdout",
     "output_type": "stream",
     "text": [
      "<class 'pandas.core.frame.DataFrame'>\n",
      "DatetimeIndex: 39177 entries, 2003-10-16 to 2003-12-16\n",
      "Data columns (total 21 columns):\n",
      "BOROUGH                           39177 non-null int64\n",
      "NEIGHBORHOOD                      39177 non-null object\n",
      "BUILDING_CLASS_CATEGORY           39177 non-null object\n",
      "TAX_CLASS_AT_PRESENT              39177 non-null object\n",
      "BLOCK                             39177 non-null int64\n",
      "LOT                               39177 non-null int64\n",
      "EASE-MENT                         39177 non-null object\n",
      "BUILDING_CLASS_AT_PRESENT         39177 non-null object\n",
      "ADDRESS                           39177 non-null object\n",
      "APARTMENT_NUMBER                  39177 non-null object\n",
      "ZIP_CODE                          39177 non-null int64\n",
      "RESIDENTIAL_UNITS                 39177 non-null object\n",
      "COMMERCIAL_UNITS                  39177 non-null int64\n",
      "TOTAL_UNITS                       39177 non-null object\n",
      "LAND_SQUARE_FEET                  39177 non-null object\n",
      "GROSS_SQUARE_FEET                 39177 non-null object\n",
      "YEAR_BUILT                        39177 non-null int64\n",
      "TAX_CLASS_AT_TIME_OF_SALE         39177 non-null int64\n",
      "BUILDING_CLASS_AT_TIME_OF_SALE    39177 non-null object\n",
      "SALE_PRICE                        39177 non-null int64\n",
      "SALE_DATE                         39177 non-null datetime64[ns]\n",
      "dtypes: datetime64[ns](1), int64(8), object(12)\n",
      "memory usage: 6.6+ MB\n"
     ]
    }
   ],
   "source": [
    "queens_03.info()"
   ]
  },
  {
   "cell_type": "code",
   "execution_count": 151,
   "metadata": {
    "collapsed": false
   },
   "outputs": [],
   "source": [
    "queens_03.to_csv('queens_clean_03.csv')\n",
    "queens_16.to_csv('queens_clean_16.csv')\n",
    "brooklyn_03.to_csv('brooklyn_clean_03.csv')\n",
    "brooklyn_16.to_csv('brooklyn_clean_16.csv')"
   ]
  },
  {
   "cell_type": "code",
   "execution_count": null,
   "metadata": {
    "collapsed": true
   },
   "outputs": [],
   "source": []
  }
 ],
 "metadata": {
  "anaconda-cloud": {},
  "kernelspec": {
   "display_name": "Python [Root]",
   "language": "python",
   "name": "Python [Root]"
  },
  "language_info": {
   "codemirror_mode": {
    "name": "ipython",
    "version": 3
   },
   "file_extension": ".py",
   "mimetype": "text/x-python",
   "name": "python",
   "nbconvert_exporter": "python",
   "pygments_lexer": "ipython3",
   "version": "3.5.2"
  }
 },
 "nbformat": 4,
 "nbformat_minor": 0
}
