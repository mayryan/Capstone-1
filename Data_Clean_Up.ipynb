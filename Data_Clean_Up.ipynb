{
 "cells": [
  {
   "cell_type": "code",
   "execution_count": 253,
   "metadata": {
    "collapsed": false
   },
   "outputs": [],
   "source": [
    "import pandas as pd\n",
    "import numpy as np\n",
    "from datetime import datetime"
   ]
  },
  {
   "cell_type": "markdown",
   "metadata": {},
   "source": [
    "# New York City Housing Values\n",
    "\n",
    "    Certain New York neighborhoods have been experiencing a dramatic rise in prices.  Homes in Williamsburg, Park Slope, Long Island City and Astoria that were once worth under a million dollars have seen their values in some cases triple.  Can it be possible to attain a fair price for a home and could current trends be used to predict future prices?\n",
    "    The City of New York tracks sales of all properties with prices, sale dates, address, zip codes and many other data points.  I will be using the spreadsheets for Queens and Brooklyn for the years 2003 and 2016.  Some neighborhoods in these boroughs, like Williamsburg and Long Island City, have become extremely desirable.   "
   ]
  },
  {
   "cell_type": "code",
   "execution_count": 254,
   "metadata": {
    "collapsed": false
   },
   "outputs": [],
   "source": [
    "queens_03 = pd.read_csv('C:\\\\Users\\\\Ryan May\\\\Desktop\\\\Springboard\\\\queens_sales_03.csv', low_memory=False, parse_dates=True)\n",
    "queens_16 = pd.read_csv('C:\\\\Users\\\\Ryan May\\\\Desktop\\\\Springboard\\\\queens_sales_16.csv', low_memory=False, parse_dates=True) \n",
    "brooklyn_16 = pd.read_csv('C:\\\\Users\\\\Ryan May\\\\Desktop\\\\Springboard\\\\brooklyn_sales_16.csv', low_memory=False, parse_dates=True)\n",
    "brooklyn_03 = pd.read_csv('C:\\\\Users\\\\Ryan May\\\\Desktop\\\\Springboard\\\\brooklyn_sales_03.csv', low_memory=False, parse_dates=True)"
   ]
  },
  {
   "cell_type": "code",
   "execution_count": 255,
   "metadata": {
    "collapsed": false
   },
   "outputs": [
    {
     "name": "stdout",
     "output_type": "stream",
     "text": [
      "(39177, 21)\n",
      "(27214, 21)\n",
      "(33706, 21)\n",
      "(25519, 21)\n"
     ]
    }
   ],
   "source": [
    "#Get general lay out of all tables\n",
    "print(queens_03.shape)\n",
    "print(queens_16.shape)\n",
    "print(brooklyn_03.shape)\n",
    "print(brooklyn_16.shape)"
   ]
  },
  {
   "cell_type": "code",
   "execution_count": 256,
   "metadata": {
    "collapsed": false
   },
   "outputs": [
    {
     "data": {
      "text/html": [
       "<div>\n",
       "<table border=\"1\" class=\"dataframe\">\n",
       "  <thead>\n",
       "    <tr style=\"text-align: right;\">\n",
       "      <th></th>\n",
       "      <th>BOROUGH</th>\n",
       "      <th>NEIGHBORHOOD</th>\n",
       "      <th>BUILDING CLASS CATEGORY</th>\n",
       "      <th>TAX CLASS AT PRESENT</th>\n",
       "      <th>BLOCK</th>\n",
       "      <th>LOT</th>\n",
       "      <th>EASE-MENT</th>\n",
       "      <th>BUILDING CLASS AT PRESENT</th>\n",
       "      <th>ADDRESS</th>\n",
       "      <th>APARTMENT NUMBER</th>\n",
       "      <th>...</th>\n",
       "      <th>RESIDENTIAL UNITS</th>\n",
       "      <th>COMMERCIAL UNITS</th>\n",
       "      <th>TOTAL UNITS</th>\n",
       "      <th>LAND SQUARE FEET</th>\n",
       "      <th>GROSS SQUARE FEET</th>\n",
       "      <th>YEAR BUILT</th>\n",
       "      <th>TAX CLASS AT TIME OF SALE</th>\n",
       "      <th>BUILDING CLASS AT TIME OF SALE</th>\n",
       "      <th>SALE PRICE</th>\n",
       "      <th>SALE DATE</th>\n",
       "    </tr>\n",
       "  </thead>\n",
       "  <tbody>\n",
       "    <tr>\n",
       "      <th>0</th>\n",
       "      <td>4</td>\n",
       "      <td>AIRPORT LA GUARDIA</td>\n",
       "      <td>01  ONE FAMILY HOMES</td>\n",
       "      <td>1</td>\n",
       "      <td>949</td>\n",
       "      <td>20</td>\n",
       "      <td></td>\n",
       "      <td>A5</td>\n",
       "      <td>1920 81 STREET</td>\n",
       "      <td></td>\n",
       "      <td>...</td>\n",
       "      <td>1</td>\n",
       "      <td>0</td>\n",
       "      <td>1</td>\n",
       "      <td>1,800</td>\n",
       "      <td>1224</td>\n",
       "      <td>1945</td>\n",
       "      <td>1</td>\n",
       "      <td>A5</td>\n",
       "      <td>0</td>\n",
       "      <td>10/16/2003</td>\n",
       "    </tr>\n",
       "    <tr>\n",
       "      <th>1</th>\n",
       "      <td>4</td>\n",
       "      <td>AIRPORT LA GUARDIA</td>\n",
       "      <td>01  ONE FAMILY HOMES</td>\n",
       "      <td>1</td>\n",
       "      <td>949</td>\n",
       "      <td>47</td>\n",
       "      <td></td>\n",
       "      <td>A5</td>\n",
       "      <td>1974 81 STREET</td>\n",
       "      <td></td>\n",
       "      <td>...</td>\n",
       "      <td>1</td>\n",
       "      <td>0</td>\n",
       "      <td>1</td>\n",
       "      <td>1,800</td>\n",
       "      <td>1224</td>\n",
       "      <td>1945</td>\n",
       "      <td>1</td>\n",
       "      <td>A5</td>\n",
       "      <td>318000</td>\n",
       "      <td>6/17/2003</td>\n",
       "    </tr>\n",
       "    <tr>\n",
       "      <th>2</th>\n",
       "      <td>4</td>\n",
       "      <td>AIRPORT LA GUARDIA</td>\n",
       "      <td>01  ONE FAMILY HOMES</td>\n",
       "      <td>1</td>\n",
       "      <td>949</td>\n",
       "      <td>47</td>\n",
       "      <td></td>\n",
       "      <td>A5</td>\n",
       "      <td>1974 81 STREET</td>\n",
       "      <td></td>\n",
       "      <td>...</td>\n",
       "      <td>1</td>\n",
       "      <td>0</td>\n",
       "      <td>1</td>\n",
       "      <td>1,800</td>\n",
       "      <td>1224</td>\n",
       "      <td>1945</td>\n",
       "      <td>1</td>\n",
       "      <td>A5</td>\n",
       "      <td>100</td>\n",
       "      <td>5/6/2003</td>\n",
       "    </tr>\n",
       "    <tr>\n",
       "      <th>3</th>\n",
       "      <td>4</td>\n",
       "      <td>AIRPORT LA GUARDIA</td>\n",
       "      <td>01  ONE FAMILY HOMES</td>\n",
       "      <td>1</td>\n",
       "      <td>976</td>\n",
       "      <td>23</td>\n",
       "      <td></td>\n",
       "      <td>A5</td>\n",
       "      <td>2136 81 STREET</td>\n",
       "      <td></td>\n",
       "      <td>...</td>\n",
       "      <td>1</td>\n",
       "      <td>0</td>\n",
       "      <td>1</td>\n",
       "      <td>1,800</td>\n",
       "      <td>1224</td>\n",
       "      <td>1950</td>\n",
       "      <td>1</td>\n",
       "      <td>A5</td>\n",
       "      <td>0</td>\n",
       "      <td>7/7/2003</td>\n",
       "    </tr>\n",
       "    <tr>\n",
       "      <th>4</th>\n",
       "      <td>4</td>\n",
       "      <td>AIRPORT LA GUARDIA</td>\n",
       "      <td>01  ONE FAMILY HOMES</td>\n",
       "      <td>1</td>\n",
       "      <td>976</td>\n",
       "      <td>33</td>\n",
       "      <td></td>\n",
       "      <td>A5</td>\n",
       "      <td>2156 81 STREET</td>\n",
       "      <td></td>\n",
       "      <td>...</td>\n",
       "      <td>1</td>\n",
       "      <td>0</td>\n",
       "      <td>1</td>\n",
       "      <td>1,800</td>\n",
       "      <td>1224</td>\n",
       "      <td>1950</td>\n",
       "      <td>1</td>\n",
       "      <td>A5</td>\n",
       "      <td>370000</td>\n",
       "      <td>10/3/2003</td>\n",
       "    </tr>\n",
       "  </tbody>\n",
       "</table>\n",
       "<p>5 rows × 21 columns</p>\n",
       "</div>"
      ],
      "text/plain": [
       "   BOROUGH        NEIGHBORHOOD                       BUILDING CLASS CATEGORY  \\\n",
       "0        4  AIRPORT LA GUARDIA  01  ONE FAMILY HOMES                           \n",
       "1        4  AIRPORT LA GUARDIA  01  ONE FAMILY HOMES                           \n",
       "2        4  AIRPORT LA GUARDIA  01  ONE FAMILY HOMES                           \n",
       "3        4  AIRPORT LA GUARDIA  01  ONE FAMILY HOMES                           \n",
       "4        4  AIRPORT LA GUARDIA  01  ONE FAMILY HOMES                           \n",
       "\n",
       "  TAX CLASS AT PRESENT  BLOCK  LOT EASE-MENT BUILDING CLASS AT PRESENT  \\\n",
       "0                    1    949   20                                  A5   \n",
       "1                    1    949   47                                  A5   \n",
       "2                    1    949   47                                  A5   \n",
       "3                    1    976   23                                  A5   \n",
       "4                    1    976   33                                  A5   \n",
       "\n",
       "                                       ADDRESS APARTMENT NUMBER     ...      \\\n",
       "0   1920 81 STREET                                                  ...       \n",
       "1   1974 81 STREET                                                  ...       \n",
       "2   1974 81 STREET                                                  ...       \n",
       "3   2136 81 STREET                                                  ...       \n",
       "4   2156 81 STREET                                                  ...       \n",
       "\n",
       "   RESIDENTIAL UNITS COMMERCIAL UNITS  TOTAL UNITS LAND SQUARE FEET  \\\n",
       "0                  1                0            1            1,800   \n",
       "1                  1                0            1            1,800   \n",
       "2                  1                0            1            1,800   \n",
       "3                  1                0            1            1,800   \n",
       "4                  1                0            1            1,800   \n",
       "\n",
       "  GROSS SQUARE FEET  YEAR BUILT  TAX CLASS AT TIME OF SALE  \\\n",
       "0              1224        1945                          1   \n",
       "1              1224        1945                          1   \n",
       "2              1224        1945                          1   \n",
       "3              1224        1950                          1   \n",
       "4              1224        1950                          1   \n",
       "\n",
       "   BUILDING CLASS AT TIME OF SALE SALE PRICE   SALE DATE  \n",
       "0                             A5           0  10/16/2003  \n",
       "1                             A5      318000   6/17/2003  \n",
       "2                             A5         100    5/6/2003  \n",
       "3                             A5           0    7/7/2003  \n",
       "4                             A5      370000   10/3/2003  \n",
       "\n",
       "[5 rows x 21 columns]"
      ]
     },
     "execution_count": 256,
     "metadata": {},
     "output_type": "execute_result"
    }
   ],
   "source": [
    "queens_03.head()"
   ]
  },
  {
   "cell_type": "markdown",
   "metadata": {},
   "source": [
    "Each row in the dataset is one sale of a home during the given year.  Each column is a variable for a given variable.  The most important variables for my analysis are sale price, sale date and neighborhood.   "
   ]
  },
  {
   "cell_type": "code",
   "execution_count": 257,
   "metadata": {
    "collapsed": false
   },
   "outputs": [
    {
     "data": {
      "text/plain": [
       "count    3.917700e+04\n",
       "mean     2.351176e+05\n",
       "std      5.555295e+05\n",
       "min      0.000000e+00\n",
       "25%      0.000000e+00\n",
       "50%      1.609600e+05\n",
       "75%      3.600000e+05\n",
       "max      4.690000e+07\n",
       "Name: SALE PRICE, dtype: float64"
      ]
     },
     "execution_count": 257,
     "metadata": {},
     "output_type": "execute_result"
    }
   ],
   "source": [
    "queens_03['SALE PRICE'].describe()"
   ]
  },
  {
   "cell_type": "markdown",
   "metadata": {},
   "source": [
    "### Problems With Column Names   \n",
    "   When exploratory data analysis was tried was the column names in the 2016 datasets had problems.  All the column names had ‘\\n’ added to the end of the column name.  While this is not necessarily a catastrophic development, it can be confusing when trying run analysis on multiple datasets.\n",
    "    The spaces between the two words in the column names should be replaced with an underscore.  This will make it easier to confirm that the reader knows when the columns are being used."
   ]
  },
  {
   "cell_type": "code",
   "execution_count": 258,
   "metadata": {
    "collapsed": false
   },
   "outputs": [
    {
     "data": {
      "text/plain": [
       "Index(['BOROUGH\\n', 'NEIGHBORHOOD\\n', 'BUILDING CLASS CATEGORY\\n',\n",
       "       'TAX CLASS AT PRESENT\\n', 'BLOCK\\n', 'LOT\\n', 'EASE-MENT\\n',\n",
       "       'BUILDING CLASS AT PRESENT\\n', 'ADDRESS\\n', 'APARTMENT NUMBER\\n',\n",
       "       'ZIP CODE\\n', 'RESIDENTIAL UNITS\\n', 'COMMERCIAL UNITS\\n',\n",
       "       'TOTAL UNITS\\n', 'LAND SQUARE FEET\\n', 'GROSS SQUARE FEET\\n',\n",
       "       'YEAR BUILT\\n', 'TAX CLASS AT TIME OF SALE\\n',\n",
       "       'BUILDING CLASS AT TIME OF SALE\\n', 'SALE PRICE\\n', 'SALE DATE\\n'],\n",
       "      dtype='object')"
      ]
     },
     "execution_count": 258,
     "metadata": {},
     "output_type": "execute_result"
    }
   ],
   "source": [
    "queens_16.columns"
   ]
  },
  {
   "cell_type": "code",
   "execution_count": 259,
   "metadata": {
    "collapsed": false
   },
   "outputs": [],
   "source": [
    "queens_16.columns=queens_16.columns.str.replace('\\n', '')"
   ]
  },
  {
   "cell_type": "code",
   "execution_count": 260,
   "metadata": {
    "collapsed": false
   },
   "outputs": [
    {
     "data": {
      "text/plain": [
       "Index(['BOROUGH', 'NEIGHBORHOOD', 'BUILDING CLASS CATEGORY',\n",
       "       'TAX CLASS AT PRESENT', 'BLOCK', 'LOT', 'EASE-MENT',\n",
       "       'BUILDING CLASS AT PRESENT', 'ADDRESS', 'APARTMENT NUMBER', 'ZIP CODE',\n",
       "       'RESIDENTIAL UNITS', 'COMMERCIAL UNITS', 'TOTAL UNITS',\n",
       "       'LAND SQUARE FEET', 'GROSS SQUARE FEET', 'YEAR BUILT',\n",
       "       'TAX CLASS AT TIME OF SALE', 'BUILDING CLASS AT TIME OF SALE',\n",
       "       'SALE PRICE', 'SALE DATE'],\n",
       "      dtype='object')"
      ]
     },
     "execution_count": 260,
     "metadata": {},
     "output_type": "execute_result"
    }
   ],
   "source": [
    "queens_16.columns"
   ]
  },
  {
   "cell_type": "code",
   "execution_count": 261,
   "metadata": {
    "collapsed": false
   },
   "outputs": [
    {
     "data": {
      "text/plain": [
       "Index(['BOROUGH\\n', 'NEIGHBORHOOD\\n', 'BUILDING CLASS CATEGORY\\n',\n",
       "       'TAX CLASS AT PRESENT\\n', 'BLOCK\\n', 'LOT\\n', 'EASE-MENT\\n',\n",
       "       'BUILDING CLASS AT PRESENT\\n', 'ADDRESS\\n', 'APARTMENT NUMBER\\n',\n",
       "       'ZIP CODE\\n', 'RESIDENTIAL UNITS\\n', 'COMMERCIAL UNITS\\n',\n",
       "       'TOTAL UNITS\\n', 'LAND SQUARE FEET\\n', 'GROSS SQUARE FEET\\n',\n",
       "       'YEAR BUILT\\n', 'TAX CLASS AT TIME OF SALE\\n',\n",
       "       'BUILDING CLASS AT TIME OF SALE\\n', 'SALE PRICE\\n', 'SALE DATE\\n'],\n",
       "      dtype='object')"
      ]
     },
     "execution_count": 261,
     "metadata": {},
     "output_type": "execute_result"
    }
   ],
   "source": [
    "brooklyn_16.columns"
   ]
  },
  {
   "cell_type": "code",
   "execution_count": 262,
   "metadata": {
    "collapsed": true
   },
   "outputs": [],
   "source": [
    "brooklyn_16.columns=brooklyn_16.columns.str.replace('\\n', '')"
   ]
  },
  {
   "cell_type": "code",
   "execution_count": 263,
   "metadata": {
    "collapsed": false
   },
   "outputs": [
    {
     "data": {
      "text/plain": [
       "Index(['BOROUGH', 'NEIGHBORHOOD', 'BUILDING CLASS CATEGORY',\n",
       "       'TAX CLASS AT PRESENT', 'BLOCK', 'LOT', 'EASE-MENT',\n",
       "       'BUILDING CLASS AT PRESENT', 'ADDRESS', 'APARTMENT NUMBER', 'ZIP CODE',\n",
       "       'RESIDENTIAL UNITS', 'COMMERCIAL UNITS', 'TOTAL UNITS',\n",
       "       'LAND SQUARE FEET', 'GROSS SQUARE FEET', 'YEAR BUILT',\n",
       "       'TAX CLASS AT TIME OF SALE', 'BUILDING CLASS AT TIME OF SALE',\n",
       "       'SALE PRICE', 'SALE DATE'],\n",
       "      dtype='object')"
      ]
     },
     "execution_count": 263,
     "metadata": {},
     "output_type": "execute_result"
    }
   ],
   "source": [
    "brooklyn_16.columns"
   ]
  },
  {
   "cell_type": "code",
   "execution_count": 264,
   "metadata": {
    "collapsed": false
   },
   "outputs": [],
   "source": [
    "queens_16.columns=queens_16.columns.str.replace(' ', '_')\n",
    "queens_03.columns=queens_03.columns.str.replace(' ', '_')\n",
    "brooklyn_16.columns=brooklyn_16.columns.str.replace(' ', '_')\n",
    "brooklyn_03.columns=brooklyn_03.columns.str.replace(' ', '_')"
   ]
  },
  {
   "cell_type": "code",
   "execution_count": 265,
   "metadata": {
    "collapsed": false
   },
   "outputs": [
    {
     "data": {
      "text/plain": [
       "Index(['BOROUGH', 'NEIGHBORHOOD', 'BUILDING_CLASS_CATEGORY',\n",
       "       'TAX_CLASS_AT_PRESENT', 'BLOCK', 'LOT', 'EASE-MENT',\n",
       "       'BUILDING_CLASS_AT_PRESENT', 'ADDRESS', 'APARTMENT_NUMBER', 'ZIP_CODE',\n",
       "       'RESIDENTIAL_UNITS', 'COMMERCIAL_UNITS', 'TOTAL_UNITS',\n",
       "       'LAND_SQUARE_FEET', 'GROSS_SQUARE_FEET', 'YEAR_BUILT',\n",
       "       'TAX_CLASS_AT_TIME_OF_SALE', 'BUILDING_CLASS_AT_TIME_OF_SALE',\n",
       "       'SALE_PRICE', 'SALE_DATE'],\n",
       "      dtype='object')"
      ]
     },
     "execution_count": 265,
     "metadata": {},
     "output_type": "execute_result"
    }
   ],
   "source": [
    "queens_03.columns"
   ]
  },
  {
   "cell_type": "code",
   "execution_count": 266,
   "metadata": {
    "collapsed": false
   },
   "outputs": [
    {
     "data": {
      "text/plain": [
       "Index(['BOROUGH', 'NEIGHBORHOOD', 'BUILDING_CLASS_CATEGORY',\n",
       "       'TAX_CLASS_AT_PRESENT', 'BLOCK', 'LOT', 'EASE-MENT',\n",
       "       'BUILDING_CLASS_AT_PRESENT', 'ADDRESS', 'APARTMENT_NUMBER', 'ZIP_CODE',\n",
       "       'RESIDENTIAL_UNITS', 'COMMERCIAL_UNITS', 'TOTAL_UNITS',\n",
       "       'LAND_SQUARE_FEET', 'GROSS_SQUARE_FEET', 'YEAR_BUILT',\n",
       "       'TAX_CLASS_AT_TIME_OF_SALE', 'BUILDING_CLASS_AT_TIME_OF_SALE',\n",
       "       'SALE_PRICE', 'SALE_DATE'],\n",
       "      dtype='object')"
      ]
     },
     "execution_count": 266,
     "metadata": {},
     "output_type": "execute_result"
    }
   ],
   "source": [
    "brooklyn_03.columns"
   ]
  },
  {
   "cell_type": "code",
   "execution_count": 267,
   "metadata": {
    "collapsed": false
   },
   "outputs": [
    {
     "data": {
      "text/plain": [
       "RangeIndex(start=0, stop=33706, step=1)"
      ]
     },
     "execution_count": 267,
     "metadata": {},
     "output_type": "execute_result"
    }
   ],
   "source": [
    "brooklyn_03.index"
   ]
  },
  {
   "cell_type": "code",
   "execution_count": 268,
   "metadata": {
    "collapsed": false
   },
   "outputs": [
    {
     "name": "stdout",
     "output_type": "stream",
     "text": [
      "<class 'pandas.core.frame.DataFrame'>\n",
      "RangeIndex: 39177 entries, 0 to 39176\n",
      "Data columns (total 21 columns):\n",
      "BOROUGH                           39177 non-null int64\n",
      "NEIGHBORHOOD                      39177 non-null object\n",
      "BUILDING_CLASS_CATEGORY           39177 non-null object\n",
      "TAX_CLASS_AT_PRESENT              39177 non-null object\n",
      "BLOCK                             39177 non-null int64\n",
      "LOT                               39177 non-null int64\n",
      "EASE-MENT                         39177 non-null object\n",
      "BUILDING_CLASS_AT_PRESENT         39177 non-null object\n",
      "ADDRESS                           39177 non-null object\n",
      "APARTMENT_NUMBER                  39177 non-null object\n",
      "ZIP_CODE                          39177 non-null int64\n",
      "RESIDENTIAL_UNITS                 39177 non-null object\n",
      "COMMERCIAL_UNITS                  39177 non-null int64\n",
      "TOTAL_UNITS                       39177 non-null object\n",
      "LAND_SQUARE_FEET                  39177 non-null object\n",
      "GROSS_SQUARE_FEET                 39177 non-null int64\n",
      "YEAR_BUILT                        39177 non-null int64\n",
      "TAX_CLASS_AT_TIME_OF_SALE         39177 non-null int64\n",
      "BUILDING_CLASS_AT_TIME_OF_SALE    39177 non-null object\n",
      "SALE_PRICE                        39177 non-null int64\n",
      "SALE_DATE                         39177 non-null object\n",
      "dtypes: int64(9), object(12)\n",
      "memory usage: 6.3+ MB\n"
     ]
    }
   ],
   "source": [
    "queens_03.info()"
   ]
  },
  {
   "cell_type": "code",
   "execution_count": 269,
   "metadata": {
    "collapsed": false
   },
   "outputs": [
    {
     "data": {
      "text/plain": [
       "count    3.917700e+04\n",
       "mean     2.351176e+05\n",
       "std      5.555295e+05\n",
       "min      0.000000e+00\n",
       "25%      0.000000e+00\n",
       "50%      1.609600e+05\n",
       "75%      3.600000e+05\n",
       "max      4.690000e+07\n",
       "Name: SALE_PRICE, dtype: float64"
      ]
     },
     "execution_count": 269,
     "metadata": {},
     "output_type": "execute_result"
    }
   ],
   "source": [
    "queens_03['SALE_PRICE'].describe()"
   ]
  },
  {
   "cell_type": "markdown",
   "metadata": {},
   "source": [
    "### NaN Values\n",
    "\n",
    "One of the most glaring problems was that the houses with no sale price are listed with ‘0’.  This is a problem because this would drag the average sale price down artificially.  For each dataset, I ran the below code to replace all ‘0’ in the Sale Price column with NaN values.\n",
    "\n",
    "I also want to confirm that the Sale Price Columns are integers and not strings or objects, so I will recode them as such.  \n"
   ]
  },
  {
   "cell_type": "code",
   "execution_count": 270,
   "metadata": {
    "collapsed": false
   },
   "outputs": [],
   "source": [
    "queens_03['SALE_PRICE_CLEAN']=queens_03['SALE_PRICE'].replace('0', np.nan).head()"
   ]
  },
  {
   "cell_type": "code",
   "execution_count": 271,
   "metadata": {
    "collapsed": false
   },
   "outputs": [],
   "source": [
    "queens_16['SALE_PRICE_CLEAN']=queens_16['SALE_PRICE'].replace('0', np.nan).head()"
   ]
  },
  {
   "cell_type": "code",
   "execution_count": 272,
   "metadata": {
    "collapsed": false
   },
   "outputs": [],
   "source": [
    "brooklyn_16['SALE_PRICE_CLEAN']=brooklyn_16['SALE_PRICE'].replace('0', np.nan).head()"
   ]
  },
  {
   "cell_type": "code",
   "execution_count": 273,
   "metadata": {
    "collapsed": true
   },
   "outputs": [],
   "source": [
    "brooklyn_03['SALE_PRICE_CLEAN']=brooklyn_03['SALE_PRICE'].replace('0', np.nan).head()"
   ]
  },
  {
   "cell_type": "code",
   "execution_count": 274,
   "metadata": {
    "collapsed": false
   },
   "outputs": [
    {
     "data": {
      "text/plain": [
       "pandas.core.series.Series"
      ]
     },
     "execution_count": 274,
     "metadata": {},
     "output_type": "execute_result"
    }
   ],
   "source": [
    "type(brooklyn_03['SALE_PRICE'])"
   ]
  },
  {
   "cell_type": "code",
   "execution_count": 275,
   "metadata": {
    "collapsed": false
   },
   "outputs": [
    {
     "name": "stdout",
     "output_type": "stream",
     "text": [
      "<class 'pandas.core.frame.DataFrame'>\n",
      "RangeIndex: 33706 entries, 0 to 33705\n",
      "Data columns (total 22 columns):\n",
      "BOROUGH                           33706 non-null int64\n",
      "NEIGHBORHOOD                      33706 non-null object\n",
      "BUILDING_CLASS_CATEGORY           33706 non-null object\n",
      "TAX_CLASS_AT_PRESENT              33706 non-null object\n",
      "BLOCK                             33706 non-null int64\n",
      "LOT                               33706 non-null int64\n",
      "EASE-MENT                         33706 non-null object\n",
      "BUILDING_CLASS_AT_PRESENT         33706 non-null object\n",
      "ADDRESS                           33706 non-null object\n",
      "APARTMENT_NUMBER                  33706 non-null object\n",
      "ZIP_CODE                          33706 non-null int64\n",
      "RESIDENTIAL_UNITS                 33706 non-null object\n",
      "COMMERCIAL_UNITS                  33706 non-null int64\n",
      "TOTAL_UNITS                       33706 non-null object\n",
      "LAND_SQUARE_FEET                  33706 non-null object\n",
      "GROSS_SQUARE_FEET                 33706 non-null float64\n",
      "YEAR_BUILT                        33706 non-null int64\n",
      "TAX_CLASS_AT_TIME_OF_SALE         33706 non-null int64\n",
      "BUILDING_CLASS_AT_TIME_OF_SALE    33706 non-null object\n",
      "SALE_PRICE                        33706 non-null int64\n",
      "SALE_DATE                         33706 non-null object\n",
      "SALE_PRICE_CLEAN                  1 non-null float64\n",
      "dtypes: float64(2), int64(8), object(12)\n",
      "memory usage: 5.7+ MB\n"
     ]
    }
   ],
   "source": [
    "#Repeat the same steps for all tables\n",
    "brooklyn_03.info()"
   ]
  },
  {
   "cell_type": "code",
   "execution_count": 276,
   "metadata": {
    "collapsed": false
   },
   "outputs": [
    {
     "name": "stdout",
     "output_type": "stream",
     "text": [
      "0         NaN\n",
      "1    450000.0\n",
      "2         NaN\n",
      "3         NaN\n",
      "4         NaN\n",
      "Name: SALE_PRICE_CLEAN, dtype: float64\n"
     ]
    }
   ],
   "source": [
    "print(brooklyn_03['SALE_PRICE_CLEAN'].head())"
   ]
  },
  {
   "cell_type": "code",
   "execution_count": 277,
   "metadata": {
    "collapsed": false
   },
   "outputs": [
    {
     "name": "stderr",
     "output_type": "stream",
     "text": [
      "C:\\Users\\Ryan May\\AppData\\Local\\Continuum\\Anaconda3\\lib\\site-packages\\numpy\\lib\\function_base.py:3834: RuntimeWarning: Invalid value encountered in percentile\n",
      "  RuntimeWarning)\n"
     ]
    },
    {
     "data": {
      "text/plain": [
       "count         3.000000\n",
       "mean     802333.333333\n",
       "std       23115.651263\n",
       "min      788000.000000\n",
       "25%                NaN\n",
       "50%                NaN\n",
       "75%                NaN\n",
       "max      829000.000000\n",
       "Name: SALE_PRICE_CLEAN, dtype: float64"
      ]
     },
     "execution_count": 277,
     "metadata": {},
     "output_type": "execute_result"
    }
   ],
   "source": [
    "brooklyn_16['SALE_PRICE_CLEAN'].describe()"
   ]
  },
  {
   "cell_type": "code",
   "execution_count": 278,
   "metadata": {
    "collapsed": false
   },
   "outputs": [],
   "source": [
    "brooklyn_16['GROSS_SQUARE_FEET_C']=brooklyn_16['GROSS_SQUARE_FEET'].replace('0',np.nan).head()"
   ]
  },
  {
   "cell_type": "code",
   "execution_count": 279,
   "metadata": {
    "collapsed": false
   },
   "outputs": [],
   "source": [
    "queens_16['GROSS_SQUARE_FEET_C']=queens_16['GROSS_SQUARE_FEET'].replace('0',np.nan).head()"
   ]
  },
  {
   "cell_type": "code",
   "execution_count": 280,
   "metadata": {
    "collapsed": false,
    "scrolled": true
   },
   "outputs": [
    {
     "data": {
      "text/plain": [
       "0       0.0\n",
       "1    1836.0\n",
       "2    1224.0\n",
       "3    1836.0\n",
       "4    4300.0\n",
       "Name: GROSS_SQUARE_FEET, dtype: float64"
      ]
     },
     "execution_count": 280,
     "metadata": {},
     "output_type": "execute_result"
    }
   ],
   "source": [
    "queens_16['GROSS_SQUARE_FEET'].replace('',np.nan).head()"
   ]
  },
  {
   "cell_type": "code",
   "execution_count": 281,
   "metadata": {
    "collapsed": false
   },
   "outputs": [],
   "source": [
    "brooklyn_03['GROSS_SQUARE_FEET_C']=brooklyn_03['GROSS_SQUARE_FEET'].replace('0',np.nan).head()"
   ]
  },
  {
   "cell_type": "code",
   "execution_count": 282,
   "metadata": {
    "collapsed": false
   },
   "outputs": [],
   "source": [
    "queens_03['GROSS_SQUARE_FEET_C']=queens_03['GROSS_SQUARE_FEET'].replace('0',np.nan).head()"
   ]
  },
  {
   "cell_type": "code",
   "execution_count": 283,
   "metadata": {
    "collapsed": false
   },
   "outputs": [
    {
     "data": {
      "text/plain": [
       "0    1224\n",
       "1    1224\n",
       "2    1224\n",
       "3    1224\n",
       "4    1224\n",
       "Name: GROSS_SQUARE_FEET, dtype: int32"
      ]
     },
     "execution_count": 283,
     "metadata": {},
     "output_type": "execute_result"
    }
   ],
   "source": [
    "brooklyn_16['GROSS_SQUARE_FEET'].astype(int).head()\n",
    "brooklyn_03['GROSS_SQUARE_FEET'].astype(int).head()\n",
    "queens_16['GROSS_SQUARE_FEET'].astype(int).head()\n",
    "queens_03['GROSS_SQUARE_FEET'].astype(int).head()"
   ]
  },
  {
   "cell_type": "markdown",
   "metadata": {},
   "source": [
    "### Datetime\n",
    "Instead of being uploaded as a date time object, the sale date column in all tables were coded as objects.  These columns must be coded as datetime objects and the index must be reset to follow the new date time object.  "
   ]
  },
  {
   "cell_type": "code",
   "execution_count": 284,
   "metadata": {
    "collapsed": false
   },
   "outputs": [
    {
     "data": {
      "text/plain": [
       "0    5/25/2016\n",
       "1     4/5/2016\n",
       "2    10/6/2016\n",
       "3    6/21/2016\n",
       "4    3/31/2016\n",
       "Name: SALE_DATE, dtype: object"
      ]
     },
     "execution_count": 284,
     "metadata": {},
     "output_type": "execute_result"
    }
   ],
   "source": [
    "brooklyn_16['SALE_DATE'].astype(str).head()"
   ]
  },
  {
   "cell_type": "code",
   "execution_count": 285,
   "metadata": {
    "collapsed": false
   },
   "outputs": [
    {
     "data": {
      "text/plain": [
       "0     8/1/2003\n",
       "1    1/24/2003\n",
       "2    10/8/2003\n",
       "3     4/2/2003\n",
       "4     4/2/2003\n",
       "Name: SALE_DATE, dtype: object"
      ]
     },
     "execution_count": 285,
     "metadata": {},
     "output_type": "execute_result"
    }
   ],
   "source": [
    "brooklyn_03['SALE_DATE'].astype(str).head()"
   ]
  },
  {
   "cell_type": "code",
   "execution_count": 286,
   "metadata": {
    "collapsed": false
   },
   "outputs": [
    {
     "data": {
      "text/plain": [
       "0     1/14/2016\n",
       "1     7/26/2016\n",
       "2    11/18/2016\n",
       "3     6/13/2016\n",
       "4     4/14/2016\n",
       "Name: SALE_DATE, dtype: object"
      ]
     },
     "execution_count": 286,
     "metadata": {},
     "output_type": "execute_result"
    }
   ],
   "source": [
    "queens_16['SALE_DATE'].astype(str).head()"
   ]
  },
  {
   "cell_type": "code",
   "execution_count": 287,
   "metadata": {
    "collapsed": false
   },
   "outputs": [],
   "source": [
    "brooklyn_03['SALE_DATE']= pd.to_datetime(brooklyn_03['SALE_DATE'])"
   ]
  },
  {
   "cell_type": "code",
   "execution_count": 288,
   "metadata": {
    "collapsed": false
   },
   "outputs": [],
   "source": [
    "brooklyn_03['YEAR']=brooklyn_03['SALE_DATE'].dt.year"
   ]
  },
  {
   "cell_type": "code",
   "execution_count": 289,
   "metadata": {
    "collapsed": true
   },
   "outputs": [],
   "source": [
    "brooklyn_03['MONTH']=brooklyn_03['SALE_DATE'].dt.month"
   ]
  },
  {
   "cell_type": "code",
   "execution_count": 290,
   "metadata": {
    "collapsed": false
   },
   "outputs": [
    {
     "data": {
      "text/plain": [
       "0    2003\n",
       "1    2003\n",
       "2    2003\n",
       "3    2003\n",
       "4    2003\n",
       "Name: YEAR, dtype: int64"
      ]
     },
     "execution_count": 290,
     "metadata": {},
     "output_type": "execute_result"
    }
   ],
   "source": [
    "brooklyn_03['YEAR'].head()"
   ]
  },
  {
   "cell_type": "code",
   "execution_count": 291,
   "metadata": {
    "collapsed": true
   },
   "outputs": [],
   "source": [
    "queens_03['SALE_DATE']=pd.to_datetime(queens_03['SALE_DATE'])\n",
    "queens_03['YEAR']=queens_03['SALE_DATE'].dt.year\n",
    "queens_03['MONTH']=queens_03['SALE_DATE'].dt.month"
   ]
  },
  {
   "cell_type": "code",
   "execution_count": 292,
   "metadata": {
    "collapsed": true
   },
   "outputs": [],
   "source": [
    "queens_16['SALE_DATE']= pd.to_datetime(queens_16['SALE_DATE'])"
   ]
  },
  {
   "cell_type": "code",
   "execution_count": 293,
   "metadata": {
    "collapsed": true
   },
   "outputs": [],
   "source": [
    "queens_16['MONTH']=queens_16['SALE_DATE'].dt.month"
   ]
  },
  {
   "cell_type": "code",
   "execution_count": 294,
   "metadata": {
    "collapsed": false
   },
   "outputs": [],
   "source": [
    "queens_16['YEAR']=queens_16['SALE_DATE'].dt.year"
   ]
  },
  {
   "cell_type": "code",
   "execution_count": 295,
   "metadata": {
    "collapsed": false
   },
   "outputs": [],
   "source": [
    "brooklyn_16['SALE_DATE']=pd.to_datetime(brooklyn_16['SALE_DATE'])"
   ]
  },
  {
   "cell_type": "code",
   "execution_count": 296,
   "metadata": {
    "collapsed": true
   },
   "outputs": [],
   "source": [
    "brooklyn_16['MONTH']=brooklyn_16['SALE_DATE'].dt.month"
   ]
  },
  {
   "cell_type": "code",
   "execution_count": 297,
   "metadata": {
    "collapsed": true
   },
   "outputs": [],
   "source": [
    "brooklyn_16['YEAR']=brooklyn_16['SALE_DATE'].dt.year"
   ]
  },
  {
   "cell_type": "code",
   "execution_count": 298,
   "metadata": {
    "collapsed": false
   },
   "outputs": [],
   "source": [
    "queens_16.index=pd.to_datetime(queens_16['SALE_DATE'])"
   ]
  },
  {
   "cell_type": "code",
   "execution_count": 299,
   "metadata": {
    "collapsed": true
   },
   "outputs": [],
   "source": [
    "brooklyn_16.index=pd.to_datetime(brooklyn_16['SALE_DATE'])"
   ]
  },
  {
   "cell_type": "code",
   "execution_count": 300,
   "metadata": {
    "collapsed": false
   },
   "outputs": [
    {
     "name": "stdout",
     "output_type": "stream",
     "text": [
      "<class 'pandas.core.frame.DataFrame'>\n",
      "RangeIndex: 39177 entries, 0 to 39176\n",
      "Data columns (total 25 columns):\n",
      "BOROUGH                           39177 non-null int64\n",
      "NEIGHBORHOOD                      39177 non-null object\n",
      "BUILDING_CLASS_CATEGORY           39177 non-null object\n",
      "TAX_CLASS_AT_PRESENT              39177 non-null object\n",
      "BLOCK                             39177 non-null int64\n",
      "LOT                               39177 non-null int64\n",
      "EASE-MENT                         39177 non-null object\n",
      "BUILDING_CLASS_AT_PRESENT         39177 non-null object\n",
      "ADDRESS                           39177 non-null object\n",
      "APARTMENT_NUMBER                  39177 non-null object\n",
      "ZIP_CODE                          39177 non-null int64\n",
      "RESIDENTIAL_UNITS                 39177 non-null object\n",
      "COMMERCIAL_UNITS                  39177 non-null int64\n",
      "TOTAL_UNITS                       39177 non-null object\n",
      "LAND_SQUARE_FEET                  39177 non-null object\n",
      "GROSS_SQUARE_FEET                 39177 non-null int64\n",
      "YEAR_BUILT                        39177 non-null int64\n",
      "TAX_CLASS_AT_TIME_OF_SALE         39177 non-null int64\n",
      "BUILDING_CLASS_AT_TIME_OF_SALE    39177 non-null object\n",
      "SALE_PRICE                        39177 non-null int64\n",
      "SALE_DATE                         39177 non-null datetime64[ns]\n",
      "SALE_PRICE_CLEAN                  3 non-null float64\n",
      "GROSS_SQUARE_FEET_C               5 non-null float64\n",
      "YEAR                              39177 non-null int64\n",
      "MONTH                             39177 non-null int64\n",
      "dtypes: datetime64[ns](1), float64(2), int64(11), object(11)\n",
      "memory usage: 7.5+ MB\n"
     ]
    }
   ],
   "source": [
    "queens_03.info()"
   ]
  },
  {
   "cell_type": "markdown",
   "metadata": {},
   "source": [
    "### Neighborhood Recoding\n",
    "\n",
    "Since the Neighborhood columns are coded as objects, the data cannot be sorted by neighborhood easily.  When the columns is recoded a categorical variable, the sales can be more easily sorted and analyzed.  "
   ]
  },
  {
   "cell_type": "code",
   "execution_count": 304,
   "metadata": {
    "collapsed": false
   },
   "outputs": [],
   "source": [
    "queens_03['NEIGHBORHOOD_C']=queens_03['NEIGHBORHOOD'].astype('category').head()"
   ]
  },
  {
   "cell_type": "code",
   "execution_count": 305,
   "metadata": {
    "collapsed": false
   },
   "outputs": [],
   "source": [
    "queens_16['NEIGHBORHOOD_C']=queens_16['NEIGHBORHOOD'].astype('category').head()"
   ]
  },
  {
   "cell_type": "code",
   "execution_count": 303,
   "metadata": {
    "collapsed": false
   },
   "outputs": [],
   "source": [
    "brooklyn_16['NEIGHBORHOOD_C']=brooklyn_16['NEIGHBORHOOD'].astype('category').head()"
   ]
  },
  {
   "cell_type": "code",
   "execution_count": 306,
   "metadata": {
    "collapsed": true
   },
   "outputs": [],
   "source": [
    "brooklyn_03['NEIGHBORHOOD_C']=brooklyn_03['NEIGHBORHOOD'].astype('category').head()"
   ]
  },
  {
   "cell_type": "markdown",
   "metadata": {},
   "source": [
    "Lastly, concatenating the two Queens and the two Brooklyn datasets will allow easier comparison between 2003 and 2016 in the same neighborhoods.  The concatenated datasets will be save to CSV files to enable further analysis"
   ]
  },
  {
   "cell_type": "code",
   "execution_count": 312,
   "metadata": {
    "collapsed": false
   },
   "outputs": [],
   "source": [
    "queens_clean=pd.merge(queens_03, queens_16)\n",
    "brooklyn_clean=pd.merge(brooklyn_03, brooklyn_16)"
   ]
  },
  {
   "cell_type": "code",
   "execution_count": 314,
   "metadata": {
    "collapsed": false
   },
   "outputs": [],
   "source": [
    "queens_clean.to_csv('queens_clean.csv')\n",
    "brooklyn_clean.to_csv('brooklyn_clean.csv')"
   ]
  },
  {
   "cell_type": "code",
   "execution_count": null,
   "metadata": {
    "collapsed": true
   },
   "outputs": [],
   "source": []
  }
 ],
 "metadata": {
  "anaconda-cloud": {},
  "kernelspec": {
   "display_name": "Python [Root]",
   "language": "python",
   "name": "Python [Root]"
  },
  "language_info": {
   "codemirror_mode": {
    "name": "ipython",
    "version": 3
   },
   "file_extension": ".py",
   "mimetype": "text/x-python",
   "name": "python",
   "nbconvert_exporter": "python",
   "pygments_lexer": "ipython3",
   "version": "3.5.2"
  }
 },
 "nbformat": 4,
 "nbformat_minor": 0
}
