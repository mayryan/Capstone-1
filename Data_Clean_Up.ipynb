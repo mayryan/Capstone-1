{
 "cells": [
  {
   "cell_type": "code",
   "execution_count": 1,
   "metadata": {
    "collapsed": false,
    "scrolled": false
   },
   "outputs": [],
   "source": [
    "import pandas as pd\n",
    "import numpy as np\n",
    "from datetime import datetime"
   ]
  },
  {
   "cell_type": "markdown",
   "metadata": {},
   "source": [
    "# New York City Housing Values\n",
    "\n",
    "    Certain New York neighborhoods have been experiencing a dramatic rise in prices.  Homes in Williamsburg, Park Slope, Long Island City and Astoria that were once worth under a million dollars have seen their values in some cases triple.  Can it be possible to attain a fair price for a home and could current trends be used to predict future prices?\n",
    "    The City of New York tracks sales of all properties with prices, sale dates, address, zip codes and many other data points.  I will be using the spreadsheets for Queens and Brooklyn for the years 2003 and 2016.  Some neighborhoods in these boroughs, like Williamsburg and Long Island City, have become extremely desirable.   "
   ]
  },
  {
   "cell_type": "code",
   "execution_count": 2,
   "metadata": {
    "collapsed": false,
    "scrolled": false
   },
   "outputs": [],
   "source": [
    "queens_03 = pd.read_csv('C:\\\\Users\\\\Ryan May\\\\Desktop\\\\Springboard\\\\queens_sales_03.csv', low_memory=False, parse_dates=True)\n",
    "queens_16 = pd.read_csv('C:\\\\Users\\\\Ryan May\\\\Desktop\\\\Springboard\\\\queens_sales_16.csv', low_memory=False, parse_dates=True) \n",
    "brooklyn_16 = pd.read_csv('C:\\\\Users\\\\Ryan May\\\\Desktop\\\\Springboard\\\\brooklyn_sales_16.csv', low_memory=False, parse_dates=True)\n",
    "brooklyn_03 = pd.read_csv('C:\\\\Users\\\\Ryan May\\\\Desktop\\\\Springboard\\\\brooklyn_sales_03.csv', low_memory=False, parse_dates=True)"
   ]
  },
  {
   "cell_type": "code",
   "execution_count": 3,
   "metadata": {
    "collapsed": false,
    "scrolled": false
   },
   "outputs": [
    {
     "name": "stdout",
     "output_type": "stream",
     "text": [
      "(39177, 21)\n",
      "(27214, 21)\n",
      "(33706, 21)\n",
      "(25519, 21)\n"
     ]
    }
   ],
   "source": [
    "#Get general lay out of all tables\n",
    "print(queens_03.shape)\n",
    "print(queens_16.shape)\n",
    "print(brooklyn_03.shape)\n",
    "print(brooklyn_16.shape)"
   ]
  },
  {
   "cell_type": "code",
   "execution_count": 4,
   "metadata": {
    "collapsed": false,
    "scrolled": false
   },
   "outputs": [
    {
     "data": {
      "text/html": [
       "<div>\n",
       "<table border=\"1\" class=\"dataframe\">\n",
       "  <thead>\n",
       "    <tr style=\"text-align: right;\">\n",
       "      <th></th>\n",
       "      <th>BOROUGH</th>\n",
       "      <th>NEIGHBORHOOD</th>\n",
       "      <th>BUILDING CLASS CATEGORY</th>\n",
       "      <th>TAX CLASS AT PRESENT</th>\n",
       "      <th>BLOCK</th>\n",
       "      <th>LOT</th>\n",
       "      <th>EASE-MENT</th>\n",
       "      <th>BUILDING CLASS AT PRESENT</th>\n",
       "      <th>ADDRESS</th>\n",
       "      <th>APARTMENT NUMBER</th>\n",
       "      <th>...</th>\n",
       "      <th>RESIDENTIAL UNITS</th>\n",
       "      <th>COMMERCIAL UNITS</th>\n",
       "      <th>TOTAL UNITS</th>\n",
       "      <th>LAND SQUARE FEET</th>\n",
       "      <th>GROSS SQUARE FEET</th>\n",
       "      <th>YEAR BUILT</th>\n",
       "      <th>TAX CLASS AT TIME OF SALE</th>\n",
       "      <th>BUILDING CLASS AT TIME OF SALE</th>\n",
       "      <th>SALE PRICE</th>\n",
       "      <th>SALE DATE</th>\n",
       "    </tr>\n",
       "  </thead>\n",
       "  <tbody>\n",
       "    <tr>\n",
       "      <th>0</th>\n",
       "      <td>4</td>\n",
       "      <td>AIRPORT LA GUARDIA</td>\n",
       "      <td>01  ONE FAMILY HOMES</td>\n",
       "      <td>1</td>\n",
       "      <td>949</td>\n",
       "      <td>20</td>\n",
       "      <td></td>\n",
       "      <td>A5</td>\n",
       "      <td>1920 81 STREET</td>\n",
       "      <td></td>\n",
       "      <td>...</td>\n",
       "      <td>1</td>\n",
       "      <td>0</td>\n",
       "      <td>1</td>\n",
       "      <td>1,800</td>\n",
       "      <td>1224</td>\n",
       "      <td>1945</td>\n",
       "      <td>1</td>\n",
       "      <td>A5</td>\n",
       "      <td>0</td>\n",
       "      <td>10/16/2003</td>\n",
       "    </tr>\n",
       "    <tr>\n",
       "      <th>1</th>\n",
       "      <td>4</td>\n",
       "      <td>AIRPORT LA GUARDIA</td>\n",
       "      <td>01  ONE FAMILY HOMES</td>\n",
       "      <td>1</td>\n",
       "      <td>949</td>\n",
       "      <td>47</td>\n",
       "      <td></td>\n",
       "      <td>A5</td>\n",
       "      <td>1974 81 STREET</td>\n",
       "      <td></td>\n",
       "      <td>...</td>\n",
       "      <td>1</td>\n",
       "      <td>0</td>\n",
       "      <td>1</td>\n",
       "      <td>1,800</td>\n",
       "      <td>1224</td>\n",
       "      <td>1945</td>\n",
       "      <td>1</td>\n",
       "      <td>A5</td>\n",
       "      <td>318000</td>\n",
       "      <td>6/17/2003</td>\n",
       "    </tr>\n",
       "    <tr>\n",
       "      <th>2</th>\n",
       "      <td>4</td>\n",
       "      <td>AIRPORT LA GUARDIA</td>\n",
       "      <td>01  ONE FAMILY HOMES</td>\n",
       "      <td>1</td>\n",
       "      <td>949</td>\n",
       "      <td>47</td>\n",
       "      <td></td>\n",
       "      <td>A5</td>\n",
       "      <td>1974 81 STREET</td>\n",
       "      <td></td>\n",
       "      <td>...</td>\n",
       "      <td>1</td>\n",
       "      <td>0</td>\n",
       "      <td>1</td>\n",
       "      <td>1,800</td>\n",
       "      <td>1224</td>\n",
       "      <td>1945</td>\n",
       "      <td>1</td>\n",
       "      <td>A5</td>\n",
       "      <td>100</td>\n",
       "      <td>5/6/2003</td>\n",
       "    </tr>\n",
       "    <tr>\n",
       "      <th>3</th>\n",
       "      <td>4</td>\n",
       "      <td>AIRPORT LA GUARDIA</td>\n",
       "      <td>01  ONE FAMILY HOMES</td>\n",
       "      <td>1</td>\n",
       "      <td>976</td>\n",
       "      <td>23</td>\n",
       "      <td></td>\n",
       "      <td>A5</td>\n",
       "      <td>2136 81 STREET</td>\n",
       "      <td></td>\n",
       "      <td>...</td>\n",
       "      <td>1</td>\n",
       "      <td>0</td>\n",
       "      <td>1</td>\n",
       "      <td>1,800</td>\n",
       "      <td>1224</td>\n",
       "      <td>1950</td>\n",
       "      <td>1</td>\n",
       "      <td>A5</td>\n",
       "      <td>0</td>\n",
       "      <td>7/7/2003</td>\n",
       "    </tr>\n",
       "    <tr>\n",
       "      <th>4</th>\n",
       "      <td>4</td>\n",
       "      <td>AIRPORT LA GUARDIA</td>\n",
       "      <td>01  ONE FAMILY HOMES</td>\n",
       "      <td>1</td>\n",
       "      <td>976</td>\n",
       "      <td>33</td>\n",
       "      <td></td>\n",
       "      <td>A5</td>\n",
       "      <td>2156 81 STREET</td>\n",
       "      <td></td>\n",
       "      <td>...</td>\n",
       "      <td>1</td>\n",
       "      <td>0</td>\n",
       "      <td>1</td>\n",
       "      <td>1,800</td>\n",
       "      <td>1224</td>\n",
       "      <td>1950</td>\n",
       "      <td>1</td>\n",
       "      <td>A5</td>\n",
       "      <td>370000</td>\n",
       "      <td>10/3/2003</td>\n",
       "    </tr>\n",
       "  </tbody>\n",
       "</table>\n",
       "<p>5 rows × 21 columns</p>\n",
       "</div>"
      ],
      "text/plain": [
       "   BOROUGH        NEIGHBORHOOD                       BUILDING CLASS CATEGORY  \\\n",
       "0        4  AIRPORT LA GUARDIA  01  ONE FAMILY HOMES                           \n",
       "1        4  AIRPORT LA GUARDIA  01  ONE FAMILY HOMES                           \n",
       "2        4  AIRPORT LA GUARDIA  01  ONE FAMILY HOMES                           \n",
       "3        4  AIRPORT LA GUARDIA  01  ONE FAMILY HOMES                           \n",
       "4        4  AIRPORT LA GUARDIA  01  ONE FAMILY HOMES                           \n",
       "\n",
       "  TAX CLASS AT PRESENT  BLOCK  LOT EASE-MENT BUILDING CLASS AT PRESENT  \\\n",
       "0                    1    949   20                                  A5   \n",
       "1                    1    949   47                                  A5   \n",
       "2                    1    949   47                                  A5   \n",
       "3                    1    976   23                                  A5   \n",
       "4                    1    976   33                                  A5   \n",
       "\n",
       "                                       ADDRESS APARTMENT NUMBER     ...      \\\n",
       "0   1920 81 STREET                                                  ...       \n",
       "1   1974 81 STREET                                                  ...       \n",
       "2   1974 81 STREET                                                  ...       \n",
       "3   2136 81 STREET                                                  ...       \n",
       "4   2156 81 STREET                                                  ...       \n",
       "\n",
       "   RESIDENTIAL UNITS COMMERCIAL UNITS  TOTAL UNITS LAND SQUARE FEET  \\\n",
       "0                  1                0            1            1,800   \n",
       "1                  1                0            1            1,800   \n",
       "2                  1                0            1            1,800   \n",
       "3                  1                0            1            1,800   \n",
       "4                  1                0            1            1,800   \n",
       "\n",
       "  GROSS SQUARE FEET  YEAR BUILT  TAX CLASS AT TIME OF SALE  \\\n",
       "0              1224        1945                          1   \n",
       "1              1224        1945                          1   \n",
       "2              1224        1945                          1   \n",
       "3              1224        1950                          1   \n",
       "4              1224        1950                          1   \n",
       "\n",
       "   BUILDING CLASS AT TIME OF SALE SALE PRICE   SALE DATE  \n",
       "0                             A5           0  10/16/2003  \n",
       "1                             A5      318000   6/17/2003  \n",
       "2                             A5         100    5/6/2003  \n",
       "3                             A5           0    7/7/2003  \n",
       "4                             A5      370000   10/3/2003  \n",
       "\n",
       "[5 rows x 21 columns]"
      ]
     },
     "execution_count": 4,
     "metadata": {},
     "output_type": "execute_result"
    }
   ],
   "source": [
    "queens_03.head()"
   ]
  },
  {
   "cell_type": "markdown",
   "metadata": {},
   "source": [
    "Each row in the dataset is one sale of a home during the given year.  Each column is a variable for a given variable.  The most important variables for my analysis are sale price, sale date and neighborhood.   "
   ]
  },
  {
   "cell_type": "code",
   "execution_count": 5,
   "metadata": {
    "collapsed": false,
    "scrolled": false
   },
   "outputs": [
    {
     "data": {
      "text/plain": [
       "count    3.917700e+04\n",
       "mean     2.351176e+05\n",
       "std      5.555295e+05\n",
       "min      0.000000e+00\n",
       "25%      0.000000e+00\n",
       "50%      1.609600e+05\n",
       "75%      3.600000e+05\n",
       "max      4.690000e+07\n",
       "Name: SALE PRICE, dtype: float64"
      ]
     },
     "execution_count": 5,
     "metadata": {},
     "output_type": "execute_result"
    }
   ],
   "source": [
    "queens_03['SALE PRICE'].describe()"
   ]
  },
  {
   "cell_type": "markdown",
   "metadata": {},
   "source": [
    "### Problems With Column Names   \n",
    "   When exploratory data analysis was tried was the column names in the 2016 datasets had problems.  All the column names had ‘\\n’ added to the end of the column name.  While this is not necessarily a catastrophic development, it can be confusing when trying run analysis on multiple datasets.\n",
    "    The spaces between the two words in the column names should be replaced with an underscore.  This will make it easier to confirm that the reader knows when the columns are being used."
   ]
  },
  {
   "cell_type": "code",
   "execution_count": 6,
   "metadata": {
    "collapsed": false,
    "scrolled": false
   },
   "outputs": [
    {
     "data": {
      "text/plain": [
       "Index(['BOROUGH\\n', 'NEIGHBORHOOD\\n', 'BUILDING CLASS CATEGORY\\n',\n",
       "       'TAX CLASS AT PRESENT\\n', 'BLOCK\\n', 'LOT\\n', 'EASE-MENT\\n',\n",
       "       'BUILDING CLASS AT PRESENT\\n', 'ADDRESS\\n', 'APARTMENT NUMBER\\n',\n",
       "       'ZIP CODE\\n', 'RESIDENTIAL UNITS\\n', 'COMMERCIAL UNITS\\n',\n",
       "       'TOTAL UNITS\\n', 'LAND SQUARE FEET\\n', 'GROSS SQUARE FEET\\n',\n",
       "       'YEAR BUILT\\n', 'TAX CLASS AT TIME OF SALE\\n',\n",
       "       'BUILDING CLASS AT TIME OF SALE\\n', 'SALE PRICE\\n', 'SALE DATE\\n'],\n",
       "      dtype='object')"
      ]
     },
     "execution_count": 6,
     "metadata": {},
     "output_type": "execute_result"
    }
   ],
   "source": [
    "queens_16.columns"
   ]
  },
  {
   "cell_type": "code",
   "execution_count": 7,
   "metadata": {
    "collapsed": false,
    "scrolled": false
   },
   "outputs": [],
   "source": [
    "queens_16.columns=queens_16.columns.str.replace('\\n', '')"
   ]
  },
  {
   "cell_type": "code",
   "execution_count": 8,
   "metadata": {
    "collapsed": false,
    "scrolled": false
   },
   "outputs": [
    {
     "data": {
      "text/plain": [
       "Index(['BOROUGH', 'NEIGHBORHOOD', 'BUILDING CLASS CATEGORY',\n",
       "       'TAX CLASS AT PRESENT', 'BLOCK', 'LOT', 'EASE-MENT',\n",
       "       'BUILDING CLASS AT PRESENT', 'ADDRESS', 'APARTMENT NUMBER', 'ZIP CODE',\n",
       "       'RESIDENTIAL UNITS', 'COMMERCIAL UNITS', 'TOTAL UNITS',\n",
       "       'LAND SQUARE FEET', 'GROSS SQUARE FEET', 'YEAR BUILT',\n",
       "       'TAX CLASS AT TIME OF SALE', 'BUILDING CLASS AT TIME OF SALE',\n",
       "       'SALE PRICE', 'SALE DATE'],\n",
       "      dtype='object')"
      ]
     },
     "execution_count": 8,
     "metadata": {},
     "output_type": "execute_result"
    }
   ],
   "source": [
    "queens_16.columns"
   ]
  },
  {
   "cell_type": "code",
   "execution_count": 9,
   "metadata": {
    "collapsed": false,
    "scrolled": false
   },
   "outputs": [
    {
     "data": {
      "text/plain": [
       "Index(['BOROUGH\\n', 'NEIGHBORHOOD\\n', 'BUILDING CLASS CATEGORY\\n',\n",
       "       'TAX CLASS AT PRESENT\\n', 'BLOCK\\n', 'LOT\\n', 'EASE-MENT\\n',\n",
       "       'BUILDING CLASS AT PRESENT\\n', 'ADDRESS\\n', 'APARTMENT NUMBER\\n',\n",
       "       'ZIP CODE\\n', 'RESIDENTIAL UNITS\\n', 'COMMERCIAL UNITS\\n',\n",
       "       'TOTAL UNITS\\n', 'LAND SQUARE FEET\\n', 'GROSS SQUARE FEET\\n',\n",
       "       'YEAR BUILT\\n', 'TAX CLASS AT TIME OF SALE\\n',\n",
       "       'BUILDING CLASS AT TIME OF SALE\\n', 'SALE PRICE\\n', 'SALE DATE\\n'],\n",
       "      dtype='object')"
      ]
     },
     "execution_count": 9,
     "metadata": {},
     "output_type": "execute_result"
    }
   ],
   "source": [
    "brooklyn_16.columns"
   ]
  },
  {
   "cell_type": "code",
   "execution_count": 10,
   "metadata": {
    "collapsed": true,
    "scrolled": false
   },
   "outputs": [],
   "source": [
    "brooklyn_16.columns=brooklyn_16.columns.str.replace('\\n', '')"
   ]
  },
  {
   "cell_type": "code",
   "execution_count": 11,
   "metadata": {
    "collapsed": false,
    "scrolled": false
   },
   "outputs": [
    {
     "data": {
      "text/plain": [
       "Index(['BOROUGH', 'NEIGHBORHOOD', 'BUILDING CLASS CATEGORY',\n",
       "       'TAX CLASS AT PRESENT', 'BLOCK', 'LOT', 'EASE-MENT',\n",
       "       'BUILDING CLASS AT PRESENT', 'ADDRESS', 'APARTMENT NUMBER', 'ZIP CODE',\n",
       "       'RESIDENTIAL UNITS', 'COMMERCIAL UNITS', 'TOTAL UNITS',\n",
       "       'LAND SQUARE FEET', 'GROSS SQUARE FEET', 'YEAR BUILT',\n",
       "       'TAX CLASS AT TIME OF SALE', 'BUILDING CLASS AT TIME OF SALE',\n",
       "       'SALE PRICE', 'SALE DATE'],\n",
       "      dtype='object')"
      ]
     },
     "execution_count": 11,
     "metadata": {},
     "output_type": "execute_result"
    }
   ],
   "source": [
    "brooklyn_16.columns"
   ]
  },
  {
   "cell_type": "code",
   "execution_count": 12,
   "metadata": {
    "collapsed": false,
    "scrolled": false
   },
   "outputs": [],
   "source": [
    "queens_16.columns=queens_16.columns.str.replace(' ', '_')\n",
    "queens_03.columns=queens_03.columns.str.replace(' ', '_')\n",
    "brooklyn_16.columns=brooklyn_16.columns.str.replace(' ', '_')\n",
    "brooklyn_03.columns=brooklyn_03.columns.str.replace(' ', '_')"
   ]
  },
  {
   "cell_type": "code",
   "execution_count": 13,
   "metadata": {
    "collapsed": true,
    "scrolled": false
   },
   "outputs": [],
   "source": [
    "brooklyn_03.columns=map(str.lower, brooklyn_03.columns)\n",
    "brooklyn_16.columns=map(str.lower, brooklyn_16.columns)\n",
    "queens_03.columns=map(str.lower, queens_03.columns)\n",
    "queens_16.columns=map(str.lower, queens_16.columns)"
   ]
  },
  {
   "cell_type": "code",
   "execution_count": 14,
   "metadata": {
    "collapsed": false,
    "scrolled": false
   },
   "outputs": [
    {
     "data": {
      "text/plain": [
       "Index(['borough', 'neighborhood', 'building_class_category',\n",
       "       'tax_class_at_present', 'block', 'lot', 'ease-ment',\n",
       "       'building_class_at_present', 'address', 'apartment_number', 'zip_code',\n",
       "       'residential_units', 'commercial_units', 'total_units',\n",
       "       'land_square_feet', 'gross_square_feet', 'year_built',\n",
       "       'tax_class_at_time_of_sale', 'building_class_at_time_of_sale',\n",
       "       'sale_price', 'sale_date'],\n",
       "      dtype='object')"
      ]
     },
     "execution_count": 14,
     "metadata": {},
     "output_type": "execute_result"
    }
   ],
   "source": [
    "queens_03.columns"
   ]
  },
  {
   "cell_type": "code",
   "execution_count": 15,
   "metadata": {
    "collapsed": false,
    "scrolled": false
   },
   "outputs": [
    {
     "data": {
      "text/plain": [
       "Index(['borough', 'neighborhood', 'building_class_category',\n",
       "       'tax_class_at_present', 'block', 'lot', 'ease-ment',\n",
       "       'building_class_at_present', 'address', 'apartment_number', 'zip_code',\n",
       "       'residential_units', 'commercial_units', 'total_units',\n",
       "       'land_square_feet', 'gross_square_feet', 'year_built',\n",
       "       'tax_class_at_time_of_sale', 'building_class_at_time_of_sale',\n",
       "       'sale_price', 'sale_date'],\n",
       "      dtype='object')"
      ]
     },
     "execution_count": 15,
     "metadata": {},
     "output_type": "execute_result"
    }
   ],
   "source": [
    "brooklyn_03.columns"
   ]
  },
  {
   "cell_type": "code",
   "execution_count": 16,
   "metadata": {
    "collapsed": false,
    "scrolled": false
   },
   "outputs": [
    {
     "data": {
      "text/plain": [
       "RangeIndex(start=0, stop=33706, step=1)"
      ]
     },
     "execution_count": 16,
     "metadata": {},
     "output_type": "execute_result"
    }
   ],
   "source": [
    "brooklyn_03.index"
   ]
  },
  {
   "cell_type": "code",
   "execution_count": 17,
   "metadata": {
    "collapsed": false,
    "scrolled": false
   },
   "outputs": [
    {
     "name": "stdout",
     "output_type": "stream",
     "text": [
      "<class 'pandas.core.frame.DataFrame'>\n",
      "RangeIndex: 39177 entries, 0 to 39176\n",
      "Data columns (total 21 columns):\n",
      "borough                           39177 non-null int64\n",
      "neighborhood                      39177 non-null object\n",
      "building_class_category           39177 non-null object\n",
      "tax_class_at_present              39177 non-null object\n",
      "block                             39177 non-null int64\n",
      "lot                               39177 non-null int64\n",
      "ease-ment                         39177 non-null object\n",
      "building_class_at_present         39177 non-null object\n",
      "address                           39177 non-null object\n",
      "apartment_number                  39177 non-null object\n",
      "zip_code                          39177 non-null int64\n",
      "residential_units                 39177 non-null object\n",
      "commercial_units                  39177 non-null int64\n",
      "total_units                       39177 non-null object\n",
      "land_square_feet                  39177 non-null object\n",
      "gross_square_feet                 39177 non-null int64\n",
      "year_built                        39177 non-null int64\n",
      "tax_class_at_time_of_sale         39177 non-null int64\n",
      "building_class_at_time_of_sale    39177 non-null object\n",
      "sale_price                        39177 non-null int64\n",
      "sale_date                         39177 non-null object\n",
      "dtypes: int64(9), object(12)\n",
      "memory usage: 6.3+ MB\n"
     ]
    }
   ],
   "source": [
    "queens_03.info()"
   ]
  },
  {
   "cell_type": "code",
   "execution_count": 18,
   "metadata": {
    "collapsed": false,
    "scrolled": false
   },
   "outputs": [
    {
     "data": {
      "text/plain": [
       "count    3.917700e+04\n",
       "mean     2.351176e+05\n",
       "std      5.555295e+05\n",
       "min      0.000000e+00\n",
       "25%      0.000000e+00\n",
       "50%      1.609600e+05\n",
       "75%      3.600000e+05\n",
       "max      4.690000e+07\n",
       "Name: sale_price, dtype: float64"
      ]
     },
     "execution_count": 18,
     "metadata": {},
     "output_type": "execute_result"
    }
   ],
   "source": [
    "queens_03['sale_price'].describe()"
   ]
  },
  {
   "cell_type": "markdown",
   "metadata": {},
   "source": [
    "### NaN Values\n",
    "\n",
    "One of the most glaring problems was that the houses with no sale price are listed with ‘0’.  This is a problem because this would drag the average sale price down artificially.  For each dataset, I ran the below code to replace all ‘0’ in the Sale Price column with NaN values.\n",
    "\n",
    "I also want to confirm that the Sale Price Columns are integers and not strings or objects, so I will recode them as such.  \n"
   ]
  },
  {
   "cell_type": "code",
   "execution_count": 19,
   "metadata": {
    "collapsed": false,
    "scrolled": false
   },
   "outputs": [],
   "source": [
    "queens_03['sale_price_clean']=queens_03['sale_price'].replace('0', np.nan)"
   ]
  },
  {
   "cell_type": "code",
   "execution_count": 20,
   "metadata": {
    "collapsed": false,
    "scrolled": false
   },
   "outputs": [],
   "source": [
    "queens_16['sale_price_clean']=queens_16['sale_price'].replace('0', np.nan)"
   ]
  },
  {
   "cell_type": "code",
   "execution_count": 21,
   "metadata": {
    "collapsed": false,
    "scrolled": false
   },
   "outputs": [],
   "source": [
    "brooklyn_16['sale_price_clean']=brooklyn_16['sale_price'].replace('0', np.nan)"
   ]
  },
  {
   "cell_type": "code",
   "execution_count": 22,
   "metadata": {
    "collapsed": true,
    "scrolled": false
   },
   "outputs": [],
   "source": [
    "brooklyn_03['sale_price_clean']=brooklyn_03['sale_price'].replace('0', np.nan)"
   ]
  },
  {
   "cell_type": "code",
   "execution_count": 23,
   "metadata": {
    "collapsed": true
   },
   "outputs": [],
   "source": [
    "queens_16['commerical_units']=queens_16['commercial_units'].replace(' -   ', 0)"
   ]
  },
  {
   "cell_type": "code",
   "execution_count": 24,
   "metadata": {
    "collapsed": false
   },
   "outputs": [],
   "source": [
    "queens_03['commerical_units']=queens_03['commercial_units']"
   ]
  },
  {
   "cell_type": "code",
   "execution_count": 25,
   "metadata": {
    "collapsed": false,
    "scrolled": false
   },
   "outputs": [
    {
     "name": "stdout",
     "output_type": "stream",
     "text": [
      "<class 'pandas.core.frame.DataFrame'>\n",
      "RangeIndex: 33706 entries, 0 to 33705\n",
      "Data columns (total 22 columns):\n",
      "borough                           33706 non-null int64\n",
      "neighborhood                      33706 non-null object\n",
      "building_class_category           33706 non-null object\n",
      "tax_class_at_present              33706 non-null object\n",
      "block                             33706 non-null int64\n",
      "lot                               33706 non-null int64\n",
      "ease-ment                         33706 non-null object\n",
      "building_class_at_present         33706 non-null object\n",
      "address                           33706 non-null object\n",
      "apartment_number                  33706 non-null object\n",
      "zip_code                          33706 non-null int64\n",
      "residential_units                 33706 non-null object\n",
      "commercial_units                  33706 non-null int64\n",
      "total_units                       33706 non-null object\n",
      "land_square_feet                  33706 non-null object\n",
      "gross_square_feet                 33706 non-null float64\n",
      "year_built                        33706 non-null int64\n",
      "tax_class_at_time_of_sale         33706 non-null int64\n",
      "building_class_at_time_of_sale    33706 non-null object\n",
      "sale_price                        33706 non-null int64\n",
      "sale_date                         33706 non-null object\n",
      "sale_price_clean                  20841 non-null float64\n",
      "dtypes: float64(2), int64(8), object(12)\n",
      "memory usage: 5.7+ MB\n"
     ]
    }
   ],
   "source": [
    "#Repeat the same steps for all tables\n",
    "brooklyn_03.info()"
   ]
  },
  {
   "cell_type": "code",
   "execution_count": 26,
   "metadata": {
    "collapsed": false,
    "scrolled": false
   },
   "outputs": [
    {
     "name": "stdout",
     "output_type": "stream",
     "text": [
      "0         NaN\n",
      "1    450000.0\n",
      "2         NaN\n",
      "3         NaN\n",
      "4         NaN\n",
      "Name: sale_price_clean, dtype: float64\n"
     ]
    }
   ],
   "source": [
    "print(brooklyn_03['sale_price_clean'].head())"
   ]
  },
  {
   "cell_type": "code",
   "execution_count": 27,
   "metadata": {
    "collapsed": false,
    "scrolled": false
   },
   "outputs": [],
   "source": [
    "brooklyn_16['gross_square_feet_c']=brooklyn_16['gross_square_feet'].replace('0',np.nan)"
   ]
  },
  {
   "cell_type": "code",
   "execution_count": 28,
   "metadata": {
    "collapsed": false,
    "scrolled": false
   },
   "outputs": [],
   "source": [
    "queens_16['gross_square_feet_c']=queens_16['gross_square_feet'].replace('0',np.nan)"
   ]
  },
  {
   "cell_type": "code",
   "execution_count": 29,
   "metadata": {
    "collapsed": false,
    "scrolled": false
   },
   "outputs": [],
   "source": [
    "brooklyn_03['gross_square_feet_c']=brooklyn_03['gross_square_feet'].replace('0',np.nan)"
   ]
  },
  {
   "cell_type": "code",
   "execution_count": 30,
   "metadata": {
    "collapsed": false,
    "scrolled": false
   },
   "outputs": [],
   "source": [
    "queens_03['gross_square_feet_c']=queens_03['gross_square_feet'].replace('0',np.nan)"
   ]
  },
  {
   "cell_type": "code",
   "execution_count": 31,
   "metadata": {
    "collapsed": false,
    "scrolled": false
   },
   "outputs": [
    {
     "data": {
      "text/plain": [
       "0    1224.0\n",
       "1    1224.0\n",
       "2    1224.0\n",
       "3    1224.0\n",
       "4    1224.0\n",
       "Name: gross_square_feet_c, dtype: float64"
      ]
     },
     "execution_count": 31,
     "metadata": {},
     "output_type": "execute_result"
    }
   ],
   "source": [
    "queens_03['gross_square_feet_c'].head()"
   ]
  },
  {
   "cell_type": "markdown",
   "metadata": {},
   "source": [
    "### Datetime\n",
    "Instead of being uploaded as a date time object, the sale date column in all tables were coded as objects.  These columns must be coded as datetime objects and the index must be reset to follow the new date time object.  "
   ]
  },
  {
   "cell_type": "code",
   "execution_count": 32,
   "metadata": {
    "collapsed": false,
    "scrolled": true
   },
   "outputs": [
    {
     "data": {
      "text/plain": [
       "0         5/25/2016\n",
       "1          4/5/2016\n",
       "2         10/6/2016\n",
       "3         6/21/2016\n",
       "4         3/31/2016\n",
       "5        10/24/2016\n",
       "6        10/31/2016\n",
       "7          2/4/2016\n",
       "8         2/10/2016\n",
       "9          2/7/2016\n",
       "10        7/11/2016\n",
       "11        2/10/2016\n",
       "12         2/3/2016\n",
       "13        7/25/2016\n",
       "14        2/23/2016\n",
       "15        9/23/2016\n",
       "16        5/13/2016\n",
       "17        3/22/2016\n",
       "18        3/22/2016\n",
       "19         8/2/2016\n",
       "20        9/20/2016\n",
       "21        7/23/2016\n",
       "22         8/1/2016\n",
       "23        4/29/2016\n",
       "24        4/15/2016\n",
       "25        3/14/2016\n",
       "26        7/20/2016\n",
       "27        3/30/2016\n",
       "28        10/6/2016\n",
       "29        3/22/2016\n",
       "            ...    \n",
       "25489      5/4/2016\n",
       "25490      5/4/2016\n",
       "25491    11/22/2016\n",
       "25492    11/10/2016\n",
       "25493     4/28/2016\n",
       "25494     6/16/2016\n",
       "25495     8/29/2016\n",
       "25496    11/30/2016\n",
       "25497     5/31/2016\n",
       "25498     4/15/2016\n",
       "25499     1/25/2016\n",
       "25500     7/21/2016\n",
       "25501      4/7/2016\n",
       "25502      7/8/2016\n",
       "25503     10/9/2016\n",
       "25504     3/18/2016\n",
       "25505    12/28/2016\n",
       "25506      1/8/2016\n",
       "25507     12/9/2016\n",
       "25508     8/25/2016\n",
       "25509    11/29/2016\n",
       "25510    10/24/2016\n",
       "25511     1/29/2016\n",
       "25512     3/24/2016\n",
       "25513     2/18/2016\n",
       "25514     5/17/2016\n",
       "25515     7/13/2016\n",
       "25516      3/1/2016\n",
       "25517      3/1/2016\n",
       "25518     1/25/2016\n",
       "Name: sale_date, dtype: object"
      ]
     },
     "execution_count": 32,
     "metadata": {},
     "output_type": "execute_result"
    }
   ],
   "source": [
    "brooklyn_16['sale_date'].astype(str)"
   ]
  },
  {
   "cell_type": "code",
   "execution_count": 33,
   "metadata": {
    "collapsed": false,
    "scrolled": true
   },
   "outputs": [
    {
     "data": {
      "text/plain": [
       "0          8/1/2003\n",
       "1         1/24/2003\n",
       "2         10/8/2003\n",
       "3          4/2/2003\n",
       "4          4/2/2003\n",
       "5          9/5/2003\n",
       "6         5/12/2003\n",
       "7         4/29/2003\n",
       "8         1/24/2003\n",
       "9         2/27/2003\n",
       "10        6/17/2003\n",
       "11         4/5/2003\n",
       "12         4/5/2003\n",
       "13         4/5/2003\n",
       "14         4/5/2003\n",
       "15        7/21/2003\n",
       "16        5/27/2003\n",
       "17        4/14/2003\n",
       "18       11/20/2003\n",
       "19        11/3/2003\n",
       "20        8/29/2003\n",
       "21        5/21/2003\n",
       "22         4/9/2003\n",
       "23        3/10/2003\n",
       "24        9/24/2003\n",
       "25        2/14/2003\n",
       "26        9/11/2003\n",
       "27        1/29/2003\n",
       "28         5/7/2003\n",
       "29         7/8/2003\n",
       "            ...    \n",
       "33676     1/28/2003\n",
       "33677      9/4/2003\n",
       "33678      6/3/2003\n",
       "33679    12/29/2003\n",
       "33680    12/29/2003\n",
       "33681     9/29/2003\n",
       "33682     3/10/2003\n",
       "33683     3/26/2003\n",
       "33684     9/26/2003\n",
       "33685     7/15/2003\n",
       "33686     7/23/2003\n",
       "33687     9/23/2003\n",
       "33688     1/31/2003\n",
       "33689    12/23/2003\n",
       "33690     8/29/2003\n",
       "33691     4/28/2003\n",
       "33692     4/28/2003\n",
       "33693     2/10/2003\n",
       "33694    10/27/2003\n",
       "33695    10/27/2003\n",
       "33696      8/4/2003\n",
       "33697    12/23/2003\n",
       "33698     8/29/2003\n",
       "33699    12/23/2003\n",
       "33700     8/29/2003\n",
       "33701    11/21/2003\n",
       "33702    12/29/2003\n",
       "33703     9/24/2003\n",
       "33704    12/29/2003\n",
       "33705     1/31/2003\n",
       "Name: sale_date, dtype: object"
      ]
     },
     "execution_count": 33,
     "metadata": {},
     "output_type": "execute_result"
    }
   ],
   "source": [
    "brooklyn_03['sale_date'].astype(str)"
   ]
  },
  {
   "cell_type": "code",
   "execution_count": 34,
   "metadata": {
    "collapsed": false,
    "scrolled": true
   },
   "outputs": [
    {
     "data": {
      "text/plain": [
       "0         1/14/2016\n",
       "1         7/26/2016\n",
       "2        11/18/2016\n",
       "3         6/13/2016\n",
       "4         4/14/2016\n",
       "5         8/15/2016\n",
       "6         4/15/2016\n",
       "7        11/15/2016\n",
       "8         2/29/2016\n",
       "9         8/18/2016\n",
       "10       10/27/2016\n",
       "11         2/8/2016\n",
       "12         4/4/2016\n",
       "13         5/4/2016\n",
       "14        1/19/2016\n",
       "15        9/22/2016\n",
       "16        5/13/2016\n",
       "17       10/14/2016\n",
       "18         3/2/2016\n",
       "19       12/12/2016\n",
       "20        7/26/2016\n",
       "21         2/2/2016\n",
       "22         6/7/2016\n",
       "23        12/9/2016\n",
       "24        4/13/2016\n",
       "25       11/17/2016\n",
       "26       12/14/2016\n",
       "27       10/28/2016\n",
       "28        4/13/2016\n",
       "29        8/31/2016\n",
       "            ...    \n",
       "27184     3/24/2016\n",
       "27185     3/24/2016\n",
       "27186     3/24/2016\n",
       "27187     3/24/2016\n",
       "27188     3/24/2016\n",
       "27189     3/24/2016\n",
       "27190     3/24/2016\n",
       "27191     3/24/2016\n",
       "27192     3/24/2016\n",
       "27193     3/24/2016\n",
       "27194     3/24/2016\n",
       "27195     3/24/2016\n",
       "27196     3/24/2016\n",
       "27197     3/24/2016\n",
       "27198     3/24/2016\n",
       "27199     3/24/2016\n",
       "27200     3/24/2016\n",
       "27201     3/24/2016\n",
       "27202     3/24/2016\n",
       "27203     3/24/2016\n",
       "27204     3/24/2016\n",
       "27205     3/24/2016\n",
       "27206     3/24/2016\n",
       "27207     3/24/2016\n",
       "27208     3/24/2016\n",
       "27209     3/24/2016\n",
       "27210     3/24/2016\n",
       "27211     3/24/2016\n",
       "27212     3/24/2016\n",
       "27213     3/24/2016\n",
       "Name: sale_date, dtype: object"
      ]
     },
     "execution_count": 34,
     "metadata": {},
     "output_type": "execute_result"
    }
   ],
   "source": [
    "queens_16['sale_date'].astype(str)"
   ]
  },
  {
   "cell_type": "code",
   "execution_count": 35,
   "metadata": {
    "collapsed": false,
    "scrolled": false
   },
   "outputs": [],
   "source": [
    "brooklyn_03['sale_date']= pd.to_datetime(brooklyn_03['sale_date'])"
   ]
  },
  {
   "cell_type": "code",
   "execution_count": 36,
   "metadata": {
    "collapsed": false,
    "scrolled": false
   },
   "outputs": [],
   "source": [
    "brooklyn_03['year']=brooklyn_03['sale_date'].dt.year"
   ]
  },
  {
   "cell_type": "code",
   "execution_count": 37,
   "metadata": {
    "collapsed": true,
    "scrolled": false
   },
   "outputs": [],
   "source": [
    "brooklyn_03['month']=brooklyn_03['sale_date'].dt.month"
   ]
  },
  {
   "cell_type": "code",
   "execution_count": 38,
   "metadata": {
    "collapsed": false,
    "scrolled": false
   },
   "outputs": [
    {
     "data": {
      "text/plain": [
       "0    2003\n",
       "1    2003\n",
       "2    2003\n",
       "3    2003\n",
       "4    2003\n",
       "Name: year, dtype: int64"
      ]
     },
     "execution_count": 38,
     "metadata": {},
     "output_type": "execute_result"
    }
   ],
   "source": [
    "brooklyn_03['year'].head()"
   ]
  },
  {
   "cell_type": "code",
   "execution_count": 39,
   "metadata": {
    "collapsed": false,
    "scrolled": false
   },
   "outputs": [],
   "source": [
    "queens_03['sale_date']=pd.to_datetime(queens_03['sale_date'])\n",
    "queens_03['year']=queens_03['sale_date'].dt.year\n",
    "queens_03['month']=queens_03['sale_date'].dt.month"
   ]
  },
  {
   "cell_type": "code",
   "execution_count": 40,
   "metadata": {
    "collapsed": true,
    "scrolled": false
   },
   "outputs": [],
   "source": [
    "queens_16['sale_date']= pd.to_datetime(queens_16['sale_date'])"
   ]
  },
  {
   "cell_type": "code",
   "execution_count": 41,
   "metadata": {
    "collapsed": true,
    "scrolled": false
   },
   "outputs": [],
   "source": [
    "queens_16['month']=queens_16['sale_date'].dt.month"
   ]
  },
  {
   "cell_type": "code",
   "execution_count": 42,
   "metadata": {
    "collapsed": false,
    "scrolled": false
   },
   "outputs": [],
   "source": [
    "queens_16['year']=queens_16['sale_date'].dt.year"
   ]
  },
  {
   "cell_type": "code",
   "execution_count": 43,
   "metadata": {
    "collapsed": false,
    "scrolled": false
   },
   "outputs": [],
   "source": [
    "brooklyn_16['sale_date']=pd.to_datetime(brooklyn_16['sale_date'])"
   ]
  },
  {
   "cell_type": "code",
   "execution_count": 44,
   "metadata": {
    "collapsed": true,
    "scrolled": false
   },
   "outputs": [],
   "source": [
    "brooklyn_16['month']=brooklyn_16['sale_date'].dt.month"
   ]
  },
  {
   "cell_type": "code",
   "execution_count": 45,
   "metadata": {
    "collapsed": true,
    "scrolled": false
   },
   "outputs": [],
   "source": [
    "brooklyn_16['year']=brooklyn_16['sale_date'].dt.year"
   ]
  },
  {
   "cell_type": "code",
   "execution_count": 46,
   "metadata": {
    "collapsed": false,
    "scrolled": false
   },
   "outputs": [],
   "source": [
    "queens_16.index=pd.to_datetime(queens_16['sale_date'])"
   ]
  },
  {
   "cell_type": "code",
   "execution_count": 47,
   "metadata": {
    "collapsed": true,
    "scrolled": false
   },
   "outputs": [],
   "source": [
    "brooklyn_16.index=pd.to_datetime(brooklyn_16['sale_date'])"
   ]
  },
  {
   "cell_type": "code",
   "execution_count": 48,
   "metadata": {
    "collapsed": false,
    "scrolled": false
   },
   "outputs": [
    {
     "name": "stdout",
     "output_type": "stream",
     "text": [
      "<class 'pandas.core.frame.DataFrame'>\n",
      "RangeIndex: 39177 entries, 0 to 39176\n",
      "Data columns (total 26 columns):\n",
      "borough                           39177 non-null int64\n",
      "neighborhood                      39177 non-null object\n",
      "building_class_category           39177 non-null object\n",
      "tax_class_at_present              39177 non-null object\n",
      "block                             39177 non-null int64\n",
      "lot                               39177 non-null int64\n",
      "ease-ment                         39177 non-null object\n",
      "building_class_at_present         39177 non-null object\n",
      "address                           39177 non-null object\n",
      "apartment_number                  39177 non-null object\n",
      "zip_code                          39177 non-null int64\n",
      "residential_units                 39177 non-null object\n",
      "commercial_units                  39177 non-null int64\n",
      "total_units                       39177 non-null object\n",
      "land_square_feet                  39177 non-null object\n",
      "gross_square_feet                 39177 non-null int64\n",
      "year_built                        39177 non-null int64\n",
      "tax_class_at_time_of_sale         39177 non-null int64\n",
      "building_class_at_time_of_sale    39177 non-null object\n",
      "sale_price                        39177 non-null int64\n",
      "sale_date                         39177 non-null datetime64[ns]\n",
      "sale_price_clean                  25965 non-null float64\n",
      "commerical_units                  39177 non-null int64\n",
      "gross_square_feet_c               29725 non-null float64\n",
      "year                              39177 non-null int64\n",
      "month                             39177 non-null int64\n",
      "dtypes: datetime64[ns](1), float64(2), int64(12), object(11)\n",
      "memory usage: 7.8+ MB\n"
     ]
    }
   ],
   "source": [
    "queens_03.info()"
   ]
  },
  {
   "cell_type": "markdown",
   "metadata": {},
   "source": [
    "Lastly, concatenating the two Queens and the two Brooklyn datasets will allow easier comparison between 2003 and 2016 in the same neighborhoods.  The concatenated datasets will be save to CSV files to enable further analysis"
   ]
  },
  {
   "cell_type": "code",
   "execution_count": 49,
   "metadata": {
    "collapsed": false,
    "scrolled": false
   },
   "outputs": [],
   "source": [
    "queens_clean=pd.concat([queens_03, queens_16], ignore_index=True)\n",
    "brooklyn_clean=pd.concat([brooklyn_03, brooklyn_16], ignore_index=True)"
   ]
  },
  {
   "cell_type": "code",
   "execution_count": 50,
   "metadata": {
    "collapsed": false,
    "scrolled": false
   },
   "outputs": [],
   "source": [
    "queens_clean.to_csv('queens_clean.csv')\n",
    "brooklyn_clean.to_csv('brooklyn_clean.csv')"
   ]
  },
  {
   "cell_type": "code",
   "execution_count": null,
   "metadata": {
    "collapsed": true
   },
   "outputs": [],
   "source": []
  }
 ],
 "metadata": {
  "anaconda-cloud": {},
  "kernelspec": {
   "display_name": "Python [Root]",
   "language": "python",
   "name": "Python [Root]"
  },
  "language_info": {
   "codemirror_mode": {
    "name": "ipython",
    "version": 3
   },
   "file_extension": ".py",
   "mimetype": "text/x-python",
   "name": "python",
   "nbconvert_exporter": "python",
   "pygments_lexer": "ipython3",
   "version": "3.5.2"
  }
 },
 "nbformat": 4,
 "nbformat_minor": 0
}
