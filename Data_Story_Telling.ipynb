{
 "cells": [
  {
   "cell_type": "markdown",
   "metadata": {},
   "source": [
    "## New York City Home Prices\n",
    "    I will be working with my Capstone dataset, the New York Ciry home prices datasets.  These dataset will be able to display changes in prices over time easily.  The dramatic rise in prices in some neighborhoods may be able show one reason for gentrification.  Gentrification, or the process of a neighborhood transforming in a more affluent and desirable location, causes many of the neighborhoods' older, minority and poorer inhabitants to move out.  \n",
    "    \n",
    "    Perhaps any predictions on prices can help defend some New York City inhabitants from gentrification.  "
   ]
  },
  {
   "cell_type": "code",
   "execution_count": 1,
   "metadata": {
    "collapsed": true
   },
   "outputs": [],
   "source": [
    "import pandas as pd\n",
    "import numpy as np\n",
    "import seaborn as sns\n",
    "import matplotlib.pyplot as plt"
   ]
  },
  {
   "cell_type": "code",
   "execution_count": 60,
   "metadata": {
    "collapsed": true
   },
   "outputs": [],
   "source": [
    "pd.set_option('float_format', '{:f}'.format)"
   ]
  },
  {
   "cell_type": "code",
   "execution_count": 61,
   "metadata": {
    "collapsed": false
   },
   "outputs": [],
   "source": [
    "queens=pd.read_csv('queens_clean.csv', low_memory=False)\n",
    "brooklyn=pd.read_csv('brooklyn_clean.csv', low_memory=False)"
   ]
  },
  {
   "cell_type": "code",
   "execution_count": 62,
   "metadata": {
    "collapsed": false
   },
   "outputs": [
    {
     "data": {
      "text/plain": [
       "(66391, 22)"
      ]
     },
     "execution_count": 62,
     "metadata": {},
     "output_type": "execute_result"
    }
   ],
   "source": [
    "queens.shape"
   ]
  },
  {
   "cell_type": "code",
   "execution_count": 63,
   "metadata": {
    "collapsed": false
   },
   "outputs": [
    {
     "data": {
      "text/plain": [
       "(59225, 22)"
      ]
     },
     "execution_count": 63,
     "metadata": {},
     "output_type": "execute_result"
    }
   ],
   "source": [
    "brooklyn.shape"
   ]
  },
  {
   "cell_type": "code",
   "execution_count": 64,
   "metadata": {
    "collapsed": false
   },
   "outputs": [
    {
     "data": {
      "text/plain": [
       "0   2003-10-16\n",
       "1   2003-06-17\n",
       "2   2003-05-06\n",
       "3   2003-07-07\n",
       "4   2003-10-03\n",
       "Name: SALE_DATE, dtype: datetime64[ns]"
      ]
     },
     "execution_count": 64,
     "metadata": {},
     "output_type": "execute_result"
    }
   ],
   "source": [
    "pd.to_datetime(queens['SALE_DATE']).head()"
   ]
  },
  {
   "cell_type": "code",
   "execution_count": 65,
   "metadata": {
    "collapsed": false
   },
   "outputs": [
    {
     "data": {
      "text/plain": [
       "0   2003-08-01\n",
       "1   2003-01-24\n",
       "2   2003-10-08\n",
       "3   2003-04-02\n",
       "4   2003-04-02\n",
       "Name: SALE_DATE, dtype: datetime64[ns]"
      ]
     },
     "execution_count": 65,
     "metadata": {},
     "output_type": "execute_result"
    }
   ],
   "source": [
    "pd.to_datetime(brooklyn['SALE_DATE']).head()"
   ]
  },
  {
   "cell_type": "code",
   "execution_count": 66,
   "metadata": {
    "collapsed": false
   },
   "outputs": [
    {
     "data": {
      "text/plain": [
       "0    BATH BEACH\n",
       "1    BATH BEACH\n",
       "2    BATH BEACH\n",
       "3    BATH BEACH\n",
       "4    BATH BEACH\n",
       "Name: NEIGHBORHOOD, dtype: category\n",
       "Categories (61, object): [BATH BEACH, BAY RIDGE, BEDFORD STUYVESANT, BENSONHURST, ..., WILLIAMSBURG-NORTH, WILLIAMSBURG-SOUTH, WINDSOR TERRACE, WYCKOFF HEIGHTS]"
      ]
     },
     "execution_count": 66,
     "metadata": {},
     "output_type": "execute_result"
    }
   ],
   "source": [
    "queens['NEIGHBORHOOD'].astype('category').head()\n",
    "brooklyn['NEIGHBORHOOD'].astype('category').head()"
   ]
  },
  {
   "cell_type": "code",
   "execution_count": 67,
   "metadata": {
    "collapsed": false
   },
   "outputs": [
    {
     "data": {
      "text/plain": [
       "0         0\n",
       "1    318000\n",
       "2       100\n",
       "3         0\n",
       "4    370000\n",
       "Name: SALE_PRICE, dtype: int32"
      ]
     },
     "execution_count": 67,
     "metadata": {},
     "output_type": "execute_result"
    }
   ],
   "source": [
    "queens['SALE_PRICE'].astype('int').head()"
   ]
  },
  {
   "cell_type": "code",
   "execution_count": 68,
   "metadata": {
    "collapsed": false
   },
   "outputs": [
    {
     "data": {
      "text/plain": [
       "0             nan\n",
       "1   318000.000000\n",
       "2      100.000000\n",
       "3             nan\n",
       "4   370000.000000\n",
       "Name: SALE_PRICE, dtype: float64"
      ]
     },
     "execution_count": 68,
     "metadata": {},
     "output_type": "execute_result"
    }
   ],
   "source": [
    "queens['SALE_PRICE'].replace('0', np.nan).head()"
   ]
  },
  {
   "cell_type": "code",
   "execution_count": 72,
   "metadata": {
    "collapsed": false
   },
   "outputs": [],
   "source": [
    "queens = queens[np.isfinite(queens['SALE_PRICE'])]"
   ]
  },
  {
   "cell_type": "code",
   "execution_count": 73,
   "metadata": {
    "collapsed": false
   },
   "outputs": [
    {
     "data": {
      "text/plain": [
       "count       66391.000000\n",
       "mean       353798.856321\n",
       "std       2129488.794829\n",
       "min             0.000000\n",
       "25%             0.000000\n",
       "50%        200664.000000\n",
       "75%        427000.000000\n",
       "max     257500000.000000\n",
       "Name: SALE_PRICE, dtype: float64"
      ]
     },
     "execution_count": 73,
     "metadata": {},
     "output_type": "execute_result"
    }
   ],
   "source": [
    "queens['SALE_PRICE'].describe()"
   ]
  },
  {
   "cell_type": "code",
   "execution_count": 74,
   "metadata": {
    "collapsed": false
   },
   "outputs": [
    {
     "name": "stdout",
     "output_type": "stream",
     "text": [
      "353798.8563208869\n"
     ]
    }
   ],
   "source": [
    "print(np.mean(queens['SALE_PRICE']))"
   ]
  },
  {
   "cell_type": "code",
   "execution_count": 75,
   "metadata": {
    "collapsed": false
   },
   "outputs": [
    {
     "name": "stdout",
     "output_type": "stream",
     "text": [
      "199089.9924937448\n"
     ]
    }
   ],
   "source": [
    "print(np.mean(queens['SALE_PRICE'].loc['01/01/2003': '12/31/2003']))"
   ]
  },
  {
   "cell_type": "code",
   "execution_count": 76,
   "metadata": {
    "collapsed": false
   },
   "outputs": [
    {
     "name": "stdout",
     "output_type": "stream",
     "text": [
      "199089.9924937448\n"
     ]
    }
   ],
   "source": [
    "print(np.mean(queens['SALE_PRICE'].loc['01/01/2016': '12/31/2016']))"
   ]
  },
  {
   "cell_type": "code",
   "execution_count": 9,
   "metadata": {
    "collapsed": false
   },
   "outputs": [
    {
     "data": {
      "text/plain": [
       "0    1224.0\n",
       "1    1224.0\n",
       "2    1224.0\n",
       "3    1224.0\n",
       "4    1224.0\n",
       "Name: GROSS_SQUARE_FEET, dtype: float64"
      ]
     },
     "execution_count": 9,
     "metadata": {},
     "output_type": "execute_result"
    }
   ],
   "source": [
    "queens['GROSS_SQUARE_FEET'].replace('0', np.nan).head()"
   ]
  },
  {
   "cell_type": "code",
   "execution_count": 34,
   "metadata": {
    "collapsed": false
   },
   "outputs": [
    {
     "data": {
      "text/plain": [
       "2420.743157958157"
      ]
     },
     "execution_count": 34,
     "metadata": {},
     "output_type": "execute_result"
    }
   ],
   "source": [
    "queens['GROSS_SQUARE_FEET'].mean()"
   ]
  },
  {
   "cell_type": "code",
   "execution_count": 35,
   "metadata": {
    "collapsed": false
   },
   "outputs": [],
   "source": [
    "plt.scatter(queens['SALE_PRICE'], queens['GROSS_SQUARE_FEET'])\n",
    "plt.xlabel('Sale Price')\n",
    "plt.ylabel('Gross Sq. Feet')\n",
    "plt.ticklabel_format(style='plain')\n",
    "plt.show()"
   ]
  },
  {
   "cell_type": "code",
   "execution_count": null,
   "metadata": {
    "collapsed": true
   },
   "outputs": [],
   "source": []
  }
 ],
 "metadata": {
  "anaconda-cloud": {},
  "kernelspec": {
   "display_name": "Python [Root]",
   "language": "python",
   "name": "Python [Root]"
  },
  "language_info": {
   "codemirror_mode": {
    "name": "ipython",
    "version": 3
   },
   "file_extension": ".py",
   "mimetype": "text/x-python",
   "name": "python",
   "nbconvert_exporter": "python",
   "pygments_lexer": "ipython3",
   "version": "3.5.2"
  }
 },
 "nbformat": 4,
 "nbformat_minor": 0
}
