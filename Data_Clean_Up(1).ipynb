{
 "cells": [
  {
   "cell_type": "code",
   "execution_count": 52,
   "metadata": {
    "collapsed": false
   },
   "outputs": [],
   "source": [
    "import pandas as pd\n",
    "import numpy as np"
   ]
  },
  {
   "cell_type": "markdown",
   "metadata": {},
   "source": [
    "# New York City Housing Values\n",
    "\n",
    "    Certain New York neighborhoods have been experiencing a dramatic rise in prices.  Homes in Williamsburg, Park Slope, Long Island City and Astoria that were once worth under a million dollars have seen their values in some cases triple.  Can it be possible to attain a fair price for a home and could current trends be used to predict future prices?\n",
    "    The City of New York tracks sales of all properties with prices, sale dates, address, zip codes and many other data points.  I will be using the spreadsheets for Queens and Brooklyn for the years 2003 and 2016.  Some neighborhoods in these boroughs, like Williamsburg and Long Island City, have become extremely desirable.   "
   ]
  },
  {
   "cell_type": "code",
   "execution_count": 3,
   "metadata": {
    "collapsed": false
   },
   "outputs": [],
   "source": [
    "queens_03 = pd.read_csv('C:\\\\Users\\\\Ryan May\\\\Desktop\\\\Springboard\\\\queens_sales_03.csv', low_memory=False, parse_dates=True)\n",
    "queens_16 = pd.read_csv('C:\\\\Users\\\\Ryan May\\\\Desktop\\\\Springboard\\\\queens_sales_16.csv', low_memory=False, parse_dates=True) \n",
    "brooklyn_16 = pd.read_csv('C:\\\\Users\\\\Ryan May\\\\Desktop\\\\Springboard\\\\brooklyn_sales_16.csv', low_memory=False, parse_dates=True)\n",
    "brooklyn_03 = pd.read_csv('C:\\\\Users\\\\Ryan May\\\\Desktop\\\\Springboard\\\\brooklyn_sales_03.csv', low_memory=False, parse_dates=True)"
   ]
  },
  {
   "cell_type": "code",
   "execution_count": 4,
   "metadata": {
    "collapsed": false
   },
   "outputs": [
    {
     "name": "stdout",
     "output_type": "stream",
     "text": [
      "(39177, 21)\n",
      "(27214, 21)\n",
      "(33706, 21)\n",
      "(25519, 21)\n"
     ]
    }
   ],
   "source": [
    "#Get general lay out of all tables\n",
    "print(queens_03.shape)\n",
    "print(queens_16.shape)\n",
    "print(brooklyn_03.shape)\n",
    "print(brooklyn_16.shape)"
   ]
  },
  {
   "cell_type": "code",
   "execution_count": 46,
   "metadata": {
    "collapsed": false
   },
   "outputs": [
    {
     "data": {
      "text/html": [
       "<div>\n",
       "<table border=\"1\" class=\"dataframe\">\n",
       "  <thead>\n",
       "    <tr style=\"text-align: right;\">\n",
       "      <th></th>\n",
       "      <th>BOROUGH</th>\n",
       "      <th>NEIGHBORHOOD</th>\n",
       "      <th>BUILDING_CLASS_CATEGORY</th>\n",
       "      <th>TAX_CLASS_AT_PRESENT</th>\n",
       "      <th>BLOCK</th>\n",
       "      <th>LOT</th>\n",
       "      <th>EASE-MENT</th>\n",
       "      <th>BUILDING_CLASS_AT_PRESENT</th>\n",
       "      <th>ADDRESS</th>\n",
       "      <th>APARTMENT_NUMBER</th>\n",
       "      <th>...</th>\n",
       "      <th>RESIDENTIAL_UNITS</th>\n",
       "      <th>COMMERCIAL_UNITS</th>\n",
       "      <th>TOTAL_UNITS</th>\n",
       "      <th>LAND_SQUARE_FEET</th>\n",
       "      <th>GROSS_SQUARE_FEET</th>\n",
       "      <th>YEAR_BUILT</th>\n",
       "      <th>TAX_CLASS_AT_TIME_OF_SALE</th>\n",
       "      <th>BUILDING_CLASS_AT_TIME_OF_SALE</th>\n",
       "      <th>SALE_PRICE</th>\n",
       "      <th>SALE_DATE</th>\n",
       "    </tr>\n",
       "    <tr>\n",
       "      <th>SALE_DATE</th>\n",
       "      <th></th>\n",
       "      <th></th>\n",
       "      <th></th>\n",
       "      <th></th>\n",
       "      <th></th>\n",
       "      <th></th>\n",
       "      <th></th>\n",
       "      <th></th>\n",
       "      <th></th>\n",
       "      <th></th>\n",
       "      <th></th>\n",
       "      <th></th>\n",
       "      <th></th>\n",
       "      <th></th>\n",
       "      <th></th>\n",
       "      <th></th>\n",
       "      <th></th>\n",
       "      <th></th>\n",
       "      <th></th>\n",
       "      <th></th>\n",
       "      <th></th>\n",
       "    </tr>\n",
       "  </thead>\n",
       "  <tbody>\n",
       "    <tr>\n",
       "      <th>2003-10-16</th>\n",
       "      <td>4</td>\n",
       "      <td>AIRPORT LA GUARDIA</td>\n",
       "      <td>01  ONE FAMILY HOMES</td>\n",
       "      <td>1</td>\n",
       "      <td>949</td>\n",
       "      <td>20</td>\n",
       "      <td></td>\n",
       "      <td>A5</td>\n",
       "      <td>1920 81 STREET</td>\n",
       "      <td></td>\n",
       "      <td>...</td>\n",
       "      <td>1</td>\n",
       "      <td>0</td>\n",
       "      <td>1</td>\n",
       "      <td>1,800</td>\n",
       "      <td>1,224</td>\n",
       "      <td>1945</td>\n",
       "      <td>1</td>\n",
       "      <td>A5</td>\n",
       "      <td>0</td>\n",
       "      <td>2003-10-16</td>\n",
       "    </tr>\n",
       "    <tr>\n",
       "      <th>2003-06-17</th>\n",
       "      <td>4</td>\n",
       "      <td>AIRPORT LA GUARDIA</td>\n",
       "      <td>01  ONE FAMILY HOMES</td>\n",
       "      <td>1</td>\n",
       "      <td>949</td>\n",
       "      <td>47</td>\n",
       "      <td></td>\n",
       "      <td>A5</td>\n",
       "      <td>1974 81 STREET</td>\n",
       "      <td></td>\n",
       "      <td>...</td>\n",
       "      <td>1</td>\n",
       "      <td>0</td>\n",
       "      <td>1</td>\n",
       "      <td>1,800</td>\n",
       "      <td>1,224</td>\n",
       "      <td>1945</td>\n",
       "      <td>1</td>\n",
       "      <td>A5</td>\n",
       "      <td>318000</td>\n",
       "      <td>2003-06-17</td>\n",
       "    </tr>\n",
       "    <tr>\n",
       "      <th>2003-05-06</th>\n",
       "      <td>4</td>\n",
       "      <td>AIRPORT LA GUARDIA</td>\n",
       "      <td>01  ONE FAMILY HOMES</td>\n",
       "      <td>1</td>\n",
       "      <td>949</td>\n",
       "      <td>47</td>\n",
       "      <td></td>\n",
       "      <td>A5</td>\n",
       "      <td>1974 81 STREET</td>\n",
       "      <td></td>\n",
       "      <td>...</td>\n",
       "      <td>1</td>\n",
       "      <td>0</td>\n",
       "      <td>1</td>\n",
       "      <td>1,800</td>\n",
       "      <td>1,224</td>\n",
       "      <td>1945</td>\n",
       "      <td>1</td>\n",
       "      <td>A5</td>\n",
       "      <td>100</td>\n",
       "      <td>2003-05-06</td>\n",
       "    </tr>\n",
       "    <tr>\n",
       "      <th>2003-07-07</th>\n",
       "      <td>4</td>\n",
       "      <td>AIRPORT LA GUARDIA</td>\n",
       "      <td>01  ONE FAMILY HOMES</td>\n",
       "      <td>1</td>\n",
       "      <td>976</td>\n",
       "      <td>23</td>\n",
       "      <td></td>\n",
       "      <td>A5</td>\n",
       "      <td>2136 81 STREET</td>\n",
       "      <td></td>\n",
       "      <td>...</td>\n",
       "      <td>1</td>\n",
       "      <td>0</td>\n",
       "      <td>1</td>\n",
       "      <td>1,800</td>\n",
       "      <td>1,224</td>\n",
       "      <td>1950</td>\n",
       "      <td>1</td>\n",
       "      <td>A5</td>\n",
       "      <td>0</td>\n",
       "      <td>2003-07-07</td>\n",
       "    </tr>\n",
       "    <tr>\n",
       "      <th>2003-10-03</th>\n",
       "      <td>4</td>\n",
       "      <td>AIRPORT LA GUARDIA</td>\n",
       "      <td>01  ONE FAMILY HOMES</td>\n",
       "      <td>1</td>\n",
       "      <td>976</td>\n",
       "      <td>33</td>\n",
       "      <td></td>\n",
       "      <td>A5</td>\n",
       "      <td>2156 81 STREET</td>\n",
       "      <td></td>\n",
       "      <td>...</td>\n",
       "      <td>1</td>\n",
       "      <td>0</td>\n",
       "      <td>1</td>\n",
       "      <td>1,800</td>\n",
       "      <td>1,224</td>\n",
       "      <td>1950</td>\n",
       "      <td>1</td>\n",
       "      <td>A5</td>\n",
       "      <td>370000</td>\n",
       "      <td>2003-10-03</td>\n",
       "    </tr>\n",
       "  </tbody>\n",
       "</table>\n",
       "<p>5 rows × 21 columns</p>\n",
       "</div>"
      ],
      "text/plain": [
       "            BOROUGH               NEIGHBORHOOD  \\\n",
       "SALE_DATE                                        \n",
       "2003-10-16        4  AIRPORT LA GUARDIA          \n",
       "2003-06-17        4  AIRPORT LA GUARDIA          \n",
       "2003-05-06        4  AIRPORT LA GUARDIA          \n",
       "2003-07-07        4  AIRPORT LA GUARDIA          \n",
       "2003-10-03        4  AIRPORT LA GUARDIA          \n",
       "\n",
       "                                 BUILDING_CLASS_CATEGORY TAX_CLASS_AT_PRESENT  \\\n",
       "SALE_DATE                                                                       \n",
       "2003-10-16  01  ONE FAMILY HOMES                                            1   \n",
       "2003-06-17  01  ONE FAMILY HOMES                                            1   \n",
       "2003-05-06  01  ONE FAMILY HOMES                                            1   \n",
       "2003-07-07  01  ONE FAMILY HOMES                                            1   \n",
       "2003-10-03  01  ONE FAMILY HOMES                                            1   \n",
       "\n",
       "            BLOCK  LOT EASE-MENT BUILDING_CLASS_AT_PRESENT  \\\n",
       "SALE_DATE                                                    \n",
       "2003-10-16    949   20                                  A5   \n",
       "2003-06-17    949   47                                  A5   \n",
       "2003-05-06    949   47                                  A5   \n",
       "2003-07-07    976   23                                  A5   \n",
       "2003-10-03    976   33                                  A5   \n",
       "\n",
       "                                                ADDRESS APARTMENT_NUMBER  \\\n",
       "SALE_DATE                                                                  \n",
       "2003-10-16   1920 81 STREET                                                \n",
       "2003-06-17   1974 81 STREET                                                \n",
       "2003-05-06   1974 81 STREET                                                \n",
       "2003-07-07   2136 81 STREET                                                \n",
       "2003-10-03   2156 81 STREET                                                \n",
       "\n",
       "              ...      RESIDENTIAL_UNITS COMMERCIAL_UNITS  TOTAL_UNITS  \\\n",
       "SALE_DATE     ...                                                        \n",
       "2003-10-16    ...                      1                0            1   \n",
       "2003-06-17    ...                      1                0            1   \n",
       "2003-05-06    ...                      1                0            1   \n",
       "2003-07-07    ...                      1                0            1   \n",
       "2003-10-03    ...                      1                0            1   \n",
       "\n",
       "           LAND_SQUARE_FEET GROSS_SQUARE_FEET YEAR_BUILT  \\\n",
       "SALE_DATE                                                  \n",
       "2003-10-16            1,800             1,224       1945   \n",
       "2003-06-17            1,800             1,224       1945   \n",
       "2003-05-06            1,800             1,224       1945   \n",
       "2003-07-07            1,800             1,224       1950   \n",
       "2003-10-03            1,800             1,224       1950   \n",
       "\n",
       "            TAX_CLASS_AT_TIME_OF_SALE  BUILDING_CLASS_AT_TIME_OF_SALE  \\\n",
       "SALE_DATE                                                               \n",
       "2003-10-16                          1                             A5    \n",
       "2003-06-17                          1                             A5    \n",
       "2003-05-06                          1                             A5    \n",
       "2003-07-07                          1                             A5    \n",
       "2003-10-03                          1                             A5    \n",
       "\n",
       "           SALE_PRICE  SALE_DATE  \n",
       "SALE_DATE                         \n",
       "2003-10-16          0 2003-10-16  \n",
       "2003-06-17     318000 2003-06-17  \n",
       "2003-05-06        100 2003-05-06  \n",
       "2003-07-07          0 2003-07-07  \n",
       "2003-10-03     370000 2003-10-03  \n",
       "\n",
       "[5 rows x 21 columns]"
      ]
     },
     "execution_count": 46,
     "metadata": {},
     "output_type": "execute_result"
    }
   ],
   "source": [
    "queens_03.head()"
   ]
  },
  {
   "cell_type": "markdown",
   "metadata": {},
   "source": [
    "Each row in the dataset is one sale of a home during the given year.  Each column is a variable for a given variable.  The most important variables for my analysis are sale price, sale date and neighborhood.   "
   ]
  },
  {
   "cell_type": "code",
   "execution_count": 6,
   "metadata": {
    "collapsed": false
   },
   "outputs": [
    {
     "data": {
      "text/plain": [
       "count    3.917700e+04\n",
       "mean     2.351176e+05\n",
       "std      5.555295e+05\n",
       "min      0.000000e+00\n",
       "25%      0.000000e+00\n",
       "50%      1.609600e+05\n",
       "75%      3.600000e+05\n",
       "max      4.690000e+07\n",
       "Name: SALE PRICE, dtype: float64"
      ]
     },
     "execution_count": 6,
     "metadata": {},
     "output_type": "execute_result"
    }
   ],
   "source": [
    "queens_03['SALE PRICE'].describe()"
   ]
  },
  {
   "cell_type": "code",
   "execution_count": 7,
   "metadata": {
    "collapsed": false
   },
   "outputs": [
    {
     "data": {
      "text/plain": [
       "pandas.core.series.Series"
      ]
     },
     "execution_count": 7,
     "metadata": {},
     "output_type": "execute_result"
    }
   ],
   "source": [
    "type(queens_03['SALE PRICE'])\n",
    "queens_03['SALE PRICE'].astype(str).astype(int)\n",
    "type(queens_03['SALE PRICE'])"
   ]
  },
  {
   "cell_type": "code",
   "execution_count": 8,
   "metadata": {
    "collapsed": false
   },
   "outputs": [
    {
     "name": "stdout",
     "output_type": "stream",
     "text": [
      "<class 'pandas.core.frame.DataFrame'>\n",
      "RangeIndex: 39177 entries, 0 to 39176\n",
      "Data columns (total 21 columns):\n",
      "BOROUGH                           39177 non-null int64\n",
      "NEIGHBORHOOD                      39177 non-null object\n",
      "BUILDING CLASS CATEGORY           39177 non-null object\n",
      "TAX CLASS AT PRESENT              39177 non-null object\n",
      "BLOCK                             39177 non-null int64\n",
      "LOT                               39177 non-null int64\n",
      "EASE-MENT                         39177 non-null object\n",
      "BUILDING CLASS AT PRESENT         39177 non-null object\n",
      "ADDRESS                           39177 non-null object\n",
      "APARTMENT NUMBER                  39177 non-null object\n",
      "ZIP CODE                          39177 non-null int64\n",
      "RESIDENTIAL UNITS                 39177 non-null object\n",
      "COMMERCIAL UNITS                  39177 non-null int64\n",
      "TOTAL UNITS                       39177 non-null object\n",
      "LAND SQUARE FEET                  39177 non-null object\n",
      "GROSS SQUARE FEET                 39177 non-null object\n",
      "YEAR BUILT                        39177 non-null int64\n",
      "TAX CLASS AT TIME OF SALE         39177 non-null int64\n",
      "BUILDING CLASS AT TIME OF SALE    39177 non-null object\n",
      "SALE PRICE                        39177 non-null int64\n",
      "SALE DATE                         39177 non-null object\n",
      "dtypes: int64(8), object(13)\n",
      "memory usage: 6.3+ MB\n"
     ]
    }
   ],
   "source": [
    "queens_03.info()"
   ]
  },
  {
   "cell_type": "code",
   "execution_count": 9,
   "metadata": {
    "collapsed": false
   },
   "outputs": [
    {
     "data": {
      "text/plain": [
       "count    3.917700e+04\n",
       "mean     2.351176e+05\n",
       "std      5.555295e+05\n",
       "min      0.000000e+00\n",
       "25%      0.000000e+00\n",
       "50%      1.609600e+05\n",
       "75%      3.600000e+05\n",
       "max      4.690000e+07\n",
       "Name: SALE PRICE, dtype: float64"
      ]
     },
     "execution_count": 9,
     "metadata": {},
     "output_type": "execute_result"
    }
   ],
   "source": [
    "queens_03['SALE PRICE'].describe()"
   ]
  },
  {
   "cell_type": "markdown",
   "metadata": {},
   "source": [
    "### NaN Values\n",
    "\n",
    "One of the most glaring problems was that the houses with no sale price are listed with ‘0’.  This is a problem because this would drag the average sale price down artificially.  For each dataset, I ran the below code to replace all ‘0’ in the Sale Price column with NaN values.\n",
    "\n",
    "I also want to confirm that the Sale Price Columns are integers and not strings or objects, so I will recode them as such.  \n"
   ]
  },
  {
   "cell_type": "code",
   "execution_count": 10,
   "metadata": {
    "collapsed": false
   },
   "outputs": [
    {
     "data": {
      "text/plain": [
       "0              NaN\n",
       "1         318000.0\n",
       "2            100.0\n",
       "3              NaN\n",
       "4         370000.0\n",
       "5              NaN\n",
       "6         450000.0\n",
       "7              NaN\n",
       "8         605000.0\n",
       "9         510000.0\n",
       "10             NaN\n",
       "11             NaN\n",
       "12        167000.0\n",
       "13        136890.0\n",
       "14             NaN\n",
       "15             NaN\n",
       "16             NaN\n",
       "17             NaN\n",
       "18             NaN\n",
       "19             NaN\n",
       "20        245843.0\n",
       "21        245843.0\n",
       "22        257266.0\n",
       "23        257266.0\n",
       "24        257266.0\n",
       "25        160000.0\n",
       "26         60000.0\n",
       "27        350000.0\n",
       "28        135000.0\n",
       "29        233200.0\n",
       "           ...    \n",
       "39147          NaN\n",
       "39148          NaN\n",
       "39149          NaN\n",
       "39150          1.0\n",
       "39151          NaN\n",
       "39152          NaN\n",
       "39153    1270000.0\n",
       "39154          NaN\n",
       "39155    1862000.0\n",
       "39156     900000.0\n",
       "39157     705000.0\n",
       "39158          NaN\n",
       "39159          NaN\n",
       "39160          NaN\n",
       "39161    2575000.0\n",
       "39162     685000.0\n",
       "39163          NaN\n",
       "39164     120500.0\n",
       "39165    1560000.0\n",
       "39166    1560000.0\n",
       "39167    1560000.0\n",
       "39168          NaN\n",
       "39169     170000.0\n",
       "39170          NaN\n",
       "39171     365000.0\n",
       "39172     765000.0\n",
       "39173          NaN\n",
       "39174          NaN\n",
       "39175          NaN\n",
       "39176          NaN\n",
       "Name: SALE PRICE, dtype: float64"
      ]
     },
     "execution_count": 10,
     "metadata": {},
     "output_type": "execute_result"
    }
   ],
   "source": [
    "queens_03['SALE PRICE'].replace('0', np.nan)"
   ]
  },
  {
   "cell_type": "code",
   "execution_count": 11,
   "metadata": {
    "collapsed": false
   },
   "outputs": [
    {
     "data": {
      "text/plain": [
       "pandas.core.series.Series"
      ]
     },
     "execution_count": 11,
     "metadata": {},
     "output_type": "execute_result"
    }
   ],
   "source": [
    "type(brooklyn_03['SALE PRICE'])"
   ]
  },
  {
   "cell_type": "code",
   "execution_count": 12,
   "metadata": {
    "collapsed": false
   },
   "outputs": [
    {
     "name": "stdout",
     "output_type": "stream",
     "text": [
      "<class 'pandas.core.frame.DataFrame'>\n",
      "RangeIndex: 33706 entries, 0 to 33705\n",
      "Data columns (total 21 columns):\n",
      "BOROUGH                           33706 non-null int64\n",
      "NEIGHBORHOOD                      33706 non-null object\n",
      "BUILDING CLASS CATEGORY           33706 non-null object\n",
      "TAX CLASS AT PRESENT              33706 non-null object\n",
      "BLOCK                             33706 non-null int64\n",
      "LOT                               33706 non-null int64\n",
      "EASE-MENT                         33706 non-null object\n",
      "BUILDING CLASS AT PRESENT         33706 non-null object\n",
      "ADDRESS                           33706 non-null object\n",
      "APARTMENT NUMBER                  33706 non-null object\n",
      "ZIP CODE                          33706 non-null int64\n",
      "RESIDENTIAL UNITS                 33706 non-null object\n",
      "COMMERCIAL UNITS                  33706 non-null int64\n",
      "TOTAL UNITS                       33706 non-null object\n",
      "LAND SQUARE FEET                  33706 non-null object\n",
      "GROSS SQUARE FEET                 33706 non-null object\n",
      "YEAR BUILT                        33706 non-null int64\n",
      "TAX CLASS AT TIME OF SALE         33706 non-null int64\n",
      "BUILDING CLASS AT TIME OF SALE    33706 non-null object\n",
      "SALE PRICE                        33706 non-null int64\n",
      "SALE DATE                         33706 non-null object\n",
      "dtypes: int64(8), object(13)\n",
      "memory usage: 5.4+ MB\n"
     ]
    }
   ],
   "source": [
    "#Repeat the same steps for all tables\n",
    "brooklyn_03.info()"
   ]
  },
  {
   "cell_type": "code",
   "execution_count": 13,
   "metadata": {
    "collapsed": false
   },
   "outputs": [
    {
     "name": "stdout",
     "output_type": "stream",
     "text": [
      "0         0\n",
      "1    450000\n",
      "2         0\n",
      "3         0\n",
      "4         0\n",
      "Name: SALE PRICE, dtype: int64\n"
     ]
    }
   ],
   "source": [
    "print(brooklyn_03['SALE PRICE'].head())"
   ]
  },
  {
   "cell_type": "code",
   "execution_count": 14,
   "metadata": {
    "collapsed": false
   },
   "outputs": [
    {
     "data": {
      "text/plain": [
       "0              NaN\n",
       "1         450000.0\n",
       "2              NaN\n",
       "3              NaN\n",
       "4              NaN\n",
       "5              NaN\n",
       "6              NaN\n",
       "7              NaN\n",
       "8         570000.0\n",
       "9         320000.0\n",
       "10        427500.0\n",
       "11             NaN\n",
       "12             NaN\n",
       "13             NaN\n",
       "14             NaN\n",
       "15        355000.0\n",
       "16             NaN\n",
       "17             NaN\n",
       "18       3307131.0\n",
       "19             NaN\n",
       "20             NaN\n",
       "21        365000.0\n",
       "22        775000.0\n",
       "23        500000.0\n",
       "24        385000.0\n",
       "25        450000.0\n",
       "26        405000.0\n",
       "27        360000.0\n",
       "28             NaN\n",
       "29        407000.0\n",
       "           ...    \n",
       "33676      28620.0\n",
       "33677     300000.0\n",
       "33678     715000.0\n",
       "33679          NaN\n",
       "33680     101524.0\n",
       "33681     258000.0\n",
       "33682          NaN\n",
       "33683    4000000.0\n",
       "33684    1085000.0\n",
       "33685     330000.0\n",
       "33686     585000.0\n",
       "33687    1475000.0\n",
       "33688     675000.0\n",
       "33689          NaN\n",
       "33690      33600.0\n",
       "33691     425000.0\n",
       "33692     425000.0\n",
       "33693       5000.0\n",
       "33694     300000.0\n",
       "33695     490000.0\n",
       "33696     102000.0\n",
       "33697          NaN\n",
       "33698     254400.0\n",
       "33699          NaN\n",
       "33700     192000.0\n",
       "33701          NaN\n",
       "33702     225000.0\n",
       "33703     200000.0\n",
       "33704     225000.0\n",
       "33705     487500.0\n",
       "Name: SALE PRICE, dtype: float64"
      ]
     },
     "execution_count": 14,
     "metadata": {},
     "output_type": "execute_result"
    }
   ],
   "source": [
    "brooklyn_03['SALE PRICE'].replace('0', np.nan)"
   ]
  },
  {
   "cell_type": "code",
   "execution_count": 15,
   "metadata": {
    "collapsed": false
   },
   "outputs": [
    {
     "data": {
      "text/plain": [
       "count    3.370600e+04\n",
       "mean     2.563889e+05\n",
       "std      6.683354e+05\n",
       "min      0.000000e+00\n",
       "25%      0.000000e+00\n",
       "50%      1.550000e+05\n",
       "75%      3.680000e+05\n",
       "max      5.928000e+07\n",
       "Name: SALE PRICE, dtype: float64"
      ]
     },
     "execution_count": 15,
     "metadata": {},
     "output_type": "execute_result"
    }
   ],
   "source": [
    "brooklyn_03['SALE PRICE'].describe()"
   ]
  },
  {
   "cell_type": "code",
   "execution_count": 16,
   "metadata": {
    "collapsed": false
   },
   "outputs": [
    {
     "name": "stdout",
     "output_type": "stream",
     "text": [
      "<class 'pandas.core.frame.DataFrame'>\n",
      "RangeIndex: 27214 entries, 0 to 27213\n",
      "Data columns (total 21 columns):\n",
      "BOROUGH\n",
      "                           27214 non-null int64\n",
      "NEIGHBORHOOD\n",
      "                      27214 non-null object\n",
      "BUILDING CLASS CATEGORY\n",
      "           27214 non-null object\n",
      "TAX CLASS AT PRESENT\n",
      "              27214 non-null object\n",
      "BLOCK\n",
      "                             27214 non-null int64\n",
      "LOT\n",
      "                               27214 non-null int64\n",
      "EASE-MENT\n",
      "                         27214 non-null object\n",
      "BUILDING CLASS AT PRESENT\n",
      "         27214 non-null object\n",
      "ADDRESS\n",
      "                           27214 non-null object\n",
      "APARTMENT NUMBER\n",
      "                  27214 non-null object\n",
      "ZIP CODE\n",
      "                          27214 non-null int64\n",
      "RESIDENTIAL UNITS\n",
      "                 27214 non-null object\n",
      "COMMERCIAL UNITS\n",
      "                  27214 non-null object\n",
      "TOTAL UNITS\n",
      "                       27214 non-null object\n",
      "LAND SQUARE FEET\n",
      "                  27214 non-null object\n",
      "GROSS SQUARE FEET\n",
      "                 27214 non-null object\n",
      "YEAR BUILT\n",
      "                        27214 non-null int64\n",
      "TAX CLASS AT TIME OF SALE\n",
      "         27214 non-null int64\n",
      "BUILDING CLASS AT TIME OF SALE\n",
      "    27214 non-null object\n",
      "SALE PRICE\n",
      "                        27214 non-null object\n",
      "SALE DATE\n",
      "                         27214 non-null object\n",
      "dtypes: int64(6), object(15)\n",
      "memory usage: 4.4+ MB\n"
     ]
    }
   ],
   "source": [
    "queens_16.info()"
   ]
  },
  {
   "cell_type": "markdown",
   "metadata": {},
   "source": [
    "### Problems With Column Names   \n",
    "   When exploratory data analysis was tried was the column names in the 2016 datasets had problems.  All the column names had ‘\\n’ added to the end of the column name.  While this is not necessarily a catastrophic development, it can be confusing when trying run analysis on multiple datasets.\n",
    "    The spaces between the two words in the column names should be replaced with an underscore.  This will make it easier to confirm that the reader knows when the columns are being used."
   ]
  },
  {
   "cell_type": "code",
   "execution_count": 17,
   "metadata": {
    "collapsed": false
   },
   "outputs": [
    {
     "data": {
      "text/plain": [
       "Index(['BOROUGH\\n', 'NEIGHBORHOOD\\n', 'BUILDING CLASS CATEGORY\\n',\n",
       "       'TAX CLASS AT PRESENT\\n', 'BLOCK\\n', 'LOT\\n', 'EASE-MENT\\n',\n",
       "       'BUILDING CLASS AT PRESENT\\n', 'ADDRESS\\n', 'APARTMENT NUMBER\\n',\n",
       "       'ZIP CODE\\n', 'RESIDENTIAL UNITS\\n', 'COMMERCIAL UNITS\\n',\n",
       "       'TOTAL UNITS\\n', 'LAND SQUARE FEET\\n', 'GROSS SQUARE FEET\\n',\n",
       "       'YEAR BUILT\\n', 'TAX CLASS AT TIME OF SALE\\n',\n",
       "       'BUILDING CLASS AT TIME OF SALE\\n', 'SALE PRICE\\n', 'SALE DATE\\n'],\n",
       "      dtype='object')"
      ]
     },
     "execution_count": 17,
     "metadata": {},
     "output_type": "execute_result"
    }
   ],
   "source": [
    "queens_16.columns"
   ]
  },
  {
   "cell_type": "code",
   "execution_count": 21,
   "metadata": {
    "collapsed": false
   },
   "outputs": [
    {
     "data": {
      "text/plain": [
       "Index(['BOROUGH\\n', 'NEIGHBORHOOD\\n', 'BUILDING CLASS CATEGORY\\n',\n",
       "       'TAX CLASS AT PRESENT\\n', 'BLOCK\\n', 'LOT\\n', 'EASE-MENT\\n',\n",
       "       'BUILDING CLASS AT PRESENT\\n', 'ADDRESS\\n', 'APARTMENT NUMBER\\n',\n",
       "       'ZIP CODE\\n', 'RESIDENTIAL UNITS\\n', 'COMMERCIAL UNITS\\n',\n",
       "       'TOTAL UNITS\\n', 'LAND SQUARE FEET\\n', 'GROSS SQUARE FEET\\n',\n",
       "       'YEAR BUILT\\n', 'TAX CLASS AT TIME OF SALE\\n',\n",
       "       'BUILDING CLASS AT TIME OF SALE\\n', 'SALE PRICE', 'SALE DATE\\n'],\n",
       "      dtype='object')"
      ]
     },
     "execution_count": 21,
     "metadata": {},
     "output_type": "execute_result"
    }
   ],
   "source": [
    "queens_16.columns"
   ]
  },
  {
   "cell_type": "code",
   "execution_count": 22,
   "metadata": {
    "collapsed": false
   },
   "outputs": [],
   "source": [
    "queens_16.columns=queens_16.columns.str.replace('\\n', '')"
   ]
  },
  {
   "cell_type": "code",
   "execution_count": 23,
   "metadata": {
    "collapsed": false
   },
   "outputs": [
    {
     "data": {
      "text/plain": [
       "Index(['BOROUGH', 'NEIGHBORHOOD', 'BUILDING CLASS CATEGORY',\n",
       "       'TAX CLASS AT PRESENT', 'BLOCK', 'LOT', 'EASE-MENT',\n",
       "       'BUILDING CLASS AT PRESENT', 'ADDRESS', 'APARTMENT NUMBER', 'ZIP CODE',\n",
       "       'RESIDENTIAL UNITS', 'COMMERCIAL UNITS', 'TOTAL UNITS',\n",
       "       'LAND SQUARE FEET', 'GROSS SQUARE FEET', 'YEAR BUILT',\n",
       "       'TAX CLASS AT TIME OF SALE', 'BUILDING CLASS AT TIME OF SALE',\n",
       "       'SALE PRICE', 'SALE DATE'],\n",
       "      dtype='object')"
      ]
     },
     "execution_count": 23,
     "metadata": {},
     "output_type": "execute_result"
    }
   ],
   "source": [
    "queens_16.columns"
   ]
  },
  {
   "cell_type": "code",
   "execution_count": 24,
   "metadata": {
    "collapsed": false
   },
   "outputs": [
    {
     "data": {
      "text/plain": [
       "Index(['BOROUGH\\n', 'NEIGHBORHOOD\\n', 'BUILDING CLASS CATEGORY\\n',\n",
       "       'TAX CLASS AT PRESENT\\n', 'BLOCK\\n', 'LOT\\n', 'EASE-MENT\\n',\n",
       "       'BUILDING CLASS AT PRESENT\\n', 'ADDRESS\\n', 'APARTMENT NUMBER\\n',\n",
       "       'ZIP CODE\\n', 'RESIDENTIAL UNITS\\n', 'COMMERCIAL UNITS\\n',\n",
       "       'TOTAL UNITS\\n', 'LAND SQUARE FEET\\n', 'GROSS SQUARE FEET\\n',\n",
       "       'YEAR BUILT\\n', 'TAX CLASS AT TIME OF SALE\\n',\n",
       "       'BUILDING CLASS AT TIME OF SALE\\n', 'SALE PRICE\\n', 'SALE DATE\\n'],\n",
       "      dtype='object')"
      ]
     },
     "execution_count": 24,
     "metadata": {},
     "output_type": "execute_result"
    }
   ],
   "source": [
    "brooklyn_16.columns"
   ]
  },
  {
   "cell_type": "code",
   "execution_count": 25,
   "metadata": {
    "collapsed": true
   },
   "outputs": [],
   "source": [
    "brooklyn_16.columns=brooklyn_16.columns.str.replace('\\n', '')"
   ]
  },
  {
   "cell_type": "code",
   "execution_count": 23,
   "metadata": {
    "collapsed": false
   },
   "outputs": [
    {
     "data": {
      "text/plain": [
       "Index(['BOROUGH', 'NEIGHBORHOOD', 'BUILDING CLASS CATEGORY',\n",
       "       'TAX CLASS AT PRESENT', 'BLOCK', 'LOT', 'EASE-MENT',\n",
       "       'BUILDING CLASS AT PRESENT', 'ADDRESS', 'APARTMENT NUMBER', 'ZIP CODE',\n",
       "       'RESIDENTIAL UNITS', 'COMMERCIAL UNITS', 'TOTAL UNITS',\n",
       "       'LAND SQUARE FEET', 'GROSS SQUARE FEET', 'YEAR BUILT',\n",
       "       'TAX CLASS AT TIME OF SALE', 'BUILDING CLASS AT TIME OF SALE',\n",
       "       'SALE PRICE', 'SALE DATE'],\n",
       "      dtype='object')"
      ]
     },
     "execution_count": 23,
     "metadata": {},
     "output_type": "execute_result"
    }
   ],
   "source": [
    "brooklyn_16.columns"
   ]
  },
  {
   "cell_type": "code",
   "execution_count": 26,
   "metadata": {
    "collapsed": false
   },
   "outputs": [],
   "source": [
    "queens_16.columns=queens_16.columns.str.replace(' ', '_')\n",
    "queens_03.columns=queens_03.columns.str.replace(' ', '_')\n",
    "brooklyn_16.columns=brooklyn_16.columns.str.replace(' ', '_')\n",
    "brooklyn_03.columns=brooklyn_03.columns.str.replace(' ', '_')"
   ]
  },
  {
   "cell_type": "code",
   "execution_count": 44,
   "metadata": {
    "collapsed": false
   },
   "outputs": [
    {
     "data": {
      "text/plain": [
       "Index(['BOROUGH', 'NEIGHBORHOOD', 'BUILDING_CLASS_CATEGORY',\n",
       "       'TAX_CLASS_AT_PRESENT', 'BLOCK', 'LOT', 'EASE-MENT',\n",
       "       'BUILDING_CLASS_AT_PRESENT', 'ADDRESS', 'APARTMENT_NUMBER', 'ZIP_CODE',\n",
       "       'RESIDENTIAL_UNITS', 'COMMERCIAL_UNITS', 'TOTAL_UNITS',\n",
       "       'LAND_SQUARE_FEET', 'GROSS_SQUARE_FEET', 'YEAR_BUILT',\n",
       "       'TAX_CLASS_AT_TIME_OF_SALE', 'BUILDING_CLASS_AT_TIME_OF_SALE',\n",
       "       'SALE_PRICE', 'SALE_DATE'],\n",
       "      dtype='object')"
      ]
     },
     "execution_count": 44,
     "metadata": {},
     "output_type": "execute_result"
    }
   ],
   "source": [
    "queens_03.columns"
   ]
  },
  {
   "cell_type": "markdown",
   "metadata": {},
   "source": [
    "### Datetime\n",
    "Instead of being uploaded as a date time object, the sale date column in all tables were coded as objects.  These columns must be coded as datetime objects and the index must be reset to follow the new date time object.  "
   ]
  },
  {
   "cell_type": "code",
   "execution_count": 30,
   "metadata": {
    "collapsed": false
   },
   "outputs": [],
   "source": [
    "queens_03['SALE_DATE']= pd.to_datetime(queens_03['SALE_DATE'])"
   ]
  },
  {
   "cell_type": "code",
   "execution_count": 31,
   "metadata": {
    "collapsed": false
   },
   "outputs": [],
   "source": [
    "brooklyn_03['SALE_DATE']= pd.to_datetime(brooklyn_03['SALE_DATE'])"
   ]
  },
  {
   "cell_type": "code",
   "execution_count": 32,
   "metadata": {
    "collapsed": true
   },
   "outputs": [],
   "source": [
    "queens_16['SALE_DATE']= pd.to_datetime(queens_16['SALE_DATE'])"
   ]
  },
  {
   "cell_type": "code",
   "execution_count": 33,
   "metadata": {
    "collapsed": false
   },
   "outputs": [],
   "source": [
    "brooklyn_16['SALE_DATE']=pd.to_datetime(brooklyn_16['SALE_DATE'])"
   ]
  },
  {
   "cell_type": "code",
   "execution_count": 34,
   "metadata": {
    "collapsed": true
   },
   "outputs": [],
   "source": [
    "queens_03.index=pd.to_datetime(queens_03['SALE_DATE'])"
   ]
  },
  {
   "cell_type": "code",
   "execution_count": 35,
   "metadata": {
    "collapsed": false
   },
   "outputs": [],
   "source": [
    "queens_16.index=pd.to_datetime(queens_16['SALE_DATE'])"
   ]
  },
  {
   "cell_type": "code",
   "execution_count": 36,
   "metadata": {
    "collapsed": true
   },
   "outputs": [],
   "source": [
    "brooklyn_03.index=pd.to_datetime(brooklyn_03['SALE_DATE'])"
   ]
  },
  {
   "cell_type": "code",
   "execution_count": 37,
   "metadata": {
    "collapsed": true
   },
   "outputs": [],
   "source": [
    "brooklyn_16.index=pd.to_datetime(brooklyn_16['SALE_DATE'])"
   ]
  },
  {
   "cell_type": "code",
   "execution_count": 45,
   "metadata": {
    "collapsed": false
   },
   "outputs": [
    {
     "name": "stdout",
     "output_type": "stream",
     "text": [
      "<class 'pandas.core.frame.DataFrame'>\n",
      "DatetimeIndex: 39177 entries, 2003-10-16 to 2003-12-16\n",
      "Data columns (total 21 columns):\n",
      "BOROUGH                           39177 non-null int64\n",
      "NEIGHBORHOOD                      39177 non-null object\n",
      "BUILDING_CLASS_CATEGORY           39177 non-null object\n",
      "TAX_CLASS_AT_PRESENT              39177 non-null object\n",
      "BLOCK                             39177 non-null int64\n",
      "LOT                               39177 non-null int64\n",
      "EASE-MENT                         39177 non-null object\n",
      "BUILDING_CLASS_AT_PRESENT         39177 non-null object\n",
      "ADDRESS                           39177 non-null object\n",
      "APARTMENT_NUMBER                  39177 non-null object\n",
      "ZIP_CODE                          39177 non-null int64\n",
      "RESIDENTIAL_UNITS                 39177 non-null object\n",
      "COMMERCIAL_UNITS                  39177 non-null int64\n",
      "TOTAL_UNITS                       39177 non-null object\n",
      "LAND_SQUARE_FEET                  39177 non-null object\n",
      "GROSS_SQUARE_FEET                 39177 non-null object\n",
      "YEAR_BUILT                        39177 non-null int64\n",
      "TAX_CLASS_AT_TIME_OF_SALE         39177 non-null int64\n",
      "BUILDING_CLASS_AT_TIME_OF_SALE    39177 non-null object\n",
      "SALE_PRICE                        39177 non-null int64\n",
      "SALE_DATE                         39177 non-null datetime64[ns]\n",
      "dtypes: datetime64[ns](1), int64(8), object(12)\n",
      "memory usage: 6.6+ MB\n"
     ]
    }
   ],
   "source": [
    "queens_03.info()"
   ]
  },
  {
   "cell_type": "code",
   "execution_count": 42,
   "metadata": {
    "collapsed": false
   },
   "outputs": [],
   "source": [
    "queens_03.to_csv('queens_clean_03.csv')\n",
    "queens_16.to_csv('queens_clean_16.csv')\n",
    "brooklyn_03.to_csv('brooklyn_clean_03.csv')\n",
    "brooklyn_16.to_csv('brooklyn_clean_16.csv')"
   ]
  }
 ],
 "metadata": {
  "anaconda-cloud": {},
  "kernelspec": {
   "display_name": "Python [Root]",
   "language": "python",
   "name": "Python [Root]"
  },
  "language_info": {
   "codemirror_mode": {
    "name": "ipython",
    "version": 3
   },
   "file_extension": ".py",
   "mimetype": "text/x-python",
   "name": "python",
   "nbconvert_exporter": "python",
   "pygments_lexer": "ipython3",
   "version": "3.5.2"
  }
 },
 "nbformat": 4,
 "nbformat_minor": 0
}
