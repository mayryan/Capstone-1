{
 "cells": [
  {
   "cell_type": "code",
   "execution_count": 1,
   "metadata": {},
   "outputs": [],
   "source": [
    "%matplotlib inline\n",
    "import numpy as np\n",
    "#import scipy as sp\n",
    "import matplotlib.pyplot as plt\n",
    "import seaborn as sns\n",
    "from sklearn.model_selection import train_test_split\n",
    "import pandas as pd\n",
    "from sklearn.linear_model import LogisticRegression\n",
    "from sklearn.metrics import accuracy_score"
   ]
  },
  {
   "cell_type": "code",
   "execution_count": 2,
   "metadata": {},
   "outputs": [],
   "source": [
    "brooklyn=pd.read_csv('brooklyn.csv', low_memory=False)\n",
    "queens=pd.read_csv('queens.csv', low_memory=False)\n",
    "brooklyn_homes=pd.read_csv('brooklyn_homes.csv')\n",
    "queens_homes=pd.read_csv('queens_homes.csv')\n",
    "queens_low_val=pd.read_csv('queens_low_val.csv')\n",
    "brooklyn_low_val=pd.read_csv('brooklyn_low_val.csv')\n",
    "queens=queens.dropna()\n",
    "brooklyn=brooklyn.dropna()\n",
    "queens=queens.replace(' -   ','')\n",
    "queens=queens.replace(' -   ','')"
   ]
  },
  {
   "cell_type": "markdown",
   "metadata": {},
   "source": [
    "## Logistic Regression"
   ]
  },
  {
   "cell_type": "code",
   "execution_count": 3,
   "metadata": {},
   "outputs": [],
   "source": [
    "Xqlr, Xqtestlr, yqlr, yqtestlr=train_test_split(queens[['sale_price_clean','year', 'month', 'gross_square_feet']].values, queens['neighborhood'].values, random_state=5)"
   ]
  },
  {
   "cell_type": "code",
   "execution_count": 4,
   "metadata": {},
   "outputs": [
    {
     "name": "stdout",
     "output_type": "stream",
     "text": [
      "Accuracy Score For Queens: 0.08618556701030927\n"
     ]
    }
   ],
   "source": [
    "clf=LogisticRegression()\n",
    "clf.fit(Xqlr, yqlr)\n",
    "print('Accuracy Score For Queens:', accuracy_score(clf.predict(Xqtestlr), yqtestlr))"
   ]
  },
  {
   "cell_type": "markdown",
   "metadata": {
    "collapsed": true
   },
   "source": [
    "This classification model is only 8.61% accurate in predicting the neighborhood in which a sale took place."
   ]
  },
  {
   "cell_type": "code",
   "execution_count": 5,
   "metadata": {},
   "outputs": [],
   "source": [
    "Xqhlr, Xqhtestlr, yqhlr, yqhtestlr=train_test_split(queens_homes[['sale_price_clean','year', 'gross_square_feet', 'month']].values, queens_homes['neighborhood'].values, random_state=5)"
   ]
  },
  {
   "cell_type": "code",
   "execution_count": 6,
   "metadata": {},
   "outputs": [
    {
     "name": "stdout",
     "output_type": "stream",
     "text": [
      "Accuracy Score For Queens Homes: 0.1136004217185029\n"
     ]
    }
   ],
   "source": [
    "clf.fit(Xqhlr, yqhlr)\n",
    "print('Accuracy Score For Queens Homes:', accuracy_score(clf.predict(Xqhtestlr), yqhtestlr))"
   ]
  },
  {
   "cell_type": "markdown",
   "metadata": {},
   "source": [
    "The model is marginally better at 11.36% correct for homes sold in Queens"
   ]
  },
  {
   "cell_type": "code",
   "execution_count": 7,
   "metadata": {},
   "outputs": [],
   "source": [
    "Xblr, Xbtestlr, yblr, ybtestlr=train_test_split(brooklyn[['sale_price_clean','year', 'gross_square_feet', 'month']].values, brooklyn['neighborhood'].values, random_state=5)"
   ]
  },
  {
   "cell_type": "code",
   "execution_count": 8,
   "metadata": {},
   "outputs": [
    {
     "name": "stdout",
     "output_type": "stream",
     "text": [
      "Accuracy Score for Brooklyn: 0.10139979515192898\n"
     ]
    }
   ],
   "source": [
    "clf.fit(Xblr, yblr)\n",
    "print('Accuracy Score for Brooklyn:', accuracy_score(clf.predict(Xbtestlr), ybtestlr))"
   ]
  },
  {
   "cell_type": "markdown",
   "metadata": {},
   "source": [
    "The accuracy score for Brooklyn is marginally worse at 10.14% but that is still not acceptable.  Perhaps a model to predict the class of building sold could be more accurate"
   ]
  },
  {
   "cell_type": "code",
   "execution_count": 9,
   "metadata": {},
   "outputs": [],
   "source": [
    "Xbhlr, Xbhtestlr, ybhlr, ybhtestlr=train_test_split(brooklyn_homes[['sale_price_clean','year', 'month', 'gross_square_feet']].values, brooklyn_homes['neighborhood'].values, random_state=5)"
   ]
  },
  {
   "cell_type": "code",
   "execution_count": 10,
   "metadata": {},
   "outputs": [
    {
     "name": "stdout",
     "output_type": "stream",
     "text": [
      "Accuracy Score For Brooklyn Homes: 0.11897810218978103\n"
     ]
    }
   ],
   "source": [
    "clf.fit(Xbhlr, ybhlr)\n",
    "print('Accuracy Score For Brooklyn Homes:', accuracy_score(clf.predict(Xbhtestlr), ybhtestlr))"
   ]
  },
  {
   "cell_type": "markdown",
   "metadata": {},
   "source": [
    "Again, the model is better for homes than the whole borough, but 11.898% is not acceptable."
   ]
  },
  {
   "cell_type": "code",
   "execution_count": 11,
   "metadata": {},
   "outputs": [],
   "source": [
    "Xqlr2, Xqtestlr2, yqlr2, yqtestlr2=train_test_split(queens[['sale_price_clean','year', 'month', 'gross_square_feet']].values, queens['building_class_category'].values, random_state=5)"
   ]
  },
  {
   "cell_type": "code",
   "execution_count": 12,
   "metadata": {},
   "outputs": [
    {
     "name": "stdout",
     "output_type": "stream",
     "text": [
      "Accuracy Score for Queens Building Category: 0.5584879725085911\n"
     ]
    }
   ],
   "source": [
    "clf.fit(Xqlr2, yqlr2)\n",
    "print('Accuracy Score for Queens Building Category:', accuracy_score(clf.predict(Xqtestlr), yqtestlr2))"
   ]
  },
  {
   "cell_type": "markdown",
   "metadata": {
    "collapsed": true
   },
   "source": [
    "Although the score is much improved from the Neighborhood model (55.84% correct), it is still almost a 50-50 chance of getting the building category correct."
   ]
  },
  {
   "cell_type": "code",
   "execution_count": 13,
   "metadata": {},
   "outputs": [],
   "source": [
    "Xblr2, Xbtestlr2, yblr2, ybtestlr2=train_test_split(brooklyn[['sale_price_clean','year', 'month', 'gross_square_feet']].values, brooklyn['building_class_category'].values, random_state=5)"
   ]
  },
  {
   "cell_type": "code",
   "execution_count": 14,
   "metadata": {},
   "outputs": [
    {
     "name": "stdout",
     "output_type": "stream",
     "text": [
      "Accuracy Score for Brooklyn Building Category: 0.23386821440764766\n"
     ]
    }
   ],
   "source": [
    "clf.fit(Xblr2, yblr2)\n",
    "print('Accuracy Score for Brooklyn Building Category:', accuracy_score(clf.predict(Xbtestlr), ybtestlr2))"
   ]
  },
  {
   "cell_type": "markdown",
   "metadata": {},
   "source": [
    "The accuracy score for Brooklyn shows that the model is not as good at predicting building categories in Brooklyn, as it is in Queens.  23.39% is not a good accuracy score but it is better than 11.898% accuracy score for predicting Neighborhoods in Brooklyn."
   ]
  },
  {
   "cell_type": "code",
   "execution_count": 15,
   "metadata": {},
   "outputs": [],
   "source": [
    "Xqlr3, Xqtestlr3, yqlr3, yqtestlr3=train_test_split(queens[['sale_price_clean','gross_square_feet', 'month']].values, queens['year'].values, random_state=5)"
   ]
  },
  {
   "cell_type": "code",
   "execution_count": 16,
   "metadata": {},
   "outputs": [
    {
     "name": "stdout",
     "output_type": "stream",
     "text": [
      "Accuracy Score for Year of Sale In Queens: 0.7499656357388316\n"
     ]
    }
   ],
   "source": [
    "clf.fit(Xqlr3, yqlr3)\n",
    "print('Accuracy Score for Year of Sale In Queens:', accuracy_score(clf.predict(Xqtestlr3), yqtestlr3))"
   ]
  },
  {
   "cell_type": "code",
   "execution_count": 17,
   "metadata": {},
   "outputs": [],
   "source": [
    "Xblr3, Xbtestlr3, yblr3, ybtestlr3=train_test_split(brooklyn[['sale_price_clean','gross_square_feet_c', 'month']].values, brooklyn['year'].values, random_state=5)"
   ]
  },
  {
   "cell_type": "code",
   "execution_count": 18,
   "metadata": {},
   "outputs": [
    {
     "name": "stdout",
     "output_type": "stream",
     "text": [
      "Accuracy Score for Accuracy Score for Year of Sale In Brooklyn: 0.7606691703653123\n"
     ]
    }
   ],
   "source": [
    "clf.fit(Xblr3, yblr3)\n",
    "print('Accuracy Score for Accuracy Score for Year of Sale In Brooklyn:', accuracy_score(clf.predict(Xbtestlr3), ybtestlr3))"
   ]
  },
  {
   "cell_type": "markdown",
   "metadata": {
    "collapsed": true
   },
   "source": [
    "The model is much better at predicting the year a sale took place in.  The year of a sale was correctly predicted at around 75% for both boroughs."
   ]
  },
  {
   "cell_type": "markdown",
   "metadata": {},
   "source": [
    "## Linear Regression"
   ]
  },
  {
   "cell_type": "code",
   "execution_count": 19,
   "metadata": {},
   "outputs": [],
   "source": [
    "from statsmodels.formula.api import ols"
   ]
  },
  {
   "cell_type": "code",
   "execution_count": 20,
   "metadata": {},
   "outputs": [
    {
     "name": "stderr",
     "output_type": "stream",
     "text": [
      "C:\\Users\\Ryan May\\Anaconda3\\lib\\site-packages\\statsmodels\\compat\\pandas.py:56: FutureWarning: The pandas.core.datetools module is deprecated and will be removed in a future version. Please use the pandas.tseries module instead.\n",
      "  from pandas.core import datetools\n"
     ]
    }
   ],
   "source": [
    "import statsmodels.api as sm"
   ]
  },
  {
   "cell_type": "code",
   "execution_count": 21,
   "metadata": {
    "scrolled": false
   },
   "outputs": [
    {
     "name": "stdout",
     "output_type": "stream",
     "text": [
      "                            OLS Regression Results                            \n",
      "==============================================================================\n",
      "Dep. Variable:       sale_price_clean   R-squared:                       0.053\n",
      "Model:                            OLS   Adj. R-squared:                  0.053\n",
      "Method:                 Least Squares   F-statistic:                     821.5\n",
      "Date:                Tue, 22 May 2018   Prob (F-statistic):               0.00\n",
      "Time:                        13:32:10   Log-Likelihood:            -4.7314e+05\n",
      "No. Observations:               29099   AIC:                         9.463e+05\n",
      "Df Residuals:                   29096   BIC:                         9.463e+05\n",
      "Df Model:                           2                                         \n",
      "Covariance Type:            nonrobust                                         \n",
      "=====================================================================================\n",
      "                        coef    std err          t      P>|t|      [0.025      0.975]\n",
      "-------------------------------------------------------------------------------------\n",
      "Intercept         -8.735e+07   5.18e+06    -16.861      0.000   -9.75e+07   -7.72e+07\n",
      "gross_square_feet    17.2369      0.466     36.994      0.000      16.324      18.150\n",
      "year               4.378e+04   2579.820     16.971      0.000    3.87e+04    4.88e+04\n",
      "==============================================================================\n",
      "Omnibus:                    89462.177   Durbin-Watson:                   1.602\n",
      "Prob(Omnibus):                  0.000   Jarque-Bera (JB):      12905726183.653\n",
      "Skew:                          46.814   Prob(JB):                         0.00\n",
      "Kurtosis:                    3264.211   Cond. No.                     1.12e+07\n",
      "==============================================================================\n",
      "\n",
      "Warnings:\n",
      "[1] Standard Errors assume that the covariance matrix of the errors is correctly specified.\n",
      "[2] The condition number is large, 1.12e+07. This might indicate that there are\n",
      "strong multicollinearity or other numerical problems.\n"
     ]
    }
   ],
   "source": [
    "mq=ols('sale_price_clean~gross_square_feet+year', queens).fit()\n",
    "print(mq.summary())"
   ]
  },
  {
   "cell_type": "markdown",
   "metadata": {},
   "source": [
    "Above is the linear regression table for the sale price and the gross square feet of sales in Queens.  The coefficent of 17.1496 means that for each additional square foot generates and additional 17.1496 dollars in value on the property.  The year of the sale is interestly the most important variable at an additional $43,880 if a building is sold in 2016 rather than 2003."
   ]
  },
  {
   "cell_type": "code",
   "execution_count": 22,
   "metadata": {},
   "outputs": [
    {
     "name": "stdout",
     "output_type": "stream",
     "text": [
      "                            OLS Regression Results                            \n",
      "==============================================================================\n",
      "Dep. Variable:       sale_price_clean   R-squared:                       0.167\n",
      "Model:                            OLS   Adj. R-squared:                  0.167\n",
      "Method:                 Least Squares   F-statistic:                     2357.\n",
      "Date:                Tue, 22 May 2018   Prob (F-statistic):               0.00\n",
      "Time:                        13:32:10   Log-Likelihood:            -3.8534e+05\n",
      "No. Observations:               23431   AIC:                         7.707e+05\n",
      "Df Residuals:                   23428   BIC:                         7.707e+05\n",
      "Df Model:                           2                                         \n",
      "Covariance Type:            nonrobust                                         \n",
      "=====================================================================================\n",
      "                        coef    std err          t      P>|t|      [0.025      0.975]\n",
      "-------------------------------------------------------------------------------------\n",
      "Intercept         -1.647e+08   6.95e+06    -23.700      0.000   -1.78e+08   -1.51e+08\n",
      "gross_square_feet    99.3462      1.543     64.365      0.000      96.321     102.372\n",
      "year               8.224e+04   3460.592     23.766      0.000    7.55e+04     8.9e+04\n",
      "==============================================================================\n",
      "Omnibus:                    70507.616   Durbin-Watson:                   1.633\n",
      "Prob(Omnibus):                  0.000   Jarque-Bera (JB):      11602210873.939\n",
      "Skew:                          43.873   Prob(JB):                         0.00\n",
      "Kurtosis:                    3449.195   Cond. No.                     4.69e+06\n",
      "==============================================================================\n",
      "\n",
      "Warnings:\n",
      "[1] Standard Errors assume that the covariance matrix of the errors is correctly specified.\n",
      "[2] The condition number is large, 4.69e+06. This might indicate that there are\n",
      "strong multicollinearity or other numerical problems.\n"
     ]
    }
   ],
   "source": [
    "mb=ols('sale_price_clean~gross_square_feet+year', brooklyn).fit()\n",
    "print(mb.summary())"
   ]
  },
  {
   "cell_type": "markdown",
   "metadata": {},
   "source": [
    "The coeffiencient for Brooklyn is quite higher at 99.4183, meaning that an additional square foot in Brooklyn is worth 5.79 times more than an additional square foot in Queens.  The year is even more important for Brooklyn at an additional $82,240 if a bulilding is sold in 2016 rather than 2003."
   ]
  },
  {
   "cell_type": "code",
   "execution_count": 23,
   "metadata": {},
   "outputs": [],
   "source": [
    "from sklearn.linear_model import LinearRegression"
   ]
  },
  {
   "cell_type": "code",
   "execution_count": 24,
   "metadata": {},
   "outputs": [],
   "source": [
    "lm=LinearRegression()"
   ]
  },
  {
   "cell_type": "code",
   "execution_count": 25,
   "metadata": {},
   "outputs": [
    {
     "name": "stderr",
     "output_type": "stream",
     "text": [
      "C:\\Users\\Ryan May\\Anaconda3\\lib\\site-packages\\ipykernel_launcher.py:1: UserWarning: Pandas doesn't allow columns to be created via a new attribute name - see https://pandas.pydata.org/pandas-docs/stable/indexing.html#attribute-access\n",
      "  \"\"\"Entry point for launching an IPython kernel.\n"
     ]
    }
   ],
   "source": [
    "queens.target=queens['sale_price_clean']"
   ]
  },
  {
   "cell_type": "code",
   "execution_count": 26,
   "metadata": {},
   "outputs": [],
   "source": [
    "X=pd.DataFrame(pd.get_dummies(queens[['building_class_category', 'neighborhood', 'tax_class_at_present', 'year', 'month', ]]))"
   ]
  },
  {
   "cell_type": "code",
   "execution_count": 27,
   "metadata": {},
   "outputs": [
    {
     "data": {
      "text/plain": [
       "LinearRegression(copy_X=True, fit_intercept=True, n_jobs=1, normalize=False)"
      ]
     },
     "execution_count": 27,
     "metadata": {},
     "output_type": "execute_result"
    }
   ],
   "source": [
    "lm.fit(X,queens.target)"
   ]
  },
  {
   "cell_type": "code",
   "execution_count": 28,
   "metadata": {},
   "outputs": [
    {
     "name": "stdout",
     "output_type": "stream",
     "text": [
      "Estimated Intercept Coefficient 1.4611850903754476e+16\n"
     ]
    }
   ],
   "source": [
    "print('Estimated Intercept Coefficient {}' .format(lm.intercept_))"
   ]
  },
  {
   "cell_type": "code",
   "execution_count": 29,
   "metadata": {},
   "outputs": [
    {
     "name": "stdout",
     "output_type": "stream",
     "text": [
      "Estimated Coefficents[ 3.59233862e+04  9.79441731e+03  1.83047268e+16  1.83047268e+16\n",
      "  1.83047268e+16  1.83047268e+16  1.83047268e+16  1.83047268e+16\n",
      "  1.83047268e+16  1.83047268e+16  1.83047268e+16  1.83047268e+16\n",
      "  1.83047269e+16  1.83047269e+16  1.83047268e+16  1.83047268e+16\n",
      "  1.83047268e+16  1.83047268e+16  1.83047268e+16  1.83047268e+16\n",
      "  1.83047268e+16  1.83047268e+16  1.83047268e+16  1.83047268e+16\n",
      "  1.83047268e+16  1.83047269e+16  1.83047268e+16  1.83047268e+16\n",
      "  1.83047268e+16  1.83047268e+16  1.09163719e+16  1.09163719e+16\n",
      "  1.09163719e+16  1.09163719e+16  1.09163719e+16  1.09163719e+16\n",
      "  1.09163719e+16  1.09163719e+16  1.09163719e+16  1.09163719e+16\n",
      "  1.09163719e+16  1.09163719e+16  1.09163719e+16  1.09163719e+16\n",
      "  1.09163719e+16  1.09163719e+16  1.09163719e+16  1.09163719e+16\n",
      "  1.09163719e+16  1.09163719e+16  1.09163719e+16  1.09163719e+16\n",
      "  1.09163719e+16  1.09163719e+16  1.09163719e+16  1.09163719e+16\n",
      "  1.09163719e+16  1.09163719e+16  1.09163719e+16  1.09163719e+16\n",
      "  1.09163719e+16  1.09163719e+16  1.09163719e+16  1.09163719e+16\n",
      "  1.09163719e+16  1.09163719e+16  1.09163719e+16  1.09163719e+16\n",
      "  1.09163719e+16  1.09163719e+16  1.09163719e+16  1.09163719e+16\n",
      "  1.09163719e+16  1.09163719e+16  1.09163719e+16  1.09163719e+16\n",
      "  1.09163719e+16  1.09163719e+16  1.09163719e+16  1.09163719e+16\n",
      "  1.09163719e+16  1.09163719e+16  1.09163719e+16  1.09163719e+16\n",
      "  1.09163719e+16  1.09163719e+16  1.09163719e+16  1.09163719e+16\n",
      "  1.09163719e+16 -4.38329497e+16 -4.38329497e+16 -4.38329497e+16\n",
      " -4.38329497e+16 -4.38329497e+16 -4.38329497e+16]\n"
     ]
    }
   ],
   "source": [
    "print('Estimated Coefficents{}' .format(lm.coef_))"
   ]
  },
  {
   "cell_type": "code",
   "execution_count": 30,
   "metadata": {},
   "outputs": [
    {
     "name": "stderr",
     "output_type": "stream",
     "text": [
      "C:\\Users\\Ryan May\\Anaconda3\\lib\\site-packages\\ipykernel_launcher.py:1: UserWarning: Pandas doesn't allow columns to be created via a new attribute name - see https://pandas.pydata.org/pandas-docs/stable/indexing.html#attribute-access\n",
      "  \"\"\"Entry point for launching an IPython kernel.\n"
     ]
    }
   ],
   "source": [
    "brooklyn.target=brooklyn['sale_price_clean']"
   ]
  },
  {
   "cell_type": "code",
   "execution_count": 31,
   "metadata": {},
   "outputs": [],
   "source": [
    "Xb=pd.DataFrame(pd.get_dummies(brooklyn[['building_class_category', 'neighborhood', 'tax_class_at_present', 'year', 'month', ]]))"
   ]
  },
  {
   "cell_type": "code",
   "execution_count": 32,
   "metadata": {},
   "outputs": [
    {
     "data": {
      "text/plain": [
       "LinearRegression(copy_X=True, fit_intercept=True, n_jobs=1, normalize=False)"
      ]
     },
     "execution_count": 32,
     "metadata": {},
     "output_type": "execute_result"
    }
   ],
   "source": [
    "lm.fit(Xb,brooklyn.target)"
   ]
  },
  {
   "cell_type": "code",
   "execution_count": 33,
   "metadata": {},
   "outputs": [
    {
     "name": "stdout",
     "output_type": "stream",
     "text": [
      "Estimated Intercept Coefficient 3148190189371888.5\n"
     ]
    }
   ],
   "source": [
    "print('Estimated Intercept Coefficient {}' .format(lm.intercept_))"
   ]
  },
  {
   "cell_type": "code",
   "execution_count": 34,
   "metadata": {},
   "outputs": [
    {
     "name": "stdout",
     "output_type": "stream",
     "text": [
      "Estimated Coefficents[ 6.76297706e+04  4.98477781e+03 -1.16519722e+15 -1.16519717e+15\n",
      " -1.16519723e+15 -1.16519723e+15 -1.16519724e+15 -1.16519724e+15\n",
      " -1.16519723e+15 -1.16519723e+15 -1.16519723e+15 -1.16519723e+15\n",
      " -1.16519723e+15 -1.16519723e+15 -1.16519723e+15 -1.16519721e+15\n",
      " -1.16519723e+15 -1.16519723e+15 -1.16519723e+15 -1.16519722e+15\n",
      " -1.16519723e+15 -1.16519723e+15 -1.16519724e+15 -1.16519723e+15\n",
      " -1.16519723e+15 -1.16519723e+15 -1.16519721e+15 -1.16519723e+15\n",
      " -1.16519723e+15 -1.16519723e+15 -7.94066704e+13 -7.94066704e+13\n",
      " -7.94066705e+13 -7.94066705e+13 -7.94066703e+13 -7.94066695e+13\n",
      " -7.94066704e+13 -7.94066708e+13 -7.94066639e+13 -7.94066708e+13\n",
      " -7.94066706e+13 -7.94066708e+13 -7.94066707e+13 -7.94066696e+13\n",
      " -7.94066698e+13 -7.94066692e+13 -7.94066703e+13 -7.94066706e+13\n",
      " -7.94066705e+13 -7.94066708e+13 -7.94066633e+13 -7.94066589e+13\n",
      " -7.94066628e+13 -7.94066704e+13 -7.94066708e+13 -7.94066708e+13\n",
      " -7.94066708e+13 -7.94066713e+13 -7.94066706e+13 -7.94066708e+13\n",
      " -7.94066701e+13 -7.94066708e+13 -7.94066703e+13 -7.94066705e+13\n",
      " -7.94066697e+13 -7.94066704e+13 -7.94066706e+13 -7.94066701e+13\n",
      " -7.94066707e+13 -7.94066705e+13 -7.94066704e+13 -7.94066648e+13\n",
      " -7.94066707e+13 -7.94066703e+13 -7.94066703e+13 -7.94066707e+13\n",
      " -7.94066694e+13 -7.94066699e+13 -7.94066693e+13 -7.94066712e+13\n",
      " -7.94066707e+13 -7.94066706e+13 -7.94066704e+13 -7.94066703e+13\n",
      " -7.94066697e+13 -7.94066657e+13 -7.94066682e+13 -7.94066702e+13\n",
      " -7.94066707e+13 -1.90358642e+15 -1.90358642e+15 -1.90358642e+15\n",
      " -1.90358642e+15 -1.90358642e+15 -1.90358642e+15]\n"
     ]
    }
   ],
   "source": [
    "print('Estimated Coefficents{}' .format(lm.coef_))"
   ]
  },
  {
   "cell_type": "code",
   "execution_count": null,
   "metadata": {},
   "outputs": [],
   "source": []
  }
 ],
 "metadata": {
  "anaconda-cloud": {},
  "kernelspec": {
   "display_name": "Python 3",
   "language": "python",
   "name": "python3"
  },
  "language_info": {
   "codemirror_mode": {
    "name": "ipython",
    "version": 3
   },
   "file_extension": ".py",
   "mimetype": "text/x-python",
   "name": "python",
   "nbconvert_exporter": "python",
   "pygments_lexer": "ipython3",
   "version": "3.6.4"
  }
 },
 "nbformat": 4,
 "nbformat_minor": 1
}
